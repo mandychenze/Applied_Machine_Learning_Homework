{
 "cells": [
  {
   "cell_type": "markdown",
   "metadata": {},
   "source": [
    "# HW5 Data Preparation"
   ]
  },
  {
   "cell_type": "code",
   "execution_count": 282,
   "metadata": {},
   "outputs": [],
   "source": [
    "from sklearn.model_selection import train_test_split\n",
    "import pandas as pd\n",
    "import numpy as np\n",
    "import os\n",
    "from glob import glob\n",
    "import matplotlib.pylab as plt\n",
    "%matplotlib inline"
   ]
  },
  {
   "cell_type": "markdown",
   "metadata": {},
   "source": [
    "reference: http://www.degeneratestate.org/posts/2016/Oct/23/image-processing-with-numpy/"
   ]
  },
  {
   "cell_type": "code",
   "execution_count": 8,
   "metadata": {},
   "outputs": [
    {
     "name": "stdout",
     "output_type": "stream",
     "text": [
      "['9036', '10268', '10257', '8913', '13613', '8914', '15510', '10259', '16165', '10292', '12951', '10261', '10295', '9259', '12750', '13020', '16552', '12905', '9266', '16555', '13018', '9261', '9257', '12934', '12933', '9250', '10260', '10258', '10293', '9037', '10269', '16531', '10256', '15516', '12932', '12935', '9256', '16554', '9260', '13019', '16553', '13021', '8984', '9258', '12751', '9267', '12876', '12882', '15634', '12871', '14188', '15633', '9324', '12878', '.DS_Store', '9323', '9383', '8867', '9346', '9174', '12822', '9173', '9322', '9325', '12879', '14189', '12870', '12884', '12241', '15632', '12883', '12877', '9126', '13106', '12823', '13591', '9175', '12824', '9347', '9181', '9382', '10307', '13916', '10300', '14306', '15471', '16896', '14156', '9135', '12890', '12897', '10308', '10301', '10306', '12896', '14157', '12891', '12898', '14192', '13458', '9083', '9077', '13460', '8955', '12910', '9041', '14210', '14082', '10274', '9227', '10273', '13402', '14078', '9023', '12911', '14211', '13691', '9078', '12929', '13461', '9076', '13459', '16570', '9022', '10288', '9228', '14079', '10286', '13403', '10272', '10275', '13404', '9226', '13024', '8975', '16569', '12901', '9262', '13023', '16551', '9265', '12906', '9291', '12930', '13688', '12908', '9254', '16534', '8917', '15513', '10253', '9035', '10254', '15514', '16533', '13617', '10262', '12955', '16166', '10291', '12909', '9255', '14209', '12931', '13689', '16550', '13022', '12752', '9290', '12907', '13687', '8980', '8974', '13025', '12900', '16568', '12954', '10264', '16167', '10290', '8918', '16532', '13616', '15515', '10255', '10299', '15512', '8916', '8864', '12810', '8863', '12817', '14321', '12821', '12819', '12826', '9177', '9345', '12886', '9123', '12872', '9124', '12875', '12881', '9320', '12818', '16014', '9344', '9176', '12820', '9178', '9381', '15839', '8865', '12811', '9319', '9321', '16085', '12880', '9125', '12873', '12242', '12626', '16895', '14190', '12869', '12894', '14155', '12867', '12893', '10303', '10304', '15472', '14305', '14154', '12892', '14153', '12895', '12868', '14191', '15840', '14304', '15473', '10305', '10302', '13401', '14081', '9029', '10277', '12947', '12949', '10279', '12748', '9073', '8956', '8951', '14213', '13694', '15903', '13693', '12948', '10278', '10276', '10282', '9225', '10285', '13400', '15902', '9044', '13666', '13692', '9043', '8959', '14212', '9075', '9081', '8950', '12749', '13462', '8957']\n"
     ]
    }
   ],
   "source": [
    "print(os.listdir(\"IDC_regular_ps50_idx5\"))"
   ]
  },
  {
   "cell_type": "code",
   "execution_count": 20,
   "metadata": {},
   "outputs": [],
   "source": [
    "Data = glob('IDC_regular_ps50_idx5/**/*.png', recursive=True) "
   ]
  },
  {
   "cell_type": "code",
   "execution_count": 23,
   "metadata": {},
   "outputs": [
    {
     "data": {
      "text/plain": [
       "277524"
      ]
     },
     "execution_count": 23,
     "metadata": {},
     "output_type": "execute_result"
    }
   ],
   "source": [
    "len(Data)"
   ]
  },
  {
   "cell_type": "code",
   "execution_count": 27,
   "metadata": {},
   "outputs": [
    {
     "data": {
      "text/plain": [
       "'/Users/zechen/Desktop/AML/Homework/HW5'"
      ]
     },
     "execution_count": 27,
     "metadata": {},
     "output_type": "execute_result"
    }
   ],
   "source": [
    "pwd"
   ]
  },
  {
   "cell_type": "code",
   "execution_count": 46,
   "metadata": {},
   "outputs": [],
   "source": [
    "import cv2\n",
    "import glob\n",
    "import numpy as np"
   ]
  },
  {
   "cell_type": "code",
   "execution_count": 71,
   "metadata": {},
   "outputs": [],
   "source": [
    "folder_lst = os.listdir(\"IDC_regular_ps50_idx5\")"
   ]
  },
  {
   "cell_type": "code",
   "execution_count": 73,
   "metadata": {},
   "outputs": [],
   "source": [
    "train = []\n",
    "train_labels = []"
   ]
  },
  {
   "cell_type": "code",
   "execution_count": 181,
   "metadata": {},
   "outputs": [
    {
     "data": {
      "text/plain": [
       "(277524, 50, 50, 3)"
      ]
     },
     "execution_count": 181,
     "metadata": {},
     "output_type": "execute_result"
    }
   ],
   "source": [
    "image_train  =  np.ndarray((277524, 50, 50,3),dtype = np.uint8)\n",
    "image_train.shape"
   ]
  },
  {
   "cell_type": "code",
   "execution_count": 62,
   "metadata": {},
   "outputs": [],
   "source": [
    "img = cv2.imread('IDC_regular_ps50_idx5/9036/0/9036_idx5_x2151_y1301_class0.png')"
   ]
  },
  {
   "cell_type": "code",
   "execution_count": null,
   "metadata": {},
   "outputs": [],
   "source": [
    "files = glob.glob (\"/data/train/class1/*.png\") # your image path\n",
    "for myFile in files:\n",
    "    image = cv2.imread (myFile)\n",
    "    train.append (image)\n",
    "    train_labels.append([1., 0.])"
   ]
  },
  {
   "cell_type": "code",
   "execution_count": 198,
   "metadata": {},
   "outputs": [],
   "source": [
    "folder_lst = os.listdir(\"IDC_regular_ps50_idx5\")\n",
    "image_train  =  np.ndarray((277524, 50, 50,3),dtype = np.uint8)\n",
    "train = []\n",
    "train_labels = []\n",
    "i=0\n",
    "for item in folder_lst:\n",
    "    path = \"IDC_regular_ps50_idx5/*\"+item+\"/1/*.png\"\n",
    "    files = glob.glob(path) # your image path\n",
    "    for myFile in files:\n",
    "        image = cv2.imread(myFile)\n",
    "        #print(type(train))\n",
    "        #print(train)\n",
    "        image_train[i] = cv2.resize(image,(50,50))\n",
    "        train_labels.append([1., 0.])\n",
    "        i+=1\n",
    "    \n",
    "    path2 = \"IDC_regular_ps50_idx5/*\"+item+\"/0/*.png\"\n",
    "    files2 = glob.glob(path2)\n",
    "    for myFile2 in files2:\n",
    "        image2 = cv2.imread(myFile2)\n",
    "        image_train[i] = cv2.resize(image2,(50,50))\n",
    "        train_labels.append([0., 1.])\n",
    "        i+=1\n",
    "    "
   ]
  },
  {
   "cell_type": "code",
   "execution_count": 207,
   "metadata": {},
   "outputs": [],
   "source": [
    "train_labels = np.array(train_labels)\n",
    "np.save('train',train)\n",
    "np.save('train_labels',train_labels)\n",
    "np.save('image_train',image_train)"
   ]
  },
  {
   "cell_type": "code",
   "execution_count": 304,
   "metadata": {},
   "outputs": [],
   "source": [
    "image_train = np.load('image_train.npy')\n",
    "train_labels = np.load('train_labels.npy')"
   ]
  },
  {
   "cell_type": "code",
   "execution_count": 326,
   "metadata": {},
   "outputs": [],
   "source": [
    "X_train_sub, X_test_sub, y_train_sub, y_test_sub = train_test_split(image_train,train_labels, test_size = 0.78)"
   ]
  },
  {
   "cell_type": "code",
   "execution_count": 327,
   "metadata": {},
   "outputs": [
    {
     "data": {
      "text/plain": [
       "(61055, 50, 50, 3)"
      ]
     },
     "execution_count": 327,
     "metadata": {},
     "output_type": "execute_result"
    }
   ],
   "source": [
    "X_train_sub.shape"
   ]
  },
  {
   "cell_type": "code",
   "execution_count": 328,
   "metadata": {},
   "outputs": [
    {
     "data": {
      "text/plain": [
       "(216469, 50, 50, 3)"
      ]
     },
     "execution_count": 328,
     "metadata": {},
     "output_type": "execute_result"
    }
   ],
   "source": [
    "X_test_sub.shape"
   ]
  },
  {
   "cell_type": "code",
   "execution_count": 329,
   "metadata": {},
   "outputs": [],
   "source": [
    "np.save('X_train_sub',X_train_sub)\n",
    "np.save('y_train_sub',y_train_sub)"
   ]
  },
  {
   "cell_type": "markdown",
   "metadata": {},
   "source": [
    "Plot numpy array to image to double check"
   ]
  },
  {
   "cell_type": "code",
   "execution_count": 261,
   "metadata": {},
   "outputs": [],
   "source": [
    "def plti(im, h=8, **kwargs):\n",
    "    \"\"\"\n",
    "    Helper function to plot an image.\n",
    "    \"\"\"\n",
    "    y = im.shape[0]\n",
    "    x = im.shape[1]\n",
    "    w = (y/x) * h\n",
    "    plt.figure(figsize=(w,h))\n",
    "    plt.imshow(im, interpolation=\"none\", **kwargs)\n",
    "    plt.axis('off')\n"
   ]
  },
  {
   "cell_type": "code",
   "execution_count": 260,
   "metadata": {},
   "outputs": [
    {
     "data": {
      "text/plain": [
       "array([[[0.9607843 , 0.9372549 , 0.9529412 ],\n",
       "        [0.93333334, 0.88235295, 0.9137255 ],\n",
       "        [0.81960785, 0.6313726 , 0.74509805],\n",
       "        ...,\n",
       "        [0.8980392 , 0.8117647 , 0.88235295],\n",
       "        [0.91764706, 0.8392157 , 0.88235295],\n",
       "        [0.9137255 , 0.8235294 , 0.8862745 ]],\n",
       "\n",
       "       [[0.95686275, 0.9411765 , 0.9529412 ],\n",
       "        [0.9490196 , 0.92941177, 0.9529412 ],\n",
       "        [0.87058824, 0.7607843 , 0.8235294 ],\n",
       "        ...,\n",
       "        [0.9647059 , 0.9372549 , 0.9411765 ],\n",
       "        [0.9372549 , 0.8745098 , 0.92156863],\n",
       "        [0.84313726, 0.654902  , 0.7490196 ]],\n",
       "\n",
       "       [[0.9647059 , 0.94509804, 0.9607843 ],\n",
       "        [0.92941177, 0.8862745 , 0.9098039 ],\n",
       "        [0.8980392 , 0.8039216 , 0.87058824],\n",
       "        ...,\n",
       "        [0.8627451 , 0.70980394, 0.8039216 ],\n",
       "        [0.8235294 , 0.64705884, 0.76862746],\n",
       "        [0.79607844, 0.61960787, 0.73333335]],\n",
       "\n",
       "       ...,\n",
       "\n",
       "       [[0.73333335, 0.50980395, 0.64705884],\n",
       "        [0.8156863 , 0.5686275 , 0.7058824 ],\n",
       "        [0.7921569 , 0.53333336, 0.6666667 ],\n",
       "        ...,\n",
       "        [0.9529412 , 0.94509804, 0.9529412 ],\n",
       "        [0.9490196 , 0.9607843 , 0.94509804],\n",
       "        [0.9607843 , 0.9490196 , 0.96862745]],\n",
       "\n",
       "       [[0.7294118 , 0.44705883, 0.627451  ],\n",
       "        [0.8627451 , 0.64705884, 0.76862746],\n",
       "        [0.72156864, 0.39607844, 0.5647059 ],\n",
       "        ...,\n",
       "        [0.95686275, 0.9607843 , 0.95686275],\n",
       "        [0.9607843 , 0.9490196 , 0.9607843 ],\n",
       "        [0.95686275, 0.94509804, 0.95686275]],\n",
       "\n",
       "       [[0.7176471 , 0.4       , 0.5803922 ],\n",
       "        [0.7411765 , 0.4117647 , 0.5764706 ],\n",
       "        [0.6156863 , 0.27058825, 0.43529412],\n",
       "        ...,\n",
       "        [0.95686275, 0.9607843 , 0.95686275],\n",
       "        [0.9647059 , 0.95686275, 0.96862745],\n",
       "        [0.94509804, 0.9647059 , 0.95686275]]], dtype=float32)"
      ]
     },
     "execution_count": 260,
     "metadata": {},
     "output_type": "execute_result"
    }
   ],
   "source": [
    "im = plt.imread(\"IDC_regular_ps50_idx5/9036/0/9036_idx5_x2151_y1301_class0.png\")\n",
    "im"
   ]
  },
  {
   "cell_type": "code",
   "execution_count": 161,
   "metadata": {},
   "outputs": [
    {
     "data": {
      "text/plain": [
       "(277524,)"
      ]
     },
     "execution_count": 161,
     "metadata": {},
     "output_type": "execute_result"
    }
   ],
   "source": [
    "train.shape"
   ]
  },
  {
   "cell_type": "code",
   "execution_count": 262,
   "metadata": {},
   "outputs": [
    {
     "data": {
      "image/png": "[encoded data removed]",
      "text/plain": [
       "<Figure size 576x576 with 1 Axes>"
      ]
     },
     "metadata": {
      "needs_background": "light"
     },
     "output_type": "display_data"
    }
   ],
   "source": [
    "plti(im)"
   ]
  }
 ],
 "metadata": {
  "kernelspec": {
   "display_name": "Python 3",
   "language": "python",
   "name": "python3"
  },
  "language_info": {
   "codemirror_mode": {
    "name": "ipython",
    "version": 3
   },
   "file_extension": ".py",
   "mimetype": "text/x-python",
   "name": "python",
   "nbconvert_exporter": "python",
   "pygments_lexer": "ipython3",
   "version": "3.7.3"
  }
 },
 "nbformat": 4,
 "nbformat_minor": 2
}

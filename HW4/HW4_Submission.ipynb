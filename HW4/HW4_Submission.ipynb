{
 "cells": [
  {
   "cell_type": "markdown",
   "metadata": {},
   "source": [
    "# HW4 - Text Classification"
   ]
  },
  {
   "cell_type": "markdown",
   "metadata": {},
   "source": [
    "Student Name: Chunran Yao, Ze Chen"
   ]
  },
  {
   "cell_type": "code",
   "execution_count": 20,
   "metadata": {},
   "outputs": [],
   "source": [
    "import pandas as pd\n",
    "import numpy as np\n",
    "from sklearn.feature_extraction.text import CountVectorizer\n",
    "from sklearn.linear_model import LogisticRegressionCV\n",
    "import warnings\n",
    "warnings.filterwarnings('ignore')\n",
    "from sklearn.feature_extraction.text import TfidfVectorizer, TfidfTransformer\n",
    "from sklearn.pipeline import make_pipeline\n",
    "from sklearn.pipeline import Pipeline\n",
    "from sklearn.model_selection import GridSearchCV \n",
    "from sklearn.linear_model import LogisticRegression \n",
    "from sklearn.preprocessing import Normalizer\n",
    "from scipy.sparse import coo_matrix, hstack\n",
    "from gensim import models\n",
    "import re\n",
    "import gensim.parsing.preprocessing as preprocessing\n",
    "import matplotlib.pyplot as plt"
   ]
  },
  {
   "cell_type": "markdown",
   "metadata": {},
   "source": [
    "**import data**"
   ]
  },
  {
   "cell_type": "code",
   "execution_count": 44,
   "metadata": {},
   "outputs": [
    {
     "data": {
      "text/plain": [
       "(167529, 8)"
      ]
     },
     "execution_count": 44,
     "metadata": {},
     "output_type": "execute_result"
    }
   ],
   "source": [
    "train_data = pd.read_csv(\"reddit_200k_train.csv\", encoding = 'latin1') \n",
    "train_data.shape"
   ]
  },
  {
   "cell_type": "code",
   "execution_count": 5,
   "metadata": {},
   "outputs": [
    {
     "data": {
      "text/html": [
       "<div>\n",
       "<style scoped>\n",
       "    .dataframe tbody tr th:only-of-type {\n",
       "        vertical-align: middle;\n",
       "    }\n",
       "\n",
       "    .dataframe tbody tr th {\n",
       "        vertical-align: top;\n",
       "    }\n",
       "\n",
       "    .dataframe thead th {\n",
       "        text-align: right;\n",
       "    }\n",
       "</style>\n",
       "<table border=\"1\" class=\"dataframe\">\n",
       "  <thead>\n",
       "    <tr style=\"text-align: right;\">\n",
       "      <th></th>\n",
       "      <th>Unnamed: 0</th>\n",
       "      <th>body</th>\n",
       "      <th>score.x</th>\n",
       "      <th>parent_id.x</th>\n",
       "      <th>id</th>\n",
       "      <th>created_utc.x</th>\n",
       "      <th>retrieved_on</th>\n",
       "      <th>REMOVED</th>\n",
       "    </tr>\n",
       "  </thead>\n",
       "  <tbody>\n",
       "    <tr>\n",
       "      <th>0</th>\n",
       "      <td>1</td>\n",
       "      <td>I've always been taught it emerged from the ea...</td>\n",
       "      <td>2</td>\n",
       "      <td>t3_81u15i</td>\n",
       "      <td>dv551g6</td>\n",
       "      <td>1520121101</td>\n",
       "      <td>1524782256</td>\n",
       "      <td>False</td>\n",
       "    </tr>\n",
       "    <tr>\n",
       "      <th>1</th>\n",
       "      <td>2</td>\n",
       "      <td>As an ECE, my first feeling as \"HEY THAT'S NOT...</td>\n",
       "      <td>2</td>\n",
       "      <td>t3_72sk35</td>\n",
       "      <td>dnl66g6</td>\n",
       "      <td>1506533157</td>\n",
       "      <td>1507150439</td>\n",
       "      <td>True</td>\n",
       "    </tr>\n",
       "    <tr>\n",
       "      <th>2</th>\n",
       "      <td>3</td>\n",
       "      <td>Monday: Drug companies stock dives on good new...</td>\n",
       "      <td>5</td>\n",
       "      <td>t3_8o88yr</td>\n",
       "      <td>e02sjhz</td>\n",
       "      <td>1528087570</td>\n",
       "      <td>1532170350</td>\n",
       "      <td>True</td>\n",
       "    </tr>\n",
       "    <tr>\n",
       "      <th>3</th>\n",
       "      <td>4</td>\n",
       "      <td>i learned that all hybrids are unfertile i won...</td>\n",
       "      <td>0</td>\n",
       "      <td>t3_6xg9t8</td>\n",
       "      <td>dmfojjp</td>\n",
       "      <td>1504290041</td>\n",
       "      <td>1506407514</td>\n",
       "      <td>False</td>\n",
       "    </tr>\n",
       "    <tr>\n",
       "      <th>4</th>\n",
       "      <td>5</td>\n",
       "      <td>Well i was wanting to get wasted tonight.  Not...</td>\n",
       "      <td>3</td>\n",
       "      <td>t3_99wi9m</td>\n",
       "      <td>e4rtew8</td>\n",
       "      <td>1535140675</td>\n",
       "      <td>1537893540</td>\n",
       "      <td>False</td>\n",
       "    </tr>\n",
       "  </tbody>\n",
       "</table>\n",
       "</div>"
      ],
      "text/plain": [
       "   Unnamed: 0                                               body  score.x  \\\n",
       "0           1  I've always been taught it emerged from the ea...        2   \n",
       "1           2  As an ECE, my first feeling as \"HEY THAT'S NOT...        2   \n",
       "2           3  Monday: Drug companies stock dives on good new...        5   \n",
       "3           4  i learned that all hybrids are unfertile i won...        0   \n",
       "4           5  Well i was wanting to get wasted tonight.  Not...        3   \n",
       "\n",
       "  parent_id.x       id  created_utc.x  retrieved_on  REMOVED  \n",
       "0   t3_81u15i  dv551g6     1520121101    1524782256    False  \n",
       "1   t3_72sk35  dnl66g6     1506533157    1507150439     True  \n",
       "2   t3_8o88yr  e02sjhz     1528087570    1532170350     True  \n",
       "3   t3_6xg9t8  dmfojjp     1504290041    1506407514    False  \n",
       "4   t3_99wi9m  e4rtew8     1535140675    1537893540    False  "
      ]
     },
     "execution_count": 5,
     "metadata": {},
     "output_type": "execute_result"
    }
   ],
   "source": [
    "train_data.head()"
   ]
  },
  {
   "cell_type": "code",
   "execution_count": 6,
   "metadata": {},
   "outputs": [],
   "source": [
    "test_data = pd.read_csv(\"reddit_200k_test.csv\",encoding='latin1')\n",
    "#test_data = pd.read_csv(\"reddit_200k_test.csv\",usecols = ['body','REMOVED'],encoding = 'unicode_escape')"
   ]
  },
  {
   "cell_type": "code",
   "execution_count": 7,
   "metadata": {},
   "outputs": [
    {
     "data": {
      "text/html": [
       "<div>\n",
       "<style scoped>\n",
       "    .dataframe tbody tr th:only-of-type {\n",
       "        vertical-align: middle;\n",
       "    }\n",
       "\n",
       "    .dataframe tbody tr th {\n",
       "        vertical-align: top;\n",
       "    }\n",
       "\n",
       "    .dataframe thead th {\n",
       "        text-align: right;\n",
       "    }\n",
       "</style>\n",
       "<table border=\"1\" class=\"dataframe\">\n",
       "  <thead>\n",
       "    <tr style=\"text-align: right;\">\n",
       "      <th></th>\n",
       "      <th>Unnamed: 0</th>\n",
       "      <th>body</th>\n",
       "      <th>score.x</th>\n",
       "      <th>parent_id.x</th>\n",
       "      <th>id</th>\n",
       "      <th>created_utc.x</th>\n",
       "      <th>retrieved_on</th>\n",
       "      <th>REMOVED</th>\n",
       "    </tr>\n",
       "  </thead>\n",
       "  <tbody>\n",
       "    <tr>\n",
       "      <th>0</th>\n",
       "      <td>1</td>\n",
       "      <td>Hi Larpo_Nadar, your submission has been remov...</td>\n",
       "      <td>0</td>\n",
       "      <td>t3_74udg6</td>\n",
       "      <td>do15nly</td>\n",
       "      <td>1507377013</td>\n",
       "      <td>1509603985</td>\n",
       "      <td>True</td>\n",
       "    </tr>\n",
       "    <tr>\n",
       "      <th>1</th>\n",
       "      <td>2</td>\n",
       "      <td>So out of every 10,000 children with autism wh...</td>\n",
       "      <td>8</td>\n",
       "      <td>t3_879uw5</td>\n",
       "      <td>dwc3dps</td>\n",
       "      <td>1522107010</td>\n",
       "      <td>1525623538</td>\n",
       "      <td>False</td>\n",
       "    </tr>\n",
       "    <tr>\n",
       "      <th>2</th>\n",
       "      <td>3</td>\n",
       "      <td>When I was pregnant, I was warned against eati...</td>\n",
       "      <td>4</td>\n",
       "      <td>t3_5qo49s</td>\n",
       "      <td>dd1wtw2</td>\n",
       "      <td>1485686073</td>\n",
       "      <td>1486529379</td>\n",
       "      <td>False</td>\n",
       "    </tr>\n",
       "    <tr>\n",
       "      <th>3</th>\n",
       "      <td>4</td>\n",
       "      <td>Imagine if this find was the bug that eradicat...</td>\n",
       "      <td>14</td>\n",
       "      <td>t3_5qmr9c</td>\n",
       "      <td>dd0qpcr</td>\n",
       "      <td>1485618726</td>\n",
       "      <td>1486509114</td>\n",
       "      <td>True</td>\n",
       "    </tr>\n",
       "    <tr>\n",
       "      <th>4</th>\n",
       "      <td>5</td>\n",
       "      <td>Is it a myth that the math says it would take ...</td>\n",
       "      <td>0</td>\n",
       "      <td>t3_6wtiwg</td>\n",
       "      <td>dmb0sg4</td>\n",
       "      <td>1504050679</td>\n",
       "      <td>1504495504</td>\n",
       "      <td>False</td>\n",
       "    </tr>\n",
       "  </tbody>\n",
       "</table>\n",
       "</div>"
      ],
      "text/plain": [
       "   Unnamed: 0                                               body  score.x  \\\n",
       "0           1  Hi Larpo_Nadar, your submission has been remov...        0   \n",
       "1           2  So out of every 10,000 children with autism wh...        8   \n",
       "2           3  When I was pregnant, I was warned against eati...        4   \n",
       "3           4  Imagine if this find was the bug that eradicat...       14   \n",
       "4           5  Is it a myth that the math says it would take ...        0   \n",
       "\n",
       "  parent_id.x       id  created_utc.x  retrieved_on  REMOVED  \n",
       "0   t3_74udg6  do15nly     1507377013    1509603985     True  \n",
       "1   t3_879uw5  dwc3dps     1522107010    1525623538    False  \n",
       "2   t3_5qo49s  dd1wtw2     1485686073    1486529379    False  \n",
       "3   t3_5qmr9c  dd0qpcr     1485618726    1486509114     True  \n",
       "4   t3_6wtiwg  dmb0sg4     1504050679    1504495504    False  "
      ]
     },
     "execution_count": 7,
     "metadata": {},
     "output_type": "execute_result"
    }
   ],
   "source": [
    "test_data.head()"
   ]
  },
  {
   "cell_type": "code",
   "execution_count": 8,
   "metadata": {},
   "outputs": [],
   "source": [
    "data = train_data[['body','REMOVED']]"
   ]
  },
  {
   "cell_type": "markdown",
   "metadata": {},
   "source": [
    "## Task 1 Bag of Words and simple Features"
   ]
  },
  {
   "cell_type": "markdown",
   "metadata": {},
   "source": [
    "### 1.1 Create a baseline model using a bag-of-words approach and a linear model."
   ]
  },
  {
   "cell_type": "code",
   "execution_count": 96,
   "metadata": {},
   "outputs": [],
   "source": [
    "text_train = data[['body']]\n",
    "y_train = data[['REMOVED']]"
   ]
  },
  {
   "cell_type": "markdown",
   "metadata": {},
   "source": [
    "Prepare X: change X to list of strings, length is 167529"
   ]
  },
  {
   "cell_type": "code",
   "execution_count": 97,
   "metadata": {},
   "outputs": [],
   "source": [
    "text_train_lst = []\n",
    "for item in np.array(text_train).tolist():\n",
    "    text_train_lst.append(item[0])\n",
    "\n",
    "assert len(text_train_lst)==train_data.shape[0]"
   ]
  },
  {
   "cell_type": "code",
   "execution_count": 98,
   "metadata": {},
   "outputs": [],
   "source": [
    "vect = CountVectorizer(token_pattern=r\"\\b\\w+\\b\")\n",
    "X_train = vect.fit_transform(text_train_lst)"
   ]
  },
  {
   "cell_type": "code",
   "execution_count": 99,
   "metadata": {},
   "outputs": [
    {
     "data": {
      "text/plain": [
       "<167529x113865 sparse matrix of type '<class 'numpy.int64'>'\n",
       "\twith 5286601 stored elements in Compressed Sparse Row format>"
      ]
     },
     "execution_count": 99,
     "metadata": {},
     "output_type": "execute_result"
    }
   ],
   "source": [
    "X_train"
   ]
  },
  {
   "cell_type": "markdown",
   "metadata": {},
   "source": [
    "Loook at first 20 feature names"
   ]
  },
  {
   "cell_type": "code",
   "execution_count": 13,
   "metadata": {},
   "outputs": [
    {
     "name": "stdout",
     "output_type": "stream",
     "text": [
      "['0', '00', '000', '0000', '00000000000000000134', '0000000000000065', '0000000000000296', '0000000000000327', '0000000000000381', '0000000000000394', '0000000000000583', '00000000000007', '0000000000000767', '0000000000000821', '0000000000001014', '0000000000001041', '0000000000001744', '0000000000002162', '0000000000002565', '0000000000003559']\n"
     ]
    }
   ],
   "source": [
    "feature_names = vect.get_feature_names()\n",
    "print(feature_names[:20])"
   ]
  },
  {
   "cell_type": "markdown",
   "metadata": {},
   "source": [
    "**Baseline Model: Bag-of-Words Approach and Logistic Regression**"
   ]
  },
  {
   "cell_type": "code",
   "execution_count": 61,
   "metadata": {},
   "outputs": [],
   "source": [
    "param_grid = {\"logisticregression__C\": [10, 1, 0.1, 0.01, 0.001]}\n",
    "grid_baseline = GridSearchCV(make_pipeline(CountVectorizer(analyzer=\"word\",stop_words='english',\n",
    "                                                           token_pattern=r\"\\b\\w+\\b\"),\n",
    "                                           LogisticRegression()),\n",
    "                    param_grid=param_grid, cv=5, scoring=\"f1_macro\" )"
   ]
  },
  {
   "cell_type": "code",
   "execution_count": 62,
   "metadata": {
    "scrolled": true
   },
   "outputs": [
    {
     "data": {
      "text/plain": [
       "GridSearchCV(cv=5, error_score='raise-deprecating',\n",
       "       estimator=Pipeline(memory=None,\n",
       "     steps=[('countvectorizer', CountVectorizer(analyzer='word', binary=False, decode_error='strict',\n",
       "        dtype=<class 'numpy.int64'>, encoding='utf-8', input='content',\n",
       "        lowercase=True, max_df=1.0, max_features=None, min_df=1,\n",
       "        ngram_range=(1, 1), preprocessor=None, stop_words='english...penalty='l2', random_state=None, solver='warn',\n",
       "          tol=0.0001, verbose=0, warm_start=False))]),\n",
       "       fit_params=None, iid='warn', n_jobs=None,\n",
       "       param_grid={'logisticregression__C': [10, 1, 0.1, 0.01, 0.001]},\n",
       "       pre_dispatch='2*n_jobs', refit=True, return_train_score='warn',\n",
       "       scoring='f1_macro', verbose=0)"
      ]
     },
     "execution_count": 62,
     "metadata": {},
     "output_type": "execute_result"
    }
   ],
   "source": [
    "grid_baseline.fit(text_train_lst, y_train)"
   ]
  },
  {
   "cell_type": "code",
   "execution_count": 64,
   "metadata": {},
   "outputs": [
    {
     "data": {
      "text/plain": [
       "{'logisticregression__C': 1}"
      ]
     },
     "execution_count": 64,
     "metadata": {},
     "output_type": "execute_result"
    }
   ],
   "source": [
    "grid_baseline.best_params_"
   ]
  },
  {
   "cell_type": "code",
   "execution_count": 63,
   "metadata": {},
   "outputs": [
    {
     "data": {
      "text/plain": [
       "0.6620432978080867"
      ]
     },
     "execution_count": 63,
     "metadata": {},
     "output_type": "execute_result"
    }
   ],
   "source": [
    "grid_baseline.best_score_"
   ]
  },
  {
   "cell_type": "markdown",
   "metadata": {},
   "source": [
    "### 1.2 Try using n-grams, characters, tf-idf rescaling and possibly other ways to tune the BoW model. Be aware that you might need to adjust the (regularization of the) linear model for different feature sets."
   ]
  },
  {
   "cell_type": "markdown",
   "metadata": {},
   "source": [
    "**Use ngram**"
   ]
  },
  {
   "cell_type": "code",
   "execution_count": 66,
   "metadata": {},
   "outputs": [],
   "source": [
    "param_grid = {\"logisticregression__C\": [10, 1, 0.1, 0.01, 0.001],\n",
    "             \"countvectorizer__ngram_range\": [(1, 1), (1, 2),(2, 3)]}\n",
    "grid_n_gram = GridSearchCV(make_pipeline(CountVectorizer(analyzer=\"word\",stop_words='english',\n",
    "                                                           token_pattern=r\"\\b\\w+\\b\"),\n",
    "                                           LogisticRegression()),\n",
    "                    param_grid=param_grid, cv=5, scoring=\"f1_macro\" )"
   ]
  },
  {
   "cell_type": "code",
   "execution_count": 67,
   "metadata": {},
   "outputs": [
    {
     "data": {
      "text/plain": [
       "GridSearchCV(cv=5, error_score='raise-deprecating',\n",
       "       estimator=Pipeline(memory=None,\n",
       "     steps=[('countvectorizer', CountVectorizer(analyzer='word', binary=False, decode_error='strict',\n",
       "        dtype=<class 'numpy.int64'>, encoding='utf-8', input='content',\n",
       "        lowercase=True, max_df=1.0, max_features=None, min_df=1,\n",
       "        ngram_range=(1, 1), preprocessor=None, stop_words='english...penalty='l2', random_state=None, solver='warn',\n",
       "          tol=0.0001, verbose=0, warm_start=False))]),\n",
       "       fit_params=None, iid='warn', n_jobs=None,\n",
       "       param_grid={'logisticregression__C': [10, 1, 0.1, 0.01, 0.001], 'countvectorizer__ngram_range': [(1, 1), (1, 2), (2, 3)]},\n",
       "       pre_dispatch='2*n_jobs', refit=True, return_train_score='warn',\n",
       "       scoring='f1_macro', verbose=0)"
      ]
     },
     "execution_count": 67,
     "metadata": {},
     "output_type": "execute_result"
    }
   ],
   "source": [
    "grid_n_gram.fit(text_train_lst, y_train)"
   ]
  },
  {
   "cell_type": "code",
   "execution_count": 68,
   "metadata": {},
   "outputs": [
    {
     "data": {
      "text/plain": [
       "{'countvectorizer__ngram_range': (1, 2), 'logisticregression__C': 1}"
      ]
     },
     "execution_count": 68,
     "metadata": {},
     "output_type": "execute_result"
    }
   ],
   "source": [
    "grid_n_gram.best_params_"
   ]
  },
  {
   "cell_type": "code",
   "execution_count": 69,
   "metadata": {},
   "outputs": [
    {
     "data": {
      "text/plain": [
       "0.6735237298008734"
      ]
     },
     "execution_count": 69,
     "metadata": {},
     "output_type": "execute_result"
    }
   ],
   "source": [
    "grid_n_gram.best_score_"
   ]
  },
  {
   "cell_type": "markdown",
   "metadata": {},
   "source": [
    "**Use min_df**"
   ]
  },
  {
   "cell_type": "markdown",
   "metadata": {},
   "source": [
    "Since the default min_df is 1, I didn't assign min_df = 1 in parameter tuning."
   ]
  },
  {
   "cell_type": "code",
   "execution_count": 70,
   "metadata": {},
   "outputs": [],
   "source": [
    "param_grid = {\"logisticregression__C\": [10, 1, 0.1, 0.01, 0.001],\n",
    "             \"countvectorizer__min_df\": [2,3,4]}\n",
    "grid_min_df = GridSearchCV(make_pipeline(CountVectorizer(analyzer=\"word\",stop_words='english',\n",
    "                                                         ngram_range = (1,2),token_pattern=r\"\\b\\w+\\b\"),\n",
    "                                           LogisticRegression()),\n",
    "                    param_grid=param_grid, cv=5, scoring=\"f1_macro\" )"
   ]
  },
  {
   "cell_type": "code",
   "execution_count": 71,
   "metadata": {},
   "outputs": [
    {
     "data": {
      "text/plain": [
       "GridSearchCV(cv=5, error_score='raise-deprecating',\n",
       "       estimator=Pipeline(memory=None,\n",
       "     steps=[('countvectorizer', CountVectorizer(analyzer='word', binary=False, decode_error='strict',\n",
       "        dtype=<class 'numpy.int64'>, encoding='utf-8', input='content',\n",
       "        lowercase=True, max_df=1.0, max_features=None, min_df=1,\n",
       "        ngram_range=(1, 2), preprocessor=None, stop_words='english...penalty='l2', random_state=None, solver='warn',\n",
       "          tol=0.0001, verbose=0, warm_start=False))]),\n",
       "       fit_params=None, iid='warn', n_jobs=None,\n",
       "       param_grid={'logisticregression__C': [10, 1, 0.1, 0.01, 0.001], 'countvectorizer__min_df': [2, 3, 4]},\n",
       "       pre_dispatch='2*n_jobs', refit=True, return_train_score='warn',\n",
       "       scoring='f1_macro', verbose=0)"
      ]
     },
     "execution_count": 71,
     "metadata": {},
     "output_type": "execute_result"
    }
   ],
   "source": [
    "grid_min_df.fit(text_train_lst, y_train)"
   ]
  },
  {
   "cell_type": "code",
   "execution_count": 72,
   "metadata": {},
   "outputs": [
    {
     "data": {
      "text/plain": [
       "{'countvectorizer__min_df': 2, 'logisticregression__C': 1}"
      ]
     },
     "execution_count": 72,
     "metadata": {},
     "output_type": "execute_result"
    }
   ],
   "source": [
    "grid_min_df.best_params_"
   ]
  },
  {
   "cell_type": "code",
   "execution_count": 73,
   "metadata": {},
   "outputs": [
    {
     "data": {
      "text/plain": [
       "0.6675357530828799"
      ]
     },
     "execution_count": 73,
     "metadata": {},
     "output_type": "execute_result"
    }
   ],
   "source": [
    "grid_min_df.best_score_"
   ]
  },
  {
   "cell_type": "markdown",
   "metadata": {},
   "source": [
    "Compared to default min_df, min_df = 1 is better."
   ]
  },
  {
   "cell_type": "markdown",
   "metadata": {},
   "source": [
    "**Use TF-IDF**"
   ]
  },
  {
   "cell_type": "code",
   "execution_count": 76,
   "metadata": {},
   "outputs": [],
   "source": [
    "param_grid = {\"logisticregression__C\": [10, 1, 0.1, 0.01, 0.001]}\n",
    "grid_tf_idf = GridSearchCV(make_pipeline(TfidfVectorizer(analyzer=\"word\",stop_words='english',\n",
    "                                                         ngram_range = (1,2),token_pattern=r\"\\b\\w+\\b\"),\n",
    "                                        LogisticRegression(),\n",
    "                                        memory=\"cache_folder\"),\n",
    "                    param_grid=param_grid, cv=5, scoring=\"f1_macro\" )"
   ]
  },
  {
   "cell_type": "code",
   "execution_count": 77,
   "metadata": {},
   "outputs": [
    {
     "data": {
      "text/plain": [
       "GridSearchCV(cv=5, error_score='raise-deprecating',\n",
       "       estimator=Pipeline(memory='cache_folder',\n",
       "     steps=[('tfidfvectorizer', TfidfVectorizer(analyzer='word', binary=False, decode_error='strict',\n",
       "        dtype=<class 'numpy.float64'>, encoding='utf-8', input='content',\n",
       "        lowercase=True, max_df=1.0, max_features=None, min_df=1,\n",
       "        ngram_range=(1, 2), norm='l2', preprocessor=None, smooth...penalty='l2', random_state=None, solver='warn',\n",
       "          tol=0.0001, verbose=0, warm_start=False))]),\n",
       "       fit_params=None, iid='warn', n_jobs=None,\n",
       "       param_grid={'logisticregression__C': [10, 1, 0.1, 0.01, 0.001]},\n",
       "       pre_dispatch='2*n_jobs', refit=True, return_train_score='warn',\n",
       "       scoring='f1_macro', verbose=0)"
      ]
     },
     "execution_count": 77,
     "metadata": {},
     "output_type": "execute_result"
    }
   ],
   "source": [
    "grid_tf_idf.fit(text_train_lst, y_train)"
   ]
  },
  {
   "cell_type": "code",
   "execution_count": 78,
   "metadata": {
    "scrolled": true
   },
   "outputs": [
    {
     "data": {
      "text/plain": [
       "{'logisticregression__C': 10}"
      ]
     },
     "execution_count": 78,
     "metadata": {},
     "output_type": "execute_result"
    }
   ],
   "source": [
    "grid_tf_idf.best_params_"
   ]
  },
  {
   "cell_type": "code",
   "execution_count": 79,
   "metadata": {},
   "outputs": [
    {
     "data": {
      "text/plain": [
       "0.673138309227291"
      ]
     },
     "execution_count": 79,
     "metadata": {},
     "output_type": "execute_result"
    }
   ],
   "source": [
    "grid_tf_idf.best_score_"
   ]
  },
  {
   "cell_type": "markdown",
   "metadata": {},
   "source": [
    "**Use character**"
   ]
  },
  {
   "cell_type": "markdown",
   "metadata": {},
   "source": [
    "not use stopwords："
   ]
  },
  {
   "cell_type": "code",
   "execution_count": 82,
   "metadata": {},
   "outputs": [],
   "source": [
    "param_grid = {\"logisticregression__C\": [10, 1, 0.1, 0.01, 0.001],\n",
    "             \"tfidfvectorizer__analyzer\":['char','char_wb']}\n",
    "grid_char = GridSearchCV(make_pipeline(TfidfVectorizer(ngram_range = (2,3)),    \n",
    "                                        LogisticRegression(),\n",
    "                                        memory=\"cache_folder\"),\n",
    "                    param_grid=param_grid, cv=5, scoring=\"f1_macro\" )"
   ]
  },
  {
   "cell_type": "code",
   "execution_count": 83,
   "metadata": {},
   "outputs": [
    {
     "data": {
      "text/plain": [
       "GridSearchCV(cv=5, error_score='raise-deprecating',\n",
       "       estimator=Pipeline(memory='cache_folder',\n",
       "     steps=[('tfidfvectorizer', TfidfVectorizer(analyzer='word', binary=False, decode_error='strict',\n",
       "        dtype=<class 'numpy.float64'>, encoding='utf-8', input='content',\n",
       "        lowercase=True, max_df=1.0, max_features=None, min_df=1,\n",
       "        ngram_range=(2, 3), norm='l2', preprocessor=None, smooth...penalty='l2', random_state=None, solver='warn',\n",
       "          tol=0.0001, verbose=0, warm_start=False))]),\n",
       "       fit_params=None, iid='warn', n_jobs=None,\n",
       "       param_grid={'logisticregression__C': [10, 1, 0.1, 0.01, 0.001], 'tfidfvectorizer__analyzer': ['char', 'char_wb']},\n",
       "       pre_dispatch='2*n_jobs', refit=True, return_train_score='warn',\n",
       "       scoring='f1_macro', verbose=0)"
      ]
     },
     "execution_count": 83,
     "metadata": {},
     "output_type": "execute_result"
    }
   ],
   "source": [
    "grid_char.fit(text_train_lst, y_train)"
   ]
  },
  {
   "cell_type": "code",
   "execution_count": 84,
   "metadata": {
    "scrolled": true
   },
   "outputs": [
    {
     "data": {
      "text/plain": [
       "{'logisticregression__C': 1, 'tfidfvectorizer__analyzer': 'char_wb'}"
      ]
     },
     "execution_count": 84,
     "metadata": {},
     "output_type": "execute_result"
    }
   ],
   "source": [
    "grid_char.best_params_"
   ]
  },
  {
   "cell_type": "code",
   "execution_count": 85,
   "metadata": {},
   "outputs": [
    {
     "data": {
      "text/plain": [
       "0.6867830555892265"
      ]
     },
     "execution_count": 85,
     "metadata": {},
     "output_type": "execute_result"
    }
   ],
   "source": [
    "grid_char.best_score_"
   ]
  },
  {
   "cell_type": "markdown",
   "metadata": {},
   "source": [
    "**use stop words:**"
   ]
  },
  {
   "cell_type": "code",
   "execution_count": 12,
   "metadata": {},
   "outputs": [],
   "source": [
    "param_grid = {\"logisticregression__C\": [10, 1, 0.1, 0.01, 0.001],\n",
    "             \"tfidfvectorizer__analyzer\":['char','char_wb']}\n",
    "grid_char = GridSearchCV(make_pipeline(TfidfVectorizer(ngram_range = (2,3), stop_words='english'), \n",
    "                                        LogisticRegression(),\n",
    "                                        memory=\"cache_folder\"),\n",
    "                    param_grid=param_grid, cv=5, scoring=\"f1_macro\" )"
   ]
  },
  {
   "cell_type": "code",
   "execution_count": 13,
   "metadata": {},
   "outputs": [
    {
     "data": {
      "text/plain": [
       "GridSearchCV(cv=5, error_score='raise-deprecating',\n",
       "       estimator=Pipeline(memory='cache_folder',\n",
       "     steps=[('tfidfvectorizer', TfidfVectorizer(analyzer='word', binary=False, decode_error='strict',\n",
       "        dtype=<class 'numpy.float64'>, encoding='utf-8', input='content',\n",
       "        lowercase=True, max_df=1.0, max_features=None, min_df=1,\n",
       "        ngram_range=(2, 3), norm='l2', preprocessor=None, smooth...penalty='l2', random_state=None, solver='warn',\n",
       "          tol=0.0001, verbose=0, warm_start=False))]),\n",
       "       fit_params=None, iid='warn', n_jobs=None,\n",
       "       param_grid={'logisticregression__C': [10, 1, 0.1, 0.01, 0.001], 'tfidfvectorizer__analyzer': ['char', 'char_wb']},\n",
       "       pre_dispatch='2*n_jobs', refit=True, return_train_score='warn',\n",
       "       scoring='f1_macro', verbose=0)"
      ]
     },
     "execution_count": 13,
     "metadata": {},
     "output_type": "execute_result"
    }
   ],
   "source": [
    "grid_char.fit(text_train_lst, y_train)"
   ]
  },
  {
   "cell_type": "code",
   "execution_count": 14,
   "metadata": {
    "scrolled": true
   },
   "outputs": [
    {
     "data": {
      "text/plain": [
       "{'logisticregression__C': 1, 'tfidfvectorizer__analyzer': 'char_wb'}"
      ]
     },
     "execution_count": 14,
     "metadata": {},
     "output_type": "execute_result"
    }
   ],
   "source": [
    "grid_char.best_params_"
   ]
  },
  {
   "cell_type": "code",
   "execution_count": 15,
   "metadata": {},
   "outputs": [
    {
     "data": {
      "text/plain": [
       "0.6867830555892265"
      ]
     },
     "execution_count": 15,
     "metadata": {},
     "output_type": "execute_result"
    }
   ],
   "source": [
    "grid_char.best_score_"
   ]
  },
  {
   "cell_type": "markdown",
   "metadata": {},
   "source": [
    "## 1.3 Explore other features you can derive from the text, such as html, length, punctuation, capitalization or other features you deem important from exploring the dataset"
   ]
  },
  {
   "cell_type": "code",
   "execution_count": null,
   "metadata": {},
   "outputs": [],
   "source": [
    "Explore Features by LASSO logistic coefficients"
   ]
  },
  {
   "cell_type": "code",
   "execution_count": 14,
   "metadata": {},
   "outputs": [],
   "source": [
    "text_train_13 = text_train.copy()"
   ]
  },
  {
   "cell_type": "code",
   "execution_count": 15,
   "metadata": {},
   "outputs": [
    {
     "data": {
      "text/plain": [
       "Pipeline(memory=None,\n",
       "     steps=[('cv', CountVectorizer(analyzer='word', binary=False, decode_error='strict',\n",
       "        dtype=<class 'numpy.int64'>, encoding='utf-8', input='content',\n",
       "        lowercase=True, max_df=1.0, max_features=None, min_df=1,\n",
       "        ngram_range=(1, 1), preprocessor=None, stop_words=None,\n",
       "        strip_a...penalty='l1', random_state=None, solver='warn',\n",
       "          tol=0.0001, verbose=0, warm_start=False))])"
      ]
     },
     "execution_count": 15,
     "metadata": {},
     "output_type": "execute_result"
    }
   ],
   "source": [
    "lr_pipe = Pipeline(steps=[('cv',CountVectorizer()),\n",
    "                          ('lr',LogisticRegression(penalty='l1'))])\n",
    "lr_pipe.fit(text_train_lst, y_train)"
   ]
  },
  {
   "cell_type": "code",
   "execution_count": 16,
   "metadata": {},
   "outputs": [],
   "source": [
    "coef = lr_pipe.named_steps['lr'].coef_"
   ]
  },
  {
   "cell_type": "code",
   "execution_count": 17,
   "metadata": {},
   "outputs": [],
   "source": [
    "feature_names = lr_pipe.named_steps['cv'].get_feature_names()"
   ]
  },
  {
   "cell_type": "code",
   "execution_count": 26,
   "metadata": {},
   "outputs": [],
   "source": [
    "def plot_important_features(coef, feature_names, top_n=20, ax=None, rotation=60):\n",
    "    if ax is None:\n",
    "        ax = plt.gca()\n",
    "\n",
    "    inds = np.argsort(coef)\n",
    "    low = inds[:top_n]\n",
    "    high = inds[-top_n:]\n",
    "    important = np.hstack([low, high])\n",
    "    myrange = range(len(important))\n",
    "    colors = ['red'] * top_n + ['blue'] * top_n\n",
    "    \n",
    "    ax.bar(myrange, coef[important], color=colors)\n",
    "    ax.set_xticks(myrange)\n",
    "    ax.set_xticklabels(feature_names[important], rotation=rotation, ha=\"right\")\n",
    "    ax.set_xlim(-.7, 2 * top_n)\n",
    "    ax.set_frame_on(False)\n",
    "    ax.set_title('Logistic Regression Coefficients')\n",
    "    ax.set_ylabel('coefficients')\n",
    "    ax.set_xlabel('feature')"
   ]
  },
  {
   "cell_type": "code",
   "execution_count": 27,
   "metadata": {},
   "outputs": [
    {
     "data": {
      "image/png": "[encoded data removed]",
      "text/plain": [
       "<Figure size 1080x432 with 1 Axes>"
      ]
     },
     "metadata": {
      "needs_background": "light"
     },
     "output_type": "display_data"
    }
   ],
   "source": [
    "plt.figure(figsize=(15,6))\n",
    "plot_important_features(coef.ravel(), np.array(feature_names),top_n=20, ax=None, rotation=60 )"
   ]
  },
  {
   "cell_type": "code",
   "execution_count": 28,
   "metadata": {},
   "outputs": [
    {
     "data": {
      "text/html": [
       "<div>\n",
       "<style scoped>\n",
       "    .dataframe tbody tr th:only-of-type {\n",
       "        vertical-align: middle;\n",
       "    }\n",
       "\n",
       "    .dataframe tbody tr th {\n",
       "        vertical-align: top;\n",
       "    }\n",
       "\n",
       "    .dataframe thead th {\n",
       "        text-align: right;\n",
       "    }\n",
       "</style>\n",
       "<table border=\"1\" class=\"dataframe\">\n",
       "  <thead>\n",
       "    <tr style=\"text-align: right;\">\n",
       "      <th></th>\n",
       "      <th>feature name</th>\n",
       "      <th>coefficient</th>\n",
       "    </tr>\n",
       "  </thead>\n",
       "  <tbody>\n",
       "    <tr>\n",
       "      <th>112178</th>\n",
       "      <td>wu</td>\n",
       "      <td>7.006169</td>\n",
       "    </tr>\n",
       "    <tr>\n",
       "      <th>78187</th>\n",
       "      <td>patentsencyclopedia</td>\n",
       "      <td>5.978584</td>\n",
       "    </tr>\n",
       "    <tr>\n",
       "      <th>8277</th>\n",
       "      <td>4490</td>\n",
       "      <td>5.288131</td>\n",
       "    </tr>\n",
       "    <tr>\n",
       "      <th>33420</th>\n",
       "      <td>d2nns</td>\n",
       "      <td>4.318528</td>\n",
       "    </tr>\n",
       "    <tr>\n",
       "      <th>89966</th>\n",
       "      <td>rurally</td>\n",
       "      <td>4.154242</td>\n",
       "    </tr>\n",
       "    <tr>\n",
       "      <th>30523</th>\n",
       "      <td>conflation</td>\n",
       "      <td>4.104860</td>\n",
       "    </tr>\n",
       "    <tr>\n",
       "      <th>1339</th>\n",
       "      <td>0800</td>\n",
       "      <td>4.078258</td>\n",
       "    </tr>\n",
       "    <tr>\n",
       "      <th>17561</th>\n",
       "      <td>apnm</td>\n",
       "      <td>3.945404</td>\n",
       "    </tr>\n",
       "    <tr>\n",
       "      <th>189</th>\n",
       "      <td>0001f914</td>\n",
       "      <td>3.833906</td>\n",
       "    </tr>\n",
       "    <tr>\n",
       "      <th>102253</th>\n",
       "      <td>the_purge</td>\n",
       "      <td>3.825181</td>\n",
       "    </tr>\n",
       "    <tr>\n",
       "      <th>47806</th>\n",
       "      <td>gating</td>\n",
       "      <td>3.717765</td>\n",
       "    </tr>\n",
       "    <tr>\n",
       "      <th>48948</th>\n",
       "      <td>globalist</td>\n",
       "      <td>3.717126</td>\n",
       "    </tr>\n",
       "    <tr>\n",
       "      <th>79069</th>\n",
       "      <td>periodicity</td>\n",
       "      <td>3.697982</td>\n",
       "    </tr>\n",
       "    <tr>\n",
       "      <th>134</th>\n",
       "      <td>0001f602</td>\n",
       "      <td>3.692670</td>\n",
       "    </tr>\n",
       "    <tr>\n",
       "      <th>85380</th>\n",
       "      <td>raf</td>\n",
       "      <td>3.652455</td>\n",
       "    </tr>\n",
       "    <tr>\n",
       "      <th>38921</th>\n",
       "      <td>dynamism</td>\n",
       "      <td>3.625575</td>\n",
       "    </tr>\n",
       "    <tr>\n",
       "      <th>73032</th>\n",
       "      <td>ngc</td>\n",
       "      <td>3.598444</td>\n",
       "    </tr>\n",
       "    <tr>\n",
       "      <th>88580</th>\n",
       "      <td>rg</td>\n",
       "      <td>3.470108</td>\n",
       "    </tr>\n",
       "    <tr>\n",
       "      <th>80466</th>\n",
       "      <td>pitbulls</td>\n",
       "      <td>3.438484</td>\n",
       "    </tr>\n",
       "    <tr>\n",
       "      <th>28483</th>\n",
       "      <td>cite_note</td>\n",
       "      <td>3.380403</td>\n",
       "    </tr>\n",
       "  </tbody>\n",
       "</table>\n",
       "</div>"
      ],
      "text/plain": [
       "               feature name  coefficient\n",
       "112178                   wu     7.006169\n",
       "78187   patentsencyclopedia     5.978584\n",
       "8277                   4490     5.288131\n",
       "33420                 d2nns     4.318528\n",
       "89966               rurally     4.154242\n",
       "30523            conflation     4.104860\n",
       "1339                   0800     4.078258\n",
       "17561                  apnm     3.945404\n",
       "189                0001f914     3.833906\n",
       "102253            the_purge     3.825181\n",
       "47806                gating     3.717765\n",
       "48948             globalist     3.717126\n",
       "79069           periodicity     3.697982\n",
       "134                0001f602     3.692670\n",
       "85380                   raf     3.652455\n",
       "38921              dynamism     3.625575\n",
       "73032                   ngc     3.598444\n",
       "88580                    rg     3.470108\n",
       "80466              pitbulls     3.438484\n",
       "28483             cite_note     3.380403"
      ]
     },
     "execution_count": 28,
     "metadata": {},
     "output_type": "execute_result"
    }
   ],
   "source": [
    "pd.DataFrame({'feature name': feature_names, \n",
    "              'coefficient': coef.ravel().tolist()}).nlargest(20,'coefficient')"
   ]
  },
  {
   "cell_type": "code",
   "execution_count": 29,
   "metadata": {},
   "outputs": [
    {
     "data": {
      "text/html": [
       "<div>\n",
       "<style scoped>\n",
       "    .dataframe tbody tr th:only-of-type {\n",
       "        vertical-align: middle;\n",
       "    }\n",
       "\n",
       "    .dataframe tbody tr th {\n",
       "        vertical-align: top;\n",
       "    }\n",
       "\n",
       "    .dataframe thead th {\n",
       "        text-align: right;\n",
       "    }\n",
       "</style>\n",
       "<table border=\"1\" class=\"dataframe\">\n",
       "  <thead>\n",
       "    <tr style=\"text-align: right;\">\n",
       "      <th></th>\n",
       "      <th>feature name</th>\n",
       "      <th>coefficient</th>\n",
       "    </tr>\n",
       "  </thead>\n",
       "  <tbody>\n",
       "    <tr>\n",
       "      <th>58581</th>\n",
       "      <td>iâ</td>\n",
       "      <td>-6.648753</td>\n",
       "    </tr>\n",
       "    <tr>\n",
       "      <th>37765</th>\n",
       "      <td>donâ</td>\n",
       "      <td>-6.265144</td>\n",
       "    </tr>\n",
       "    <tr>\n",
       "      <th>58501</th>\n",
       "      <td>itâ</td>\n",
       "      <td>-6.210470</td>\n",
       "    </tr>\n",
       "    <tr>\n",
       "      <th>113699</th>\n",
       "      <td>½ï</td>\n",
       "      <td>-5.577377</td>\n",
       "    </tr>\n",
       "    <tr>\n",
       "      <th>102173</th>\n",
       "      <td>thatâ</td>\n",
       "      <td>-5.484909</td>\n",
       "    </tr>\n",
       "    <tr>\n",
       "      <th>113045</th>\n",
       "      <td>youâ</td>\n",
       "      <td>-5.162987</td>\n",
       "    </tr>\n",
       "    <tr>\n",
       "      <th>36057</th>\n",
       "      <td>didnâ</td>\n",
       "      <td>-5.086880</td>\n",
       "    </tr>\n",
       "    <tr>\n",
       "      <th>37557</th>\n",
       "      <td>doesnâ</td>\n",
       "      <td>-4.979570</td>\n",
       "    </tr>\n",
       "    <tr>\n",
       "      <th>25855</th>\n",
       "      <td>canâ</td>\n",
       "      <td>-4.872234</td>\n",
       "    </tr>\n",
       "    <tr>\n",
       "      <th>102622</th>\n",
       "      <td>theyâ</td>\n",
       "      <td>-4.764307</td>\n",
       "    </tr>\n",
       "    <tr>\n",
       "      <th>58331</th>\n",
       "      <td>isnâ</td>\n",
       "      <td>-4.708644</td>\n",
       "    </tr>\n",
       "    <tr>\n",
       "      <th>110695</th>\n",
       "      <td>weâ</td>\n",
       "      <td>-4.423216</td>\n",
       "    </tr>\n",
       "    <tr>\n",
       "      <th>18044</th>\n",
       "      <td>arenâ</td>\n",
       "      <td>-4.344898</td>\n",
       "    </tr>\n",
       "    <tr>\n",
       "      <th>102508</th>\n",
       "      <td>thereâ</td>\n",
       "      <td>-4.247995</td>\n",
       "    </tr>\n",
       "    <tr>\n",
       "      <th>110063</th>\n",
       "      <td>wasnâ</td>\n",
       "      <td>-4.214284</td>\n",
       "    </tr>\n",
       "    <tr>\n",
       "      <th>111990</th>\n",
       "      <td>wouldnâ</td>\n",
       "      <td>-4.194286</td>\n",
       "    </tr>\n",
       "    <tr>\n",
       "      <th>110790</th>\n",
       "      <td>whatâ</td>\n",
       "      <td>-3.725483</td>\n",
       "    </tr>\n",
       "    <tr>\n",
       "      <th>51676</th>\n",
       "      <td>havenâ</td>\n",
       "      <td>-3.592163</td>\n",
       "    </tr>\n",
       "    <tr>\n",
       "      <th>111721</th>\n",
       "      <td>wonâ</td>\n",
       "      <td>-3.278747</td>\n",
       "    </tr>\n",
       "    <tr>\n",
       "      <th>31783</th>\n",
       "      <td>couldnâ</td>\n",
       "      <td>-3.263693</td>\n",
       "    </tr>\n",
       "  </tbody>\n",
       "</table>\n",
       "</div>"
      ],
      "text/plain": [
       "       feature name  coefficient\n",
       "58581            iâ    -6.648753\n",
       "37765          donâ    -6.265144\n",
       "58501           itâ    -6.210470\n",
       "113699           ½ï    -5.577377\n",
       "102173        thatâ    -5.484909\n",
       "113045         youâ    -5.162987\n",
       "36057         didnâ    -5.086880\n",
       "37557        doesnâ    -4.979570\n",
       "25855          canâ    -4.872234\n",
       "102622        theyâ    -4.764307\n",
       "58331          isnâ    -4.708644\n",
       "110695          weâ    -4.423216\n",
       "18044         arenâ    -4.344898\n",
       "102508       thereâ    -4.247995\n",
       "110063        wasnâ    -4.214284\n",
       "111990      wouldnâ    -4.194286\n",
       "110790        whatâ    -3.725483\n",
       "51676        havenâ    -3.592163\n",
       "111721         wonâ    -3.278747\n",
       "31783       couldnâ    -3.263693"
      ]
     },
     "execution_count": 29,
     "metadata": {},
     "output_type": "execute_result"
    }
   ],
   "source": [
    "pd.DataFrame({'feature name': feature_names, \n",
    "              'coefficient': coef.ravel().tolist()}).nsmallest(20,'coefficient')"
   ]
  },
  {
   "cell_type": "markdown",
   "metadata": {},
   "source": [
    "Use TfidfVectorizer to manipulate 'body' column"
   ]
  },
  {
   "cell_type": "code",
   "execution_count": 100,
   "metadata": {},
   "outputs": [
    {
     "data": {
      "text/plain": [
       "<167529x77522 sparse matrix of type '<class 'numpy.float64'>'\n",
       "\twith 39879417 stored elements in Compressed Sparse Row format>"
      ]
     },
     "execution_count": 100,
     "metadata": {},
     "output_type": "execute_result"
    }
   ],
   "source": [
    "tfidf = TfidfVectorizer(analyzer=\"char_wb\",ngram_range=(2,3),stop_words='english',token_pattern=r\"\\b\\w+\\b\")\n",
    "train = tfidf.fit_transform(text_train_lst)\n",
    "train"
   ]
  },
  {
   "cell_type": "code",
   "execution_count": 101,
   "metadata": {},
   "outputs": [],
   "source": [
    "text_train['top20words'] = text_train.loc[:,'body'].str.contains('wu|patentsencyclopedia|d2nns|rurally|conflation|apnm|the_purge|gating|globalist|periodicity|raf|dynamism|ngc|rg|pitbulls|cite_note')"
   ]
  },
  {
   "cell_type": "code",
   "execution_count": 102,
   "metadata": {},
   "outputs": [],
   "source": [
    "text_train['!count'] = text_train.loc[:,'body'].str.count('!') "
   ]
  },
  {
   "cell_type": "code",
   "execution_count": 103,
   "metadata": {},
   "outputs": [],
   "source": [
    "text_train['syb_count'] = text_train.loc[:,'body'].str.count('&|@|#|\\\\$|%|\\\\*|\\\\^') "
   ]
  },
  {
   "cell_type": "code",
   "execution_count": 104,
   "metadata": {},
   "outputs": [],
   "source": [
    "text_train['html'] = text_train.loc[:,'body'].str.contains('http:|html')\n",
    "text_train['dirtywords'] = text_train.loc[:,'body'].str.contains('fuck|shit|damn|bitches')\n",
    "text_train['@'] = text_train.loc[:,'body'].str.contains('@') \n",
    "text_train['!'] = text_train.loc[:,'body'].str.contains('!') \n",
    "text_train['length'] = text_train.loc[:,'body'].str.len()\n",
    "#text_train = text_train.drop(columns=['body'])  "
   ]
  },
  {
   "cell_type": "code",
   "execution_count": 105,
   "metadata": {},
   "outputs": [
    {
     "data": {
      "text/html": [
       "<div>\n",
       "<style scoped>\n",
       "    .dataframe tbody tr th:only-of-type {\n",
       "        vertical-align: middle;\n",
       "    }\n",
       "\n",
       "    .dataframe tbody tr th {\n",
       "        vertical-align: top;\n",
       "    }\n",
       "\n",
       "    .dataframe thead th {\n",
       "        text-align: right;\n",
       "    }\n",
       "</style>\n",
       "<table border=\"1\" class=\"dataframe\">\n",
       "  <thead>\n",
       "    <tr style=\"text-align: right;\">\n",
       "      <th></th>\n",
       "      <th>body</th>\n",
       "      <th>top20words</th>\n",
       "      <th>!count</th>\n",
       "      <th>syb_count</th>\n",
       "      <th>html</th>\n",
       "      <th>dirtywords</th>\n",
       "      <th>@</th>\n",
       "      <th>!</th>\n",
       "      <th>length</th>\n",
       "    </tr>\n",
       "  </thead>\n",
       "  <tbody>\n",
       "    <tr>\n",
       "      <th>0</th>\n",
       "      <td>I've always been taught it emerged from the ea...</td>\n",
       "      <td>True</td>\n",
       "      <td>0</td>\n",
       "      <td>0</td>\n",
       "      <td>False</td>\n",
       "      <td>False</td>\n",
       "      <td>False</td>\n",
       "      <td>False</td>\n",
       "      <td>125</td>\n",
       "    </tr>\n",
       "    <tr>\n",
       "      <th>1</th>\n",
       "      <td>As an ECE, my first feeling as \"HEY THAT'S NOT...</td>\n",
       "      <td>False</td>\n",
       "      <td>0</td>\n",
       "      <td>0</td>\n",
       "      <td>False</td>\n",
       "      <td>False</td>\n",
       "      <td>False</td>\n",
       "      <td>False</td>\n",
       "      <td>229</td>\n",
       "    </tr>\n",
       "    <tr>\n",
       "      <th>2</th>\n",
       "      <td>Monday: Drug companies stock dives on good new...</td>\n",
       "      <td>False</td>\n",
       "      <td>0</td>\n",
       "      <td>0</td>\n",
       "      <td>False</td>\n",
       "      <td>False</td>\n",
       "      <td>False</td>\n",
       "      <td>False</td>\n",
       "      <td>61</td>\n",
       "    </tr>\n",
       "    <tr>\n",
       "      <th>3</th>\n",
       "      <td>i learned that all hybrids are unfertile i won...</td>\n",
       "      <td>False</td>\n",
       "      <td>0</td>\n",
       "      <td>0</td>\n",
       "      <td>False</td>\n",
       "      <td>False</td>\n",
       "      <td>False</td>\n",
       "      <td>False</td>\n",
       "      <td>139</td>\n",
       "    </tr>\n",
       "    <tr>\n",
       "      <th>4</th>\n",
       "      <td>Well i was wanting to get wasted tonight.  Not...</td>\n",
       "      <td>False</td>\n",
       "      <td>0</td>\n",
       "      <td>0</td>\n",
       "      <td>False</td>\n",
       "      <td>False</td>\n",
       "      <td>False</td>\n",
       "      <td>False</td>\n",
       "      <td>84</td>\n",
       "    </tr>\n",
       "  </tbody>\n",
       "</table>\n",
       "</div>"
      ],
      "text/plain": [
       "                                                body  top20words  !count  \\\n",
       "0  I've always been taught it emerged from the ea...        True       0   \n",
       "1  As an ECE, my first feeling as \"HEY THAT'S NOT...       False       0   \n",
       "2  Monday: Drug companies stock dives on good new...       False       0   \n",
       "3  i learned that all hybrids are unfertile i won...       False       0   \n",
       "4  Well i was wanting to get wasted tonight.  Not...       False       0   \n",
       "\n",
       "   syb_count   html  dirtywords      @      !  length  \n",
       "0          0  False       False  False  False     125  \n",
       "1          0  False       False  False  False     229  \n",
       "2          0  False       False  False  False      61  \n",
       "3          0  False       False  False  False     139  \n",
       "4          0  False       False  False  False      84  "
      ]
     },
     "execution_count": 105,
     "metadata": {},
     "output_type": "execute_result"
    }
   ],
   "source": [
    "text_train.head()"
   ]
  },
  {
   "cell_type": "code",
   "execution_count": 109,
   "metadata": {},
   "outputs": [],
   "source": [
    "text_train = text_train.drop(columns=['body']) "
   ]
  },
  {
   "cell_type": "code",
   "execution_count": 108,
   "metadata": {},
   "outputs": [],
   "source": [
    "text_train[['html','dirtywords','@','!','top20words']] = (\n",
    "    text_train[['html','dirtywords','@','!','top20words']]  == True).astype(int)\n",
    "#text_train = coo_matrix(text_train)"
   ]
  },
  {
   "cell_type": "markdown",
   "metadata": {},
   "source": [
    "**Scenario1: Combine ‘body' column and dereived features**"
   ]
  },
  {
   "cell_type": "code",
   "execution_count": 85,
   "metadata": {},
   "outputs": [],
   "source": [
    "train = hstack([train,text_train])"
   ]
  },
  {
   "cell_type": "code",
   "execution_count": 86,
   "metadata": {},
   "outputs": [],
   "source": [
    "param_grid = {\"C\": [1000,100,10, 1, 0.1, 0.01]}\n",
    "grid = GridSearchCV(LogisticRegression(),param_grid=param_grid, cv=5, scoring=\"f1_macro\" )"
   ]
  },
  {
   "cell_type": "code",
   "execution_count": 87,
   "metadata": {},
   "outputs": [
    {
     "data": {
      "text/plain": [
       "GridSearchCV(cv=5, error_score='raise-deprecating',\n",
       "       estimator=LogisticRegression(C=1.0, class_weight=None, dual=False, fit_intercept=True,\n",
       "          intercept_scaling=1, max_iter=100, multi_class='warn',\n",
       "          n_jobs=None, penalty='l2', random_state=None, solver='warn',\n",
       "          tol=0.0001, verbose=0, warm_start=False),\n",
       "       fit_params=None, iid='warn', n_jobs=None,\n",
       "       param_grid={'C': [1000, 100, 10, 1, 0.1, 0.01]},\n",
       "       pre_dispatch='2*n_jobs', refit=True, return_train_score='warn',\n",
       "       scoring='f1_macro', verbose=0)"
      ]
     },
     "execution_count": 87,
     "metadata": {},
     "output_type": "execute_result"
    }
   ],
   "source": [
    "grid.fit(train,y_train)"
   ]
  },
  {
   "cell_type": "code",
   "execution_count": 90,
   "metadata": {},
   "outputs": [
    {
     "data": {
      "text/plain": [
       "{'C': 1}"
      ]
     },
     "execution_count": 90,
     "metadata": {},
     "output_type": "execute_result"
    }
   ],
   "source": [
    "grid.best_params_"
   ]
  },
  {
   "cell_type": "code",
   "execution_count": 91,
   "metadata": {},
   "outputs": [
    {
     "data": {
      "text/plain": [
       "0.6829471558880378"
      ]
     },
     "execution_count": 91,
     "metadata": {},
     "output_type": "execute_result"
    }
   ],
   "source": [
    "grid.best_score_"
   ]
  },
  {
   "cell_type": "markdown",
   "metadata": {},
   "source": [
    "**Scenario 2: do not include 'body' column, only use derived feature**"
   ]
  },
  {
   "cell_type": "code",
   "execution_count": 111,
   "metadata": {},
   "outputs": [
    {
     "data": {
      "text/html": [
       "<div>\n",
       "<style scoped>\n",
       "    .dataframe tbody tr th:only-of-type {\n",
       "        vertical-align: middle;\n",
       "    }\n",
       "\n",
       "    .dataframe tbody tr th {\n",
       "        vertical-align: top;\n",
       "    }\n",
       "\n",
       "    .dataframe thead th {\n",
       "        text-align: right;\n",
       "    }\n",
       "</style>\n",
       "<table border=\"1\" class=\"dataframe\">\n",
       "  <thead>\n",
       "    <tr style=\"text-align: right;\">\n",
       "      <th></th>\n",
       "      <th>top20words</th>\n",
       "      <th>!count</th>\n",
       "      <th>syb_count</th>\n",
       "      <th>html</th>\n",
       "      <th>dirtywords</th>\n",
       "      <th>@</th>\n",
       "      <th>!</th>\n",
       "      <th>length</th>\n",
       "    </tr>\n",
       "  </thead>\n",
       "  <tbody>\n",
       "    <tr>\n",
       "      <th>0</th>\n",
       "      <td>1</td>\n",
       "      <td>0</td>\n",
       "      <td>0</td>\n",
       "      <td>0</td>\n",
       "      <td>0</td>\n",
       "      <td>0</td>\n",
       "      <td>0</td>\n",
       "      <td>125</td>\n",
       "    </tr>\n",
       "    <tr>\n",
       "      <th>1</th>\n",
       "      <td>0</td>\n",
       "      <td>0</td>\n",
       "      <td>0</td>\n",
       "      <td>0</td>\n",
       "      <td>0</td>\n",
       "      <td>0</td>\n",
       "      <td>0</td>\n",
       "      <td>229</td>\n",
       "    </tr>\n",
       "    <tr>\n",
       "      <th>2</th>\n",
       "      <td>0</td>\n",
       "      <td>0</td>\n",
       "      <td>0</td>\n",
       "      <td>0</td>\n",
       "      <td>0</td>\n",
       "      <td>0</td>\n",
       "      <td>0</td>\n",
       "      <td>61</td>\n",
       "    </tr>\n",
       "    <tr>\n",
       "      <th>3</th>\n",
       "      <td>0</td>\n",
       "      <td>0</td>\n",
       "      <td>0</td>\n",
       "      <td>0</td>\n",
       "      <td>0</td>\n",
       "      <td>0</td>\n",
       "      <td>0</td>\n",
       "      <td>139</td>\n",
       "    </tr>\n",
       "    <tr>\n",
       "      <th>4</th>\n",
       "      <td>0</td>\n",
       "      <td>0</td>\n",
       "      <td>0</td>\n",
       "      <td>0</td>\n",
       "      <td>0</td>\n",
       "      <td>0</td>\n",
       "      <td>0</td>\n",
       "      <td>84</td>\n",
       "    </tr>\n",
       "  </tbody>\n",
       "</table>\n",
       "</div>"
      ],
      "text/plain": [
       "   top20words  !count  syb_count  html  dirtywords  @  !  length\n",
       "0           1       0          0     0           0  0  0     125\n",
       "1           0       0          0     0           0  0  0     229\n",
       "2           0       0          0     0           0  0  0      61\n",
       "3           0       0          0     0           0  0  0     139\n",
       "4           0       0          0     0           0  0  0      84"
      ]
     },
     "execution_count": 111,
     "metadata": {},
     "output_type": "execute_result"
    }
   ],
   "source": [
    "text_train.head()"
   ]
  },
  {
   "cell_type": "code",
   "execution_count": 112,
   "metadata": {},
   "outputs": [],
   "source": [
    "param_grid = {\"C\": [1000,100,10, 1, 0.1, 0.01]}\n",
    "grid = GridSearchCV(LogisticRegression(),param_grid=param_grid, cv=5, scoring=\"f1_macro\" )"
   ]
  },
  {
   "cell_type": "code",
   "execution_count": 116,
   "metadata": {},
   "outputs": [
    {
     "data": {
      "text/plain": [
       "GridSearchCV(cv=5, error_score='raise-deprecating',\n",
       "       estimator=LogisticRegression(C=1.0, class_weight=None, dual=False, fit_intercept=True,\n",
       "          intercept_scaling=1, max_iter=100, multi_class='warn',\n",
       "          n_jobs=None, penalty='l2', random_state=None, solver='warn',\n",
       "          tol=0.0001, verbose=0, warm_start=False),\n",
       "       fit_params=None, iid='warn', n_jobs=None,\n",
       "       param_grid={'C': [1000, 100, 10, 1, 0.1, 0.01]},\n",
       "       pre_dispatch='2*n_jobs', refit=True, return_train_score='warn',\n",
       "       scoring='f1_macro', verbose=0)"
      ]
     },
     "execution_count": 116,
     "metadata": {},
     "output_type": "execute_result"
    }
   ],
   "source": [
    "grid.fit(text_train,y_train)"
   ]
  },
  {
   "cell_type": "code",
   "execution_count": 117,
   "metadata": {},
   "outputs": [
    {
     "data": {
      "text/plain": [
       "{'C': 1000}"
      ]
     },
     "execution_count": 117,
     "metadata": {},
     "output_type": "execute_result"
    }
   ],
   "source": [
    "grid.best_params_"
   ]
  },
  {
   "cell_type": "code",
   "execution_count": 118,
   "metadata": {},
   "outputs": [
    {
     "data": {
      "text/plain": [
       "0.4541557516222559"
      ]
     },
     "execution_count": 118,
     "metadata": {},
     "output_type": "execute_result"
    }
   ],
   "source": [
    "grid.best_score_"
   ]
  },
  {
   "cell_type": "markdown",
   "metadata": {},
   "source": [
    "Use Gradient Boosting"
   ]
  },
  {
   "cell_type": "code",
   "execution_count": 119,
   "metadata": {},
   "outputs": [],
   "source": [
    "from sklearn.ensemble import GradientBoostingClassifier"
   ]
  },
  {
   "cell_type": "code",
   "execution_count": 120,
   "metadata": {},
   "outputs": [],
   "source": [
    "param_grid = {\"learning_rate\": [1, 0.5, 0.25, 0.1, 0.05, 0.01]}\n",
    "grid_gbdt = GridSearchCV(GradientBoostingClassifier(),param_grid=param_grid, scoring=\"f1_macro\" )"
   ]
  },
  {
   "cell_type": "code",
   "execution_count": 121,
   "metadata": {},
   "outputs": [
    {
     "data": {
      "text/plain": [
       "GridSearchCV(cv='warn', error_score='raise-deprecating',\n",
       "       estimator=GradientBoostingClassifier(criterion='friedman_mse', init=None,\n",
       "              learning_rate=0.1, loss='deviance', max_depth=3,\n",
       "              max_features=None, max_leaf_nodes=None,\n",
       "              min_impurity_decrease=0.0, min_impurity_split=None,\n",
       "              min_samples_leaf=1, min_sampl...      subsample=1.0, tol=0.0001, validation_fraction=0.1,\n",
       "              verbose=0, warm_start=False),\n",
       "       fit_params=None, iid='warn', n_jobs=None,\n",
       "       param_grid={'learning_rate': [1, 0.5, 0.25, 0.1, 0.05, 0.01]},\n",
       "       pre_dispatch='2*n_jobs', refit=True, return_train_score='warn',\n",
       "       scoring='f1_macro', verbose=0)"
      ]
     },
     "execution_count": 121,
     "metadata": {},
     "output_type": "execute_result"
    }
   ],
   "source": [
    "grid_gbdt.fit(text_train,y_train)"
   ]
  },
  {
   "cell_type": "code",
   "execution_count": 122,
   "metadata": {},
   "outputs": [
    {
     "data": {
      "text/plain": [
       "{'learning_rate': 1}"
      ]
     },
     "execution_count": 122,
     "metadata": {},
     "output_type": "execute_result"
    }
   ],
   "source": [
    "grid_gbdt.best_params_"
   ]
  },
  {
   "cell_type": "code",
   "execution_count": 123,
   "metadata": {},
   "outputs": [
    {
     "data": {
      "text/plain": [
       "0.5922428955492742"
      ]
     },
     "execution_count": 123,
     "metadata": {},
     "output_type": "execute_result"
    }
   ],
   "source": [
    "grid_gbdt.best_score_"
   ]
  },
  {
   "cell_type": "markdown",
   "metadata": {},
   "source": [
    "Comments:\n",
    "    \n",
    "'Body' column is important for classificantion when use logistic regression; If we drop body column and only use derived features, then gradient boosting perform much better than logistic regression for this problem."
   ]
  },
  {
   "cell_type": "markdown",
   "metadata": {},
   "source": [
    "## Task 2 Word Vector"
   ]
  },
  {
   "cell_type": "code",
   "execution_count": 92,
   "metadata": {},
   "outputs": [],
   "source": [
    "for i in range(0,len(text_train_lst)):\n",
    "    text_train_lst[i] = preprocessing.remove_stopwords(text_train_lst[i])\n",
    "    text_train_lst[i] = preprocessing.strip_punctuation(text_train_lst[i])"
   ]
  },
  {
   "cell_type": "code",
   "execution_count": 93,
   "metadata": {},
   "outputs": [],
   "source": [
    "texts = [[token for token in re.split('\\W+',doc)] for doc in text_train_lst]"
   ]
  },
  {
   "cell_type": "markdown",
   "metadata": {},
   "source": [
    "**Word2vec pre-trained**"
   ]
  },
  {
   "cell_type": "code",
   "execution_count": 89,
   "metadata": {},
   "outputs": [],
   "source": [
    "#use the GoogleNew dictionary\n",
    "w = models.KeyedVectors.load_word2vec_format('GoogleNews-vectors-negative300.bin', binary=True)"
   ]
  },
  {
   "cell_type": "code",
   "execution_count": 94,
   "metadata": {},
   "outputs": [],
   "source": [
    "#deal with the words not in w\n",
    "for i in range(0, len(texts)):\n",
    "    for j in range(0,len(texts[i])):\n",
    "        if texts[i][j] not in w.vocab:\n",
    "            texts[i][j] = 'unknown'"
   ]
  },
  {
   "cell_type": "code",
   "execution_count": 95,
   "metadata": {
    "scrolled": true
   },
   "outputs": [],
   "source": [
    " X_train = np.vstack([np.mean(w[doc], axis=0) for doc in texts])"
   ]
  },
  {
   "cell_type": "code",
   "execution_count": 104,
   "metadata": {},
   "outputs": [],
   "source": [
    "param_grid = {\"C\": [10, 1, 0.1, 0.01, 0.001]}\n",
    "grid_w2v = GridSearchCV(LogisticRegression(),param_grid=param_grid, cv=5, scoring=\"f1_macro\")"
   ]
  },
  {
   "cell_type": "code",
   "execution_count": 105,
   "metadata": {
    "scrolled": true
   },
   "outputs": [
    {
     "data": {
      "text/plain": [
       "GridSearchCV(cv=5, error_score='raise-deprecating',\n",
       "       estimator=LogisticRegression(C=1.0, class_weight=None, dual=False, fit_intercept=True,\n",
       "          intercept_scaling=1, max_iter=100, multi_class='warn',\n",
       "          n_jobs=None, penalty='l2', random_state=None, solver='warn',\n",
       "          tol=0.0001, verbose=0, warm_start=False),\n",
       "       fit_params=None, iid='warn', n_jobs=None,\n",
       "       param_grid={'C': [10, 1, 0.1, 0.01, 0.001]},\n",
       "       pre_dispatch='2*n_jobs', refit=True, return_train_score='warn',\n",
       "       scoring='f1_macro', verbose=0)"
      ]
     },
     "execution_count": 105,
     "metadata": {},
     "output_type": "execute_result"
    }
   ],
   "source": [
    "grid_w2v.fit(X_train, y_train)"
   ]
  },
  {
   "cell_type": "code",
   "execution_count": 106,
   "metadata": {},
   "outputs": [
    {
     "data": {
      "text/plain": [
       "{'C': 10}"
      ]
     },
     "execution_count": 106,
     "metadata": {},
     "output_type": "execute_result"
    }
   ],
   "source": [
    "grid_w2v.best_params_"
   ]
  },
  {
   "cell_type": "code",
   "execution_count": 107,
   "metadata": {},
   "outputs": [
    {
     "data": {
      "text/plain": [
       "0.6397384179079968"
      ]
     },
     "execution_count": 107,
     "metadata": {},
     "output_type": "execute_result"
    }
   ],
   "source": [
    "grid_w2v.best_score_"
   ]
  },
  {
   "cell_type": "markdown",
   "metadata": {},
   "source": [
    "**Fasttext pre-trained crawl**"
   ]
  },
  {
   "cell_type": "code",
   "execution_count": 171,
   "metadata": {},
   "outputs": [],
   "source": [
    "#use the crawl-300d-2M dictionary, fasetext pre-trained\n",
    "#https://github.com/RaRe-Technologies/gensim/issues/814\n",
    "w2 = models.KeyedVectors.load_word2vec_format('crawl-300d-2M.vec', binary=False)"
   ]
  },
  {
   "cell_type": "code",
   "execution_count": 182,
   "metadata": {},
   "outputs": [],
   "source": [
    "texts = [[token for token in re.split('\\W+',doc)] for doc in text_train_lst]"
   ]
  },
  {
   "cell_type": "code",
   "execution_count": 184,
   "metadata": {},
   "outputs": [],
   "source": [
    "#deal with the words not in w2\n",
    "for i in range(0, len(texts)):\n",
    "    for j in range(0,len(texts[i])):\n",
    "        if texts[i][j] not in w2.vocab:\n",
    "            texts[i][j] = 'unknown'"
   ]
  },
  {
   "cell_type": "code",
   "execution_count": 185,
   "metadata": {},
   "outputs": [],
   "source": [
    " X_train = np.vstack([np.mean(w2[doc], axis=0) for doc in texts])"
   ]
  },
  {
   "cell_type": "code",
   "execution_count": 186,
   "metadata": {
    "scrolled": false
   },
   "outputs": [
    {
     "data": {
      "text/plain": [
       "GridSearchCV(cv=5, error_score='raise-deprecating',\n",
       "       estimator=LogisticRegression(C=1.0, class_weight=None, dual=False, fit_intercept=True,\n",
       "          intercept_scaling=1, max_iter=100, multi_class='warn',\n",
       "          n_jobs=None, penalty='l2', random_state=None, solver='warn',\n",
       "          tol=0.0001, verbose=0, warm_start=False),\n",
       "       fit_params=None, iid='warn', n_jobs=None,\n",
       "       param_grid={'C': [10, 1, 0.1, 0.01, 0.001]},\n",
       "       pre_dispatch='2*n_jobs', refit=True, return_train_score='warn',\n",
       "       scoring='f1_macro', verbose=0)"
      ]
     },
     "execution_count": 186,
     "metadata": {},
     "output_type": "execute_result"
    }
   ],
   "source": [
    "grid_w2v.fit(X_train, y_train)"
   ]
  },
  {
   "cell_type": "code",
   "execution_count": 187,
   "metadata": {},
   "outputs": [
    {
     "data": {
      "text/plain": [
       "{'C': 10}"
      ]
     },
     "execution_count": 187,
     "metadata": {},
     "output_type": "execute_result"
    }
   ],
   "source": [
    "grid_w2v.best_params_"
   ]
  },
  {
   "cell_type": "code",
   "execution_count": 188,
   "metadata": {},
   "outputs": [
    {
     "data": {
      "text/plain": [
       "0.6568765489096293"
      ]
     },
     "execution_count": 188,
     "metadata": {},
     "output_type": "execute_result"
    }
   ],
   "source": [
    "grid_w2v.best_score_"
   ]
  },
  {
   "cell_type": "markdown",
   "metadata": {},
   "source": [
    "**Fasttext pre-trained wiki-news with subword**"
   ]
  },
  {
   "cell_type": "code",
   "execution_count": 189,
   "metadata": {},
   "outputs": [],
   "source": [
    "#use the wikipedia dictionary, fasetext pre-trained\n",
    "w3 = models.KeyedVectors.load_word2vec_format('wiki-news-300d-1M-subword.vec', binary=False)"
   ]
  },
  {
   "cell_type": "code",
   "execution_count": 190,
   "metadata": {},
   "outputs": [],
   "source": [
    "texts = [[token for token in re.split('\\W+',doc)] for doc in text_train_lst]"
   ]
  },
  {
   "cell_type": "code",
   "execution_count": 191,
   "metadata": {},
   "outputs": [],
   "source": [
    "#deal with the words not in w2\n",
    "for i in range(0, len(texts)):\n",
    "    for j in range(0,len(texts[i])):\n",
    "        if texts[i][j] not in w3.vocab:\n",
    "            texts[i][j] = 'unknown'"
   ]
  },
  {
   "cell_type": "code",
   "execution_count": 192,
   "metadata": {},
   "outputs": [],
   "source": [
    " X_train = np.vstack([np.mean(w3[doc], axis=0) for doc in texts])"
   ]
  },
  {
   "cell_type": "code",
   "execution_count": 193,
   "metadata": {
    "scrolled": false
   },
   "outputs": [
    {
     "data": {
      "text/plain": [
       "GridSearchCV(cv=5, error_score='raise-deprecating',\n",
       "       estimator=LogisticRegression(C=1.0, class_weight=None, dual=False, fit_intercept=True,\n",
       "          intercept_scaling=1, max_iter=100, multi_class='warn',\n",
       "          n_jobs=None, penalty='l2', random_state=None, solver='warn',\n",
       "          tol=0.0001, verbose=0, warm_start=False),\n",
       "       fit_params=None, iid='warn', n_jobs=None,\n",
       "       param_grid={'C': [10, 1, 0.1, 0.01, 0.001]},\n",
       "       pre_dispatch='2*n_jobs', refit=True, return_train_score='warn',\n",
       "       scoring='f1_macro', verbose=0)"
      ]
     },
     "execution_count": 193,
     "metadata": {},
     "output_type": "execute_result"
    }
   ],
   "source": [
    "grid_w2v.fit(X_train, y_train)"
   ]
  },
  {
   "cell_type": "code",
   "execution_count": 194,
   "metadata": {},
   "outputs": [
    {
     "data": {
      "text/plain": [
       "{'C': 10}"
      ]
     },
     "execution_count": 194,
     "metadata": {},
     "output_type": "execute_result"
    }
   ],
   "source": [
    "grid_w2v.best_params_"
   ]
  },
  {
   "cell_type": "code",
   "execution_count": 195,
   "metadata": {},
   "outputs": [
    {
     "data": {
      "text/plain": [
       "0.6374199796830509"
      ]
     },
     "execution_count": 195,
     "metadata": {},
     "output_type": "execute_result"
    }
   ],
   "source": [
    "grid_w2v.best_score_"
   ]
  },
  {
   "cell_type": "markdown",
   "metadata": {},
   "source": [
    "Comments\n",
    "\n",
    "They tend to not have significant improvement for classification."
   ]
  }
 ],
 "metadata": {
  "kernelspec": {
   "display_name": "Python 3",
   "language": "python",
   "name": "python3"
  },
  "language_info": {
   "codemirror_mode": {
    "name": "ipython",
    "version": 3
   },
   "file_extension": ".py",
   "mimetype": "text/x-python",
   "name": "python",
   "nbconvert_exporter": "python",
   "pygments_lexer": "ipython3",
   "version": "3.7.3"
  }
 },
 "nbformat": 4,
 "nbformat_minor": 2
}

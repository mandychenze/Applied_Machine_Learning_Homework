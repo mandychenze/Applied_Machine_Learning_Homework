{
  "cells": [
    {
      "cell_type": "markdown",
      "metadata": {
        "id": "view-in-github",
        "colab_type": "text"
      },
      "source": [
        "<a href=\"https://colab.research.google.com/github/mandychenze/Applied_Machine_Learning_Homework/blob/master/Copy_of_optimized_rag_workshop.ipynb\" target=\"_parent\"><img src=\"https://colab.research.google.com/assets/colab-badge.svg\" alt=\"Open In Colab\"/></a>"
      ]
    },
    {
      "cell_type": "markdown",
      "metadata": {
        "id": "sfolF10VZpnK"
      },
      "source": [
        "[![Open In Colab](https://colab.research.google.com/assets/colab-badge.svg)](https://colab.research.google.com/github/abhimanyu-anand/GenAIPlayground/blob/main/tmls-2025-rag-workshop/optimized_rag_workshop.ipynb)\n",
        "\n",
        "In this interactive notebook we will implment some the concepts we learnt about in the talk section of the Optimized RAG (TMLS 2025 workshop) using Elasticsearch, via the official [Elasticsearch Python client](https://www.elastic.co/guide/en/elasticsearch/client/python-api/current/connecting.html).\n",
        "\n",
        "Sepcifically we will go over:\n",
        "1. ES basics\n",
        "2. Embedding Quanitzayion\n",
        "3. Filtered Hybrid search\n",
        "4. Semantic Context Highlighting\n",
        "5. Tracing using OTel"
      ]
    },
    {
      "cell_type": "markdown",
      "metadata": {
        "id": "dhXKXFdcZurj"
      },
      "source": [
        "## Create Elastic Cloud deployment\n",
        "\n",
        "If you don't have an Elastic Cloud deployment, sign up [here](https://cloud.elastic.co/registration?onboarding_token=vectorsearch&utm_source=github&utm_content=elasticsearch-labs-notebook) for a free trial.\n",
        "\n",
        "Once logged in to your Elastic Cloud account, go to the [Create deployment](https://cloud.elastic.co/deployments/create) page.\n",
        "1. Select **Create deployment**.\n",
        "2. Then choose the **ElasticSearch** option & click next.\n",
        "3. Write **tmls-2025-workshop** as name for your elasticsearch deployment.\n",
        "4. Select **AWS** as Cloud Provider.\n",
        "5. Select **🇺🇸   N. Virginia (us-east-1)** as Region\n",
        "6. Select **Vector Search Optimized (ARM)** as Hardware Profile\n",
        "7. Leave all other settings including **Version** with their default values.\n",
        "8. Then click **Create hosted deployment**. This will take about 5 minutes.\n",
        "9. You'll be provided with a username and password you can ignore that; as we will not need that for this workshop.\n",
        "10. Once the deployment is ready hit **Continue**\n"
      ]
    },
    {
      "cell_type": "markdown",
      "metadata": {
        "id": "tF8vEv_NeR-o"
      },
      "source": [
        "## Install packages and import modules\n",
        "\n",
        "To get started, we'll need to connect to our Elastic deployment using the Python client.\n",
        "Because we're using an Elastic Cloud deployment, we'll use the **Cloud ID** to identify our deployment.\n",
        "\n",
        "First we need to install the `elasticsearch` Python client."
      ]
    },
    {
      "cell_type": "code",
      "execution_count": 1,
      "metadata": {
        "colab": {
          "base_uri": "https://localhost:8080/"
        },
        "id": "BqiAQ54TZvY4",
        "outputId": "73d8a38e-6fd3-4a21-92ca-49d87609f789"
      },
      "outputs": [
        {
          "output_type": "stream",
          "name": "stdout",
          "text": [
            "\u001b[?25l   \u001b[90m━━━━━━━━━━━━━━━━━━━━━━━━━━━━━━━━━━━━━━━━\u001b[0m \u001b[32m0.0/118.5 kB\u001b[0m \u001b[31m?\u001b[0m eta \u001b[36m-:--:--\u001b[0m\r\u001b[2K   \u001b[90m━━━━━━━━━━━━━━━━━━━━━━━━━━━━━━━━━━━━━━━━\u001b[0m \u001b[32m118.5/118.5 kB\u001b[0m \u001b[31m5.2 MB/s\u001b[0m eta \u001b[36m0:00:00\u001b[0m\n",
            "\u001b[?25h\u001b[?25l   \u001b[90m━━━━━━━━━━━━━━━━━━━━━━━━━━━━━━━━━━━━━━━━\u001b[0m \u001b[32m0.0/65.8 kB\u001b[0m \u001b[31m?\u001b[0m eta \u001b[36m-:--:--\u001b[0m\r\u001b[2K   \u001b[90m━━━━━━━━━━━━━━━━━━━━━━━━━━━━━━━━━━━━━━━━\u001b[0m \u001b[32m65.8/65.8 kB\u001b[0m \u001b[31m4.0 MB/s\u001b[0m eta \u001b[36m0:00:00\u001b[0m\n",
            "\u001b[?25h\u001b[?25l   \u001b[90m━━━━━━━━━━━━━━━━━━━━━━━━━━━━━━━━━━━━━━━━\u001b[0m \u001b[32m0.0/196.2 kB\u001b[0m \u001b[31m?\u001b[0m eta \u001b[36m-:--:--\u001b[0m\r\u001b[2K   \u001b[90m━━━━━━━━━━━━━━━━━━━━━━━━━━━━━━━━━━━━━━━━\u001b[0m \u001b[32m196.2/196.2 kB\u001b[0m \u001b[31m12.1 MB/s\u001b[0m eta \u001b[36m0:00:00\u001b[0m\n",
            "\u001b[2K   \u001b[90m━━━━━━━━━━━━━━━━━━━━━━━━━━━━━━━━━━━━━━━━\u001b[0m \u001b[32m55.7/55.7 kB\u001b[0m \u001b[31m3.3 MB/s\u001b[0m eta \u001b[36m0:00:00\u001b[0m\n",
            "\u001b[2K   \u001b[90m━━━━━━━━━━━━━━━━━━━━━━━━━━━━━━━━━━━━━━━━\u001b[0m \u001b[32m914.3/914.3 kB\u001b[0m \u001b[31m31.3 MB/s\u001b[0m eta \u001b[36m0:00:00\u001b[0m\n",
            "\u001b[2K   \u001b[90m━━━━━━━━━━━━━━━━━━━━━━━━━━━━━━━━━━━━━━━━\u001b[0m \u001b[32m65.0/65.0 kB\u001b[0m \u001b[31m4.3 MB/s\u001b[0m eta \u001b[36m0:00:00\u001b[0m\n",
            "\u001b[2K   \u001b[90m━━━━━━━━━━━━━━━━━━━━━━━━━━━━━━━━━━━━━━━━\u001b[0m \u001b[32m363.4/363.4 MB\u001b[0m \u001b[31m3.7 MB/s\u001b[0m eta \u001b[36m0:00:00\u001b[0m\n",
            "\u001b[2K   \u001b[90m━━━━━━━━━━━━━━━━━━━━━━━━━━━━━━━━━━━━━━━━\u001b[0m \u001b[32m13.8/13.8 MB\u001b[0m \u001b[31m54.4 MB/s\u001b[0m eta \u001b[36m0:00:00\u001b[0m\n",
            "\u001b[2K   \u001b[90m━━━━━━━━━━━━━━━━━━━━━━━━━━━━━━━━━━━━━━━━\u001b[0m \u001b[32m24.6/24.6 MB\u001b[0m \u001b[31m60.0 MB/s\u001b[0m eta \u001b[36m0:00:00\u001b[0m\n",
            "\u001b[2K   \u001b[90m━━━━━━━━━━━━━━━━━━━━━━━━━━━━━━━━━━━━━━━━\u001b[0m \u001b[32m883.7/883.7 kB\u001b[0m \u001b[31m20.8 MB/s\u001b[0m eta \u001b[36m0:00:00\u001b[0m\n",
            "\u001b[2K   \u001b[90m━━━━━━━━━━━━━━━━━━━━━━━━━━━━━━━━━━━━━━━━\u001b[0m \u001b[32m664.8/664.8 MB\u001b[0m \u001b[31m1.4 MB/s\u001b[0m eta \u001b[36m0:00:00\u001b[0m\n",
            "\u001b[2K   \u001b[90m━━━━━━━━━━━━━━━━━━━━━━━━━━━━━━━━━━━━━━━━\u001b[0m \u001b[32m211.5/211.5 MB\u001b[0m \u001b[31m6.0 MB/s\u001b[0m eta \u001b[36m0:00:00\u001b[0m\n",
            "\u001b[2K   \u001b[90m━━━━━━━━━━━━━━━━━━━━━━━━━━━━━━━━━━━━━━━━\u001b[0m \u001b[32m56.3/56.3 MB\u001b[0m \u001b[31m18.0 MB/s\u001b[0m eta \u001b[36m0:00:00\u001b[0m\n",
            "\u001b[2K   \u001b[90m━━━━━━━━━━━━━━━━━━━━━━━━━━━━━━━━━━━━━━━━\u001b[0m \u001b[32m127.9/127.9 MB\u001b[0m \u001b[31m10.2 MB/s\u001b[0m eta \u001b[36m0:00:00\u001b[0m\n",
            "\u001b[2K   \u001b[90m━━━━━━━━━━━━━━━━━━━━━━━━━━━━━━━━━━━━━━━━\u001b[0m \u001b[32m207.5/207.5 MB\u001b[0m \u001b[31m6.4 MB/s\u001b[0m eta \u001b[36m0:00:00\u001b[0m\n",
            "\u001b[2K   \u001b[90m━━━━━━━━━━━━━━━━━━━━━━━━━━━━━━━━━━━━━━━━\u001b[0m \u001b[32m21.1/21.1 MB\u001b[0m \u001b[31m97.9 MB/s\u001b[0m eta \u001b[36m0:00:00\u001b[0m\n",
            "\u001b[?25h"
          ]
        }
      ],
      "source": [
        "!pip install -qU transformers accelerate opentelemetry-sdk opentelemetry-exporter-otlp elasticsearch"
      ]
    },
    {
      "cell_type": "markdown",
      "metadata": {
        "id": "TMZuy3vjerfD"
      },
      "source": [
        "## Initialize the Elasticsearch client\n",
        "\n",
        "Now we can instantiate the [Elasticsearch python client](https://www.elastic.co/guide/en/elasticsearch/client/python-api/current/index.html), providing the cloud id and password in your deployment."
      ]
    },
    {
      "cell_type": "code",
      "source": [
        "from elasticsearch import Elasticsearch\n",
        "client = Elasticsearch(\n",
        "    \"https://48cf73e9993f4e25bdc561aa4bf275e0.us-east-1.aws.found.io:443\",\n",
        "    api_key=\"RkU1S2hKY0JWMWI3eHJuUElsaEQ6MlJaOWhielpDWVdOOUVqbGdTcndzQQ==\"\n",
        ")\n",
        "index_name = \"search-sc2l\"\n",
        "mappings = {\n",
        "    \"properties\": {\n",
        "        \"text\": {\n",
        "            \"type\": \"text\"\n",
        "        }\n",
        "    }\n",
        "}\n",
        "mapping_response = client.indices.put_mapping(index=index_name, body=mappings)\n",
        "print(mapping_response)"
      ],
      "metadata": {
        "colab": {
          "base_uri": "https://localhost:8080/"
        },
        "id": "-S_0nZjySbSo",
        "outputId": "139187d7-a4ce-4ffb-c3ee-ddabd0083be6"
      },
      "execution_count": 3,
      "outputs": [
        {
          "output_type": "stream",
          "name": "stdout",
          "text": [
            "{'acknowledged': True}\n"
          ]
        }
      ]
    },
    {
      "cell_type": "code",
      "execution_count": 4,
      "metadata": {
        "colab": {
          "base_uri": "https://localhost:8080/"
        },
        "id": "zmgfMt5Men35",
        "outputId": "998b8c2c-888a-49ea-e546-4dc543e68e48"
      },
      "outputs": [
        {
          "name": "stdout",
          "output_type": "stream",
          "text": [
            "Elastic Cloud ID: ··········\n",
            "Elastic Api Key: ··········\n"
          ]
        }
      ],
      "source": [
        "from elasticsearch import Elasticsearch, helpers, exceptions\n",
        "from urllib.request import urlopen\n",
        "from getpass import getpass\n",
        "import json\n",
        "import time\n",
        "\n",
        "# https://www.elastic.co/search-labs/tutorials/install-elasticsearch/elastic-cloud#finding-your-cloud-id\n",
        "ELASTIC_CLOUD_ID = getpass(\"Elastic Cloud ID: \")\n",
        "\n",
        "# https://www.elastic.co/search-labs/tutorials/install-elasticsearch/elastic-cloud#creating-an-api-key\n",
        "ELASTIC_API_KEY = getpass(\"Elastic Api Key: \")\n",
        "\n",
        "# Create the client instance\n",
        "client = Elasticsearch(\n",
        "    ELASTIC_CLOUD_ID,\n",
        "    api_key=ELASTIC_API_KEY,\n",
        ")"
      ]
    },
    {
      "cell_type": "code",
      "execution_count": 5,
      "metadata": {
        "colab": {
          "base_uri": "https://localhost:8080/"
        },
        "id": "eIZZ0rG4fWo2",
        "outputId": "e3cb1250-5f38-4891-8ad4-f3dfdcced8e1"
      },
      "outputs": [
        {
          "output_type": "stream",
          "name": "stdout",
          "text": [
            "Connected to Elasticsearch! 🥳\n",
            "{'name': 'instance-0000000000', 'cluster_name': '48cf73e9993f4e25bdc561aa4bf275e0', 'cluster_uuid': 'Z_WeY9pRTkqx6uF8NUCyFA', 'version': {'number': '9.0.2', 'build_flavor': 'default', 'build_type': 'docker', 'build_hash': '0a58bc1dc7a4ae5412db66624aab968370bd44ce', 'build_date': '2025-05-28T10:06:37.834829258Z', 'build_snapshot': False, 'lucene_version': '10.1.0', 'minimum_wire_compatibility_version': '8.18.0', 'minimum_index_compatibility_version': '8.0.0'}, 'tagline': 'You Know, for Search'}\n"
          ]
        }
      ],
      "source": [
        "# check if connection is succesfully established\n",
        "if client.ping():\n",
        "    print(\"Connected to Elasticsearch! 🥳\")\n",
        "    print(client.info())\n",
        "else:\n",
        "    print(\"Connection failed.\")"
      ]
    },
    {
      "cell_type": "markdown",
      "metadata": {
        "id": "ruiOThLwgUj7"
      },
      "source": [
        "## Platform Walkthrough"
      ]
    },
    {
      "cell_type": "code",
      "execution_count": 7,
      "metadata": {
        "colab": {
          "base_uri": "https://localhost:8080/"
        },
        "id": "UFliI_Y4ptCi",
        "outputId": "a4d04037-15de-49ed-89d3-7a6b35199f93"
      },
      "outputs": [
        {
          "output_type": "execute_result",
          "data": {
            "text/plain": [
              "ObjectApiResponse({'acknowledged': True})"
            ]
          },
          "metadata": {},
          "execution_count": 7
        }
      ],
      "source": [
        "model_id = \".multilingual-e5-small-elasticsearch\"\n",
        "client.ingest.put_pipeline(\n",
        "    id=\"title_embeddings_pipeline\",\n",
        "    description=\"Ingest pipeline for converting title text to embeddings using elastic multilingual e5-small model\",\n",
        "    processors=[\n",
        "        {\n",
        "            \"inference\": {\n",
        "                \"model_id\": model_id,\n",
        "                \"input_output\": [\n",
        "                    {\"input_field\": \"title\", \"output_field\": \"title_embedding\"}\n",
        "                ],\n",
        "            }\n",
        "        }\n",
        "    ],\n",
        ")"
      ]
    },
    {
      "cell_type": "markdown",
      "metadata": {
        "id": "-aCzdzuZwn8u"
      },
      "source": [
        "Let's note a few important parameters from that API call:\n",
        "\n",
        "- `inference`: A processor that performs inference using a machine learning model.\n",
        "- `model_id`: Specifies the ID of the machine learning model to be used. In this example, the model ID is set to `.multilingual-e5-small-elasticsearch`.\n",
        "- `input_output`: Specifies input and output fields\n",
        "- `input_field`: Field name from which the `dense_vector` representation are created.\n",
        "- `output_field`:  Field name which contains inference results."
      ]
    },
    {
      "cell_type": "markdown",
      "metadata": {
        "id": "YRog64xVmSPx"
      },
      "source": [
        "## Define the mapping\n",
        "Now we need to create an index **tmls-optimized-rag-workshop**\n",
        "\n",
        "Notice how we configured the mappings specifically:\n",
        "\n",
        "1. Setting the **index_options.type** field of the **title_embedding** to **bbq_hnsw** indicating it should be a binary vector. Important to note that the full precision embedding is not lost, and we can use the non-quantized, original vectors to re-rank the candidates to get the top results. This combines:\n",
        "\n",
        "  - The performance and memory gains of approximate retrieval using quantized vectors for retrieving the top candidates.\n",
        "  - The accuracy of using the original vectors for rescoring the top candidates.\n",
        "\n",
        "2. We defined plot_semantic as a semantic_text field. We have configured the plot field to copy its value to the plot_semantic field. While copy_to is not required to use semantic_text, it enables use cases like hybrid search where semantic and lexical techniques are used together.\n"
      ]
    },
    {
      "cell_type": "code",
      "execution_count": 8,
      "metadata": {
        "colab": {
          "base_uri": "https://localhost:8080/"
        },
        "id": "dSFYxTQwmH_t",
        "outputId": "a451e8da-e0e3-4ad4-8b98-3579bafdd8b2"
      },
      "outputs": [
        {
          "output_type": "execute_result",
          "data": {
            "text/plain": [
              "ObjectApiResponse({'acknowledged': True, 'shards_acknowledged': True, 'index': 'tmls-optimized-rag-workshop'})"
            ]
          },
          "metadata": {},
          "execution_count": 8
        }
      ],
      "source": [
        "index_name = \"tmls-optimized-rag-workshop\"\n",
        "client.indices.delete(index=index_name, ignore_unavailable=True)\n",
        "client.indices.create(\n",
        "    index=index_name,\n",
        "    settings={\"index\": {\"default_pipeline\": \"title_embeddings_pipeline\"}},\n",
        "    mappings={\n",
        "        \"properties\": {\n",
        "            \"title\": {\n",
        "                \"type\": \"text\"\n",
        "            },\n",
        "            \"title_embedding\": {\n",
        "                \"type\": \"dense_vector\",\n",
        "                \"dims\": 384,\n",
        "                \"index\": \"true\",\n",
        "                \"similarity\": \"cosine\",\n",
        "                \"index_options\": {\n",
        "                    \"type\": \"bbq_hnsw\"\n",
        "                }\n",
        "            },\n",
        "            \"genre\": {\n",
        "                \"type\": \"text\"\n",
        "            },\n",
        "            \"plot\": {\n",
        "                \"type\": \"text\",\n",
        "                \"copy_to\": \"plot_semantic\"\n",
        "            },\n",
        "            \"plot_semantic\": {\n",
        "                \"type\": \"semantic_text\"\n",
        "            },\n",
        "            \"released\": {\n",
        "                \"type\": \"integer\"\n",
        "            },\n",
        "        }\n",
        "    },\n",
        ")"
      ]
    },
    {
      "cell_type": "markdown",
      "metadata": {
        "id": "KcwgM504kuke"
      },
      "source": [
        "### Index test data\n",
        "\n",
        "Run the following command to upload a test data, containing information about 12 popular movies books from this [dataset](https://raw.githubusercontent.com/abhimanyu-anand/GenAIPlayground/main/tmls-2025-rag-workshop/assets/movies_with_wikipedia_plots.json)"
      ]
    },
    {
      "cell_type": "code",
      "execution_count": 9,
      "metadata": {
        "colab": {
          "base_uri": "https://localhost:8080/"
        },
        "id": "iibcbAy4qw6l",
        "outputId": "2f94bc26-eeba-4a4f-e815-f4af594a6df7"
      },
      "outputs": [
        {
          "output_type": "stream",
          "name": "stdout",
          "text": [
            "JSON file loaded successfully!\n"
          ]
        }
      ],
      "source": [
        "from urllib.request import urlopen\n",
        "import json\n",
        "\n",
        "url = \"https://raw.githubusercontent.com/abhimanyu-anand/GenAIPlayground/main/tmls-2025-rag-workshop/assets/movies_with_wikipedia_plots.json\"\n",
        "\n",
        "try:\n",
        "    response = urlopen(url)\n",
        "    data_json = json.loads(response.read())\n",
        "    print(\"JSON file loaded successfully!\")\n",
        "\n",
        "except Exception as e:\n",
        "    print(f\"Error loading the JSON file: {e}\")\n",
        "\n",
        "# Prepare the documents to be indexed\n",
        "documents = []\n",
        "for doc in data_json:\n",
        "    documents.append(\n",
        "        {\n",
        "            \"_index\": index_name,\n",
        "            \"_source\": doc,\n",
        "        }\n",
        "    )"
      ]
    },
    {
      "cell_type": "code",
      "source": [
        "#documents"
      ],
      "metadata": {
        "id": "P9_H8nQvTiv5"
      },
      "execution_count": 16,
      "outputs": []
    },
    {
      "cell_type": "code",
      "execution_count": 11,
      "metadata": {
        "colab": {
          "base_uri": "https://localhost:8080/"
        },
        "id": "GrtA7nq5rQrn",
        "outputId": "1a5a7cf6-710f-4ab1-ff3c-8c42f56a7bbc"
      },
      "outputs": [
        {
          "output_type": "stream",
          "name": "stderr",
          "text": [
            "<timed exec>:2: DeprecationWarning: Passing transport options in the API method is deprecated. Use 'Elasticsearch.options()' instead.\n"
          ]
        },
        {
          "output_type": "stream",
          "name": "stdout",
          "text": [
            "Done indexing documents into tmls-optimized-rag-workshop index!\n",
            "CPU times: user 569 ms, sys: 83.4 ms, total: 652 ms\n",
            "Wall time: 2min 52s\n"
          ]
        }
      ],
      "source": [
        "%%time\n",
        "# Use helpers.bulk to index\n",
        "helpers.bulk(client, documents, request_timeout=600)\n",
        "\n",
        "print(f\"Done indexing documents into {index_name} index!\")\n",
        "time.sleep(3)"
      ]
    },
    {
      "cell_type": "markdown",
      "metadata": {
        "id": "CiQnIHLHtm_4"
      },
      "source": [
        "## Semantic Search\n",
        "Now that our index is populated, we can query it using semantic search.\n",
        "\n",
        "Aside: Pretty printing Elasticsearch search results\n",
        "Your search API calls will return hard-to-read nested JSON. We'll create a little function called pretty_search_response to return nice, human-readable outputs from our examples."
      ]
    },
    {
      "cell_type": "code",
      "execution_count": 12,
      "metadata": {
        "id": "Pl_snWyDtkd-"
      },
      "outputs": [],
      "source": [
        "def pretty_search_response(response, highlight = False):\n",
        "    if len(response[\"hits\"][\"hits\"]) == 0:\n",
        "        print(\"Your search returned no results.\")\n",
        "    else:\n",
        "        for hit in response[\"hits\"][\"hits\"]:\n",
        "            id = hit[\"_id\"]\n",
        "            score = hit[\"_score\"]\n",
        "            title = hit[\"_source\"][\"title\"]\n",
        "            runtime = hit[\"_source\"][\"runtime\"]\n",
        "            plot = hit[\"_source\"][\"plot\"]\n",
        "            keyScene = hit[\"_source\"][\"keyScene\"]\n",
        "            genre = hit[\"_source\"][\"genre\"]\n",
        "            released = hit[\"_source\"][\"released\"]\n",
        "\n",
        "            pretty_output = f\"\\nID: {id}\\nScore: {score}\\nTitle: {title}\\nRuntime: {runtime}\\nPlot: {plot}\\nKey Scene: {keyScene}\\nGenre: {genre}\\nReleased: {released}\"\n",
        "            if highlight:\n",
        "              highlight_plot_semantic = hit[\"highlight\"]['plot_semantic']\n",
        "              for section_number, section in enumerate(highlight_plot_semantic):\n",
        "                pretty_output += f\"\\nHighlighted Section {section_number}: {section}\"\n",
        "            print(pretty_output)\n",
        "        return pretty_output"
      ]
    },
    {
      "cell_type": "markdown",
      "metadata": {
        "id": "Asl1iGlPtyP-"
      },
      "source": [
        "### Semantic Search with the `semantic` Query\n",
        "\n",
        "We can use the [semantic query](https://www.elastic.co/guide/en/elasticsearch/reference/master/query-dsl-semantic-query.html) to quickly & easily query the `semantic_text` field in our index.\n",
        "Under the hood, an embedding is automatically generated for our query text using the `semantic_text` field's inference endpoint."
      ]
    },
    {
      "cell_type": "code",
      "execution_count": 13,
      "metadata": {
        "id": "Wp2ECMIAz_B5"
      },
      "outputs": [],
      "source": [
        "query_text = \"organized crime movies\""
      ]
    },
    {
      "cell_type": "code",
      "execution_count": 14,
      "metadata": {
        "colab": {
          "base_uri": "https://localhost:8080/"
        },
        "id": "RYq525P7t6jn",
        "outputId": "72569086-8d50-4b3d-de72-b48c4396190b"
      },
      "outputs": [
        {
          "output_type": "stream",
          "name": "stdout",
          "text": [
            "\n",
            "ID: XE5QhJcBV1b7xrnPi1jt\n",
            "Score: 12.085434\n",
            "Title: Goodfellas\n",
            "Runtime: 146\n",
            "Plot: In 1955, teenager Henry Hill becomes enamored by the criminal life and Mafia presence in East New York, a working-class Italian-American neighborhood in Brooklyn, New York City. He begins working for local caporegime Paulie Cicero and his associates Jimmy Conway, an Irish-American truck hijacker and gangster, and Tommy DeVito, a fellow juvenile delinquent. Henry begins as a fence for Jimmy, gradually working his way up to more serious crimes.Throughout the 1960s, the three men excel at carjacking, stealing cargo trucks from JFK Airport, and eventually commit the Air France Robbery. They spend most of their nights at the Copacabana nightclub, carousing with women. Henry starts dating Karen Friedman, a Jewish woman who is initially confused by Henry's criminal activities. She is soon seduced by Henry's glamorous lifestyle, and marries him, despite her parents' disapproval.In 1970, Billy Batts, a made man in the Gambino crime family who was recently released from prison, insults Tommy at a nightclub that is owned by Henry. In response, Tommy and Jimmy beat, stab and fatally shoot Billy. Realizing that the unsanctioned murder of a made man will invite retribution, Jimmy, Henry and Tommy bury the body in Upstate New York. Six months later, Jimmy learns that the burial site is slated for development, prompting them to exhume and relocate the decaying corpse.In 1974, Karen harasses Henry's mistress Janice, and threatens Henry at gunpoint. Henry moves in with Janice, but Paulie insists that he return to Karen after collecting a debt from a gambler in Tampa with Jimmy. Jimmy and Henry are arrested after being turned in by the gambler's sister, an FBI typist, and they receive ten-year prison sentences. To support his family on the outside, Henry has Karen smuggle in drugs from Pittsburgh, which he sells to fellow inmates.Four years later, Henry is paroled and expands his cocaine business with Jimmy and Tommy, against Paulie's orders. Jimmy organizes a crew to raid the Lufthansa vault at JFK Airport, stealing six million dollars in cash and jewelry. After some members purchase expensive items against Jimmy's orders and the getaway truck is found by police, he has most of the crew killed. Only Henry and Tommy are spared, as Henry is making money through his Pittsburgh connection, and Tommy is about to become a made man. However, Tommy is killed when he arrives at the bogus initiation ceremony, in retribution for murdering Batts.By 1980, Henry has become a nervous wreck due to heavy cocaine use. He sets up another drug deal with his Pittsburgh associates but is arrested by narcotics agents and incarcerated. After bailing him out, Karen explains that she flushed $60,000 worth of cocaine down the toilet to prevent FBI agents from finding it during their raid, leaving the Hills penniless.Feeling betrayed by Henry's drug dealing, and realizing that he is a liability, Paulie gives him $3,200 and ends their association. Henry meets Jimmy at a diner and is asked to travel to a hit assignment, but the request makes him suspicious. Realizing that Jimmy plans to have him killed, Henry decides to finally become an informant and enroll with his family in the witness protection program. Henry gives sufficient testimony and evidence in court to have Paulie and Jimmy convicted, and moves to a neighborhood in an undisclosed location, in accordance with the witness protection program. Henry describes his unhappiness by leaving his exciting and turbulent gangster life, feeling condemned to live a boring, average life as a schnook.\n",
            "Key Scene: Joe Pesci's character Tommy DeVito shoots young Spider in the foot for not getting him a drink.\n",
            "Genre: Biography, Crime, Drama\n",
            "Released: 1990\n",
            "\n",
            "ID: YE5QhJcBV1b7xrnPi1jt\n",
            "Score: 12.02832\n",
            "Title: The Departed\n",
            "Runtime: 151\n",
            "Plot: In the 1980s in Boston, Irish Mob boss Frank Costello introduces himself to a young Colin Sullivan. Many years later, Sullivan has been groomed as a spy inside the Massachusetts State Police (MSP) and joins the Special Investigation Unit (SIU). Another police academy recruit, Billy Costigan, is selected by Captain Queenan and Sergeant Dignam to go undercover as a criminal and infiltrate Costello's crew.Costigan serves a term in prison for his cover and further commits several crimes, drawing Costello's attention. Sullivan begins dating police psychiatrist Madolyn Madden. Costigan manages to get Costello to recruit him into his organization. Over the next year, Costigan becomes increasingly involved. His mental state declines but Queenan and Dignam convince him to continue. Costigan begins seeing Madden for his court-ordered therapy.The MSP and Costello both realize they have moles in their respective organizations and task Costigan and Sullivan to find them. Meanwhile, Costigan learns that Costello is a protected FBI informant, sharing his discovery with Queenan. He and Madden have an affair.One night, Costigan follows Costello into an adult theater and witnesses him giving Sullivan an envelope containing information on his crew. Costigan is instructed to get a visual ID of Sullivan but is unsuccessful. When Sullivan realizes he is being followed, he stabs a man, mistaking him for Costigan, and flees. Costigan, fearing Costello will soon discover and kill him for being the mole, calls Queenan to end the undercover operation, but Sullivan has Queenan followed, lying to the other officers that Queenan may be the spy. Sullivan also calls Costello's gang to inform them of the meeting.When Costello's men arrive, Queenan helps Costigan escape before being thrown from the building to his death. This causes a firefight between the police and Costello's men. Angered by Queenan's murder, Dignam attacks Sullivan and is suspended. Timothy Delahunt, one of Costello's henchmen wounded in the gunfight, tells Costigan that he knows he is the mole before succumbing to his wounds. Looking through Queenan's belongings, Sullivan discovers Costello is an FBI informant. A news report reveals that Delahunt was a Boston Police Department undercover officer, but Costello suspects it is a false claim so he would stop looking for the mole. Deciding to turn on him, Sullivan directs the MSP to tail Costello, and a gunfight erupts, killing most of Costello's crew. Sullivan confronts a wounded Costello, who admits to being an FBI informant. They exchange gunfire, and Sullivan kills him.His assignment finished, Costigan goes to Sullivan to reveal his undercover status, unaware he is another mole. After Sullivan leaves the room, Costigan recognises the envelope from the theater on his desk. Realizing Sullivan was Costello's mole, Costigan escapes. When Sullivan finds Costigan gone, he realizes Costigan has discovered the truth and deletes Costigan's records from police computers. Costigan visits Madden, who has told Sullivan but not Costigan she's pregnant, knowing that Sullivan may not be the father, and hands her an envelope, instructing her to open it if something happens to him. Madden finds an envelope in the mail from Costigan to Sullivan containing a CD of Costello's recorded conversations with Sullivan. Fearing Costigan has revealed their affair, she listens to it and leaves Sullivan. Costigan arranges to meet Sullivan on the same rooftop where Queenan was killed, then arrests him. Costigan calls Trooper Brown, an acquaintance from the police academy, but Brown pulls a gun on him when he arrives, unsure who to believe.Saying he has evidence tying Sullivan to Costello, Brown lets Costigan take the elevator. Upon reaching the lobby, Costigan is shot dead by Trooper Barrigan, a friend of Sullivan's who is another of Costello's spies. Brown reaches the lobby but is also killed by Barrigan. Sullivan shoots Barrigan dead, so that he can frame him as the only mole.At Costigan's funeral, Sullivan notices Madden silently crying. He realizes they were involved, but when he attempts to talk to her about the baby, she ignores him. Later, when Sullivan arrives home, Dignam is waiting for him and, after Sullivan indifferently accepts his fate, Dignam shoots him in the head, killing him and avenging both Queenan and Costigan before leaving. The final shot shows a rat crawling on the rail of the patio with the Massachusetts State House in the distance.\n",
            "Key Scene: Leonardo DiCaprio's character Billy Costigan is shot to death by Matt Damon's character Colin Sullivan.\n",
            "Genre: Crime, Drama, Thriller\n",
            "Released: 2006\n",
            "\n",
            "ID: X05QhJcBV1b7xrnPi1jt\n",
            "Score: 11.3087635\n",
            "Title: The Godfather\n",
            "Runtime: 175\n",
            "Plot: In 1945, the don of New York City's Corleone family, Vito Corleone, listens to requests during his daughter Connie's wedding to Carlo Rizzi. Vito's youngest son Michael, a Marine and World War II hero who has so far stayed out of the family business, introduces his girlfriend Kay Adams to his family at the reception. Johnny Fontane, a popular singer and Vito's godson, seeks Vito's help in securing a movie role. Vito sends his consigliere, Tom Hagen, to persuade studio president Jack Woltz to offer Johnny the part. Woltz refuses Hagen's request at first, but soon complies after finding the severed head of his prized stud horse in his bed.As Christmas approaches, drug baron Virgil The Turk Sollozzo asks Vito to invest in his narcotics business to provide police protection. Vito declines, citing that involvement in narcotics would alienate his political connections. Suspicious of Sollozzo's partnership with the Tattaglia crime family, Vito sends his enforcer Luca Brasi to the Tattaglias on an espionage mission. Brasi is garroted to death during the initial meeting. Later, enforcers gun down Vito and coerce Hagen into a meeting. With Vito's first-born Sonny now in command, Sollozzo pressures Hagen to persuade Sonny to accept the narcotics deal. Vito survives the shooting and is visited in the hospital by Michael, who finds him unprotected after NYPD police officers on Sollozzo's payroll clear out Vito's guards. Michael stops the attempt on his father's life but is beaten by corrupt police captain Mark McCluskey. After the attempted hit at the hospital, Sonny retaliates with a hit on Bruno Tattaglia. Sollozzo and McCluskey request to meet with Michael and settle the dispute. The Corleones agree to the meeting and devise a plan to plant a handgun in the bathroom of the Bronx restaurant where the meeting will be held. Michael speaks with Sollozzo for several minutes then excuses himself, retrieves the gun, and shoots both men dead.Despite a clampdown by the authorities for the killing of a police captain, the Five Families erupt in open warfare. Michael takes refuge in Sicily, and Vito's second son Fredo is sheltered by Jewish mobster Moe Greene in Las Vegas. In Sicily, Michael meets and marries a local woman, Apollonia. Sonny publicly attacks and threatens Carlo for physically abusing Connie. When he abuses her again, Sonny speeds to their home but is ambushed and murdered by gangsters at a highway toll booth. Apollonia is killed shortly thereafter by a car bomb intended for Michael.Devastated by Sonny's death and tired of war, Vito sets up a meeting with the Five Families. He assures them that he will withdraw his opposition to their narcotics business and forgo avenging Sonny's murder. His safety guaranteed, Michael returns home to enter the family business and marry Kay. They have two children in the early 1950s. With his father nearing the end of his life and Fredo not suited to lead, Michael assumes the position of head of the Corleone family. Vito tells Michael that he now knows that their true adversary had been Don Barzini all along. He warns him that Barzini would try to kill him at a meeting organized by a traitorous Corleone capo. With Vito's support, Michael relegates Hagen to managing operations in Las Vegas as he is not a wartime consigliere. Michael travels to Las Vegas to buy out Moe Greene's stake in the family's casinos and reprimands Fredo for defending Greene, who Barzini had turned against the family.In 1955, Vito dies of a heart attack while playing with Michael's son Anthony. At Vito's funeral, Tessio asks Michael to meet with Barzini, signaling his betrayal. The meeting is set for the same day as the baptism of Connie's baby. Michael deduces the plot and Tessio is led off to be murdered. While Michael stands at the baptismal font as the child's godfather, Corleone hitmen murder the dons of the four other families as well as Greene for not selling his hotel. Michael extracts Carlo's confession that he had conspired with Barzini on Sonny's assassination. He assures Carlo that he is being exiled, not murdered. However, Clemenza strangles Carlo in a car shortly afterwards. Connie confronts Michael about his involvement in Carlo's death while Kay is in the room. Kay asks Michael if he ordered Carlo's death, which Michael denies, leaving Kay relieved. As she leaves, capos enter the office and pay reverence to Michael as Don Corleone.\n",
            "Key Scene: James Caan's character Sonny Corleone is shot to death at a toll booth by a number of machine gun toting enemies.\n",
            "Genre: Crime, Drama\n",
            "Released: 1972\n"
          ]
        }
      ],
      "source": [
        "response = client.search(\n",
        "    index=index_name,\n",
        "    query={\n",
        "        \"semantic\": {\n",
        "            \"field\": \"plot_semantic\",\n",
        "            \"query\": query_text\n",
        "        }\n",
        "    },\n",
        "    size=3,\n",
        ")\n",
        "\n",
        "output = pretty_search_response(response)"
      ]
    },
    {
      "cell_type": "markdown",
      "metadata": {
        "id": "zyuhI4v4DAEi"
      },
      "source": [
        "## Semantic Highlighting"
      ]
    },
    {
      "cell_type": "code",
      "execution_count": 15,
      "metadata": {
        "colab": {
          "base_uri": "https://localhost:8080/"
        },
        "id": "RFc3WlGBB-0l",
        "outputId": "7b2edfe7-04ab-44f8-a94f-bc08cd0550fa"
      },
      "outputs": [
        {
          "output_type": "stream",
          "name": "stdout",
          "text": [
            "\n",
            "ID: XE5QhJcBV1b7xrnPi1jt\n",
            "Score: 12.085434\n",
            "Title: Goodfellas\n",
            "Runtime: 146\n",
            "Plot: In 1955, teenager Henry Hill becomes enamored by the criminal life and Mafia presence in East New York, a working-class Italian-American neighborhood in Brooklyn, New York City. He begins working for local caporegime Paulie Cicero and his associates Jimmy Conway, an Irish-American truck hijacker and gangster, and Tommy DeVito, a fellow juvenile delinquent. Henry begins as a fence for Jimmy, gradually working his way up to more serious crimes.Throughout the 1960s, the three men excel at carjacking, stealing cargo trucks from JFK Airport, and eventually commit the Air France Robbery. They spend most of their nights at the Copacabana nightclub, carousing with women. Henry starts dating Karen Friedman, a Jewish woman who is initially confused by Henry's criminal activities. She is soon seduced by Henry's glamorous lifestyle, and marries him, despite her parents' disapproval.In 1970, Billy Batts, a made man in the Gambino crime family who was recently released from prison, insults Tommy at a nightclub that is owned by Henry. In response, Tommy and Jimmy beat, stab and fatally shoot Billy. Realizing that the unsanctioned murder of a made man will invite retribution, Jimmy, Henry and Tommy bury the body in Upstate New York. Six months later, Jimmy learns that the burial site is slated for development, prompting them to exhume and relocate the decaying corpse.In 1974, Karen harasses Henry's mistress Janice, and threatens Henry at gunpoint. Henry moves in with Janice, but Paulie insists that he return to Karen after collecting a debt from a gambler in Tampa with Jimmy. Jimmy and Henry are arrested after being turned in by the gambler's sister, an FBI typist, and they receive ten-year prison sentences. To support his family on the outside, Henry has Karen smuggle in drugs from Pittsburgh, which he sells to fellow inmates.Four years later, Henry is paroled and expands his cocaine business with Jimmy and Tommy, against Paulie's orders. Jimmy organizes a crew to raid the Lufthansa vault at JFK Airport, stealing six million dollars in cash and jewelry. After some members purchase expensive items against Jimmy's orders and the getaway truck is found by police, he has most of the crew killed. Only Henry and Tommy are spared, as Henry is making money through his Pittsburgh connection, and Tommy is about to become a made man. However, Tommy is killed when he arrives at the bogus initiation ceremony, in retribution for murdering Batts.By 1980, Henry has become a nervous wreck due to heavy cocaine use. He sets up another drug deal with his Pittsburgh associates but is arrested by narcotics agents and incarcerated. After bailing him out, Karen explains that she flushed $60,000 worth of cocaine down the toilet to prevent FBI agents from finding it during their raid, leaving the Hills penniless.Feeling betrayed by Henry's drug dealing, and realizing that he is a liability, Paulie gives him $3,200 and ends their association. Henry meets Jimmy at a diner and is asked to travel to a hit assignment, but the request makes him suspicious. Realizing that Jimmy plans to have him killed, Henry decides to finally become an informant and enroll with his family in the witness protection program. Henry gives sufficient testimony and evidence in court to have Paulie and Jimmy convicted, and moves to a neighborhood in an undisclosed location, in accordance with the witness protection program. Henry describes his unhappiness by leaving his exciting and turbulent gangster life, feeling condemned to live a boring, average life as a schnook.\n",
            "Key Scene: Joe Pesci's character Tommy DeVito shoots young Spider in the foot for not getting him a drink.\n",
            "Genre: Biography, Crime, Drama\n",
            "Released: 1990\n",
            "Highlighted Section 0: In 1955, teenager Henry Hill becomes enamored by the criminal life and Mafia presence in East New York, a working-class Italian-American neighborhood in Brooklyn, New York City. He begins working for local caporegime Paulie Cicero and his associates Jimmy Conway, an Irish-American truck hijacker and gangster, and Tommy DeVito, a fellow juvenile delinquent. Henry begins as a fence for Jimmy, gradually working his way up to more serious crimes.Throughout the 1960s, the three men excel at carjacking, stealing cargo trucks from JFK Airport, and eventually commit the Air France Robbery. They spend most of their nights at the Copacabana nightclub, carousing with women. Henry starts dating Karen Friedman, a Jewish woman who is initially confused by Henry's criminal activities. She is soon seduced by Henry's glamorous lifestyle, and marries him, despite her parents' disapproval.In 1970, Billy Batts, a made man in the Gambino crime family who was recently released from prison, insults Tommy at a nightclub that is owned by Henry. In response, Tommy and Jimmy beat, stab and fatally shoot Billy. Realizing that the unsanctioned murder of a made man will invite retribution, Jimmy, Henry and Tommy bury the body in Upstate New York. Six months later, Jimmy learns that the burial site is slated for development, prompting them to exhume and relocate the decaying corpse.In 1974, Karen harasses Henry's mistress Janice, and threatens Henry at gunpoint. \n",
            "Highlighted Section 1: He sets up another drug deal with his Pittsburgh associates but is arrested by narcotics agents and incarcerated. After bailing him out, Karen explains that she flushed $60,000 worth of cocaine down the toilet to prevent FBI agents from finding it during their raid, leaving the Hills penniless.Feeling betrayed by Henry's drug dealing, and realizing that he is a liability, Paulie gives him $3,200 and ends their association. Henry meets Jimmy at a diner and is asked to travel to a hit assignment, but the request makes him suspicious. Realizing that Jimmy plans to have him killed, Henry decides to finally become an informant and enroll with his family in the witness protection program. Henry gives sufficient testimony and evidence in court to have Paulie and Jimmy convicted, and moves to a neighborhood in an undisclosed location, in accordance with the witness protection program. Henry describes his unhappiness by leaving his exciting and turbulent gangster life, feeling condemned to live a boring, average life as a schnook.\n",
            "\n",
            "ID: YE5QhJcBV1b7xrnPi1jt\n",
            "Score: 12.02832\n",
            "Title: The Departed\n",
            "Runtime: 151\n",
            "Plot: In the 1980s in Boston, Irish Mob boss Frank Costello introduces himself to a young Colin Sullivan. Many years later, Sullivan has been groomed as a spy inside the Massachusetts State Police (MSP) and joins the Special Investigation Unit (SIU). Another police academy recruit, Billy Costigan, is selected by Captain Queenan and Sergeant Dignam to go undercover as a criminal and infiltrate Costello's crew.Costigan serves a term in prison for his cover and further commits several crimes, drawing Costello's attention. Sullivan begins dating police psychiatrist Madolyn Madden. Costigan manages to get Costello to recruit him into his organization. Over the next year, Costigan becomes increasingly involved. His mental state declines but Queenan and Dignam convince him to continue. Costigan begins seeing Madden for his court-ordered therapy.The MSP and Costello both realize they have moles in their respective organizations and task Costigan and Sullivan to find them. Meanwhile, Costigan learns that Costello is a protected FBI informant, sharing his discovery with Queenan. He and Madden have an affair.One night, Costigan follows Costello into an adult theater and witnesses him giving Sullivan an envelope containing information on his crew. Costigan is instructed to get a visual ID of Sullivan but is unsuccessful. When Sullivan realizes he is being followed, he stabs a man, mistaking him for Costigan, and flees. Costigan, fearing Costello will soon discover and kill him for being the mole, calls Queenan to end the undercover operation, but Sullivan has Queenan followed, lying to the other officers that Queenan may be the spy. Sullivan also calls Costello's gang to inform them of the meeting.When Costello's men arrive, Queenan helps Costigan escape before being thrown from the building to his death. This causes a firefight between the police and Costello's men. Angered by Queenan's murder, Dignam attacks Sullivan and is suspended. Timothy Delahunt, one of Costello's henchmen wounded in the gunfight, tells Costigan that he knows he is the mole before succumbing to his wounds. Looking through Queenan's belongings, Sullivan discovers Costello is an FBI informant. A news report reveals that Delahunt was a Boston Police Department undercover officer, but Costello suspects it is a false claim so he would stop looking for the mole. Deciding to turn on him, Sullivan directs the MSP to tail Costello, and a gunfight erupts, killing most of Costello's crew. Sullivan confronts a wounded Costello, who admits to being an FBI informant. They exchange gunfire, and Sullivan kills him.His assignment finished, Costigan goes to Sullivan to reveal his undercover status, unaware he is another mole. After Sullivan leaves the room, Costigan recognises the envelope from the theater on his desk. Realizing Sullivan was Costello's mole, Costigan escapes. When Sullivan finds Costigan gone, he realizes Costigan has discovered the truth and deletes Costigan's records from police computers. Costigan visits Madden, who has told Sullivan but not Costigan she's pregnant, knowing that Sullivan may not be the father, and hands her an envelope, instructing her to open it if something happens to him. Madden finds an envelope in the mail from Costigan to Sullivan containing a CD of Costello's recorded conversations with Sullivan. Fearing Costigan has revealed their affair, she listens to it and leaves Sullivan. Costigan arranges to meet Sullivan on the same rooftop where Queenan was killed, then arrests him. Costigan calls Trooper Brown, an acquaintance from the police academy, but Brown pulls a gun on him when he arrives, unsure who to believe.Saying he has evidence tying Sullivan to Costello, Brown lets Costigan take the elevator. Upon reaching the lobby, Costigan is shot dead by Trooper Barrigan, a friend of Sullivan's who is another of Costello's spies. Brown reaches the lobby but is also killed by Barrigan. Sullivan shoots Barrigan dead, so that he can frame him as the only mole.At Costigan's funeral, Sullivan notices Madden silently crying. He realizes they were involved, but when he attempts to talk to her about the baby, she ignores him. Later, when Sullivan arrives home, Dignam is waiting for him and, after Sullivan indifferently accepts his fate, Dignam shoots him in the head, killing him and avenging both Queenan and Costigan before leaving. The final shot shows a rat crawling on the rail of the patio with the Massachusetts State House in the distance.\n",
            "Key Scene: Leonardo DiCaprio's character Billy Costigan is shot to death by Matt Damon's character Colin Sullivan.\n",
            "Genre: Crime, Drama, Thriller\n",
            "Released: 2006\n",
            "Highlighted Section 0: In the 1980s in Boston, Irish Mob boss Frank Costello introduces himself to a young Colin Sullivan. Many years later, Sullivan has been groomed as a spy inside the Massachusetts State Police (MSP) and joins the Special Investigation Unit (SIU). Another police academy recruit, Billy Costigan, is selected by Captain Queenan and Sergeant Dignam to go undercover as a criminal and infiltrate Costello's crew.Costigan serves a term in prison for his cover and further commits several crimes, drawing Costello's attention. Sullivan begins dating police psychiatrist Madolyn Madden. Costigan manages to get Costello to recruit him into his organization. Over the next year, Costigan becomes increasingly involved. His mental state declines but Queenan and Dignam convince him to continue. Costigan begins seeing Madden for his court-ordered therapy.The MSP and Costello both realize they have moles in their respective organizations and task Costigan and Sullivan to find them. Meanwhile, Costigan learns that Costello is a protected FBI informant, sharing his discovery with Queenan. He and Madden have an affair.One night, Costigan follows Costello into an adult theater and witnesses him giving Sullivan an envelope containing information on his crew. Costigan is instructed to get a visual ID of Sullivan but is unsuccessful. When Sullivan realizes he is being followed, he stabs a man, mistaking him for Costigan, and flees. \n",
            "Highlighted Section 1: When Sullivan realizes he is being followed, he stabs a man, mistaking him for Costigan, and flees. Costigan, fearing Costello will soon discover and kill him for being the mole, calls Queenan to end the undercover operation, but Sullivan has Queenan followed, lying to the other officers that Queenan may be the spy. Sullivan also calls Costello's gang to inform them of the meeting.When Costello's men arrive, Queenan helps Costigan escape before being thrown from the building to his death. This causes a firefight between the police and Costello's men. Angered by Queenan's murder, Dignam attacks Sullivan and is suspended. Timothy Delahunt, one of Costello's henchmen wounded in the gunfight, tells Costigan that he knows he is the mole before succumbing to his wounds. Looking through Queenan's belongings, Sullivan discovers Costello is an FBI informant. A news report reveals that Delahunt was a Boston Police Department undercover officer, but Costello suspects it is a false claim so he would stop looking for the mole. Deciding to turn on him, Sullivan directs the MSP to tail Costello, and a gunfight erupts, killing most of Costello's crew. Sullivan confronts a wounded Costello, who admits to being an FBI informant. They exchange gunfire, and Sullivan kills him.His assignment finished, Costigan goes to Sullivan to reveal his undercover status, unaware he is another mole. After Sullivan leaves the room, Costigan recognises the envelope from the theater on his desk. Realizing Sullivan was Costello's mole, Costigan escapes. \n",
            "\n",
            "ID: X05QhJcBV1b7xrnPi1jt\n",
            "Score: 11.3087635\n",
            "Title: The Godfather\n",
            "Runtime: 175\n",
            "Plot: In 1945, the don of New York City's Corleone family, Vito Corleone, listens to requests during his daughter Connie's wedding to Carlo Rizzi. Vito's youngest son Michael, a Marine and World War II hero who has so far stayed out of the family business, introduces his girlfriend Kay Adams to his family at the reception. Johnny Fontane, a popular singer and Vito's godson, seeks Vito's help in securing a movie role. Vito sends his consigliere, Tom Hagen, to persuade studio president Jack Woltz to offer Johnny the part. Woltz refuses Hagen's request at first, but soon complies after finding the severed head of his prized stud horse in his bed.As Christmas approaches, drug baron Virgil The Turk Sollozzo asks Vito to invest in his narcotics business to provide police protection. Vito declines, citing that involvement in narcotics would alienate his political connections. Suspicious of Sollozzo's partnership with the Tattaglia crime family, Vito sends his enforcer Luca Brasi to the Tattaglias on an espionage mission. Brasi is garroted to death during the initial meeting. Later, enforcers gun down Vito and coerce Hagen into a meeting. With Vito's first-born Sonny now in command, Sollozzo pressures Hagen to persuade Sonny to accept the narcotics deal. Vito survives the shooting and is visited in the hospital by Michael, who finds him unprotected after NYPD police officers on Sollozzo's payroll clear out Vito's guards. Michael stops the attempt on his father's life but is beaten by corrupt police captain Mark McCluskey. After the attempted hit at the hospital, Sonny retaliates with a hit on Bruno Tattaglia. Sollozzo and McCluskey request to meet with Michael and settle the dispute. The Corleones agree to the meeting and devise a plan to plant a handgun in the bathroom of the Bronx restaurant where the meeting will be held. Michael speaks with Sollozzo for several minutes then excuses himself, retrieves the gun, and shoots both men dead.Despite a clampdown by the authorities for the killing of a police captain, the Five Families erupt in open warfare. Michael takes refuge in Sicily, and Vito's second son Fredo is sheltered by Jewish mobster Moe Greene in Las Vegas. In Sicily, Michael meets and marries a local woman, Apollonia. Sonny publicly attacks and threatens Carlo for physically abusing Connie. When he abuses her again, Sonny speeds to their home but is ambushed and murdered by gangsters at a highway toll booth. Apollonia is killed shortly thereafter by a car bomb intended for Michael.Devastated by Sonny's death and tired of war, Vito sets up a meeting with the Five Families. He assures them that he will withdraw his opposition to their narcotics business and forgo avenging Sonny's murder. His safety guaranteed, Michael returns home to enter the family business and marry Kay. They have two children in the early 1950s. With his father nearing the end of his life and Fredo not suited to lead, Michael assumes the position of head of the Corleone family. Vito tells Michael that he now knows that their true adversary had been Don Barzini all along. He warns him that Barzini would try to kill him at a meeting organized by a traitorous Corleone capo. With Vito's support, Michael relegates Hagen to managing operations in Las Vegas as he is not a wartime consigliere. Michael travels to Las Vegas to buy out Moe Greene's stake in the family's casinos and reprimands Fredo for defending Greene, who Barzini had turned against the family.In 1955, Vito dies of a heart attack while playing with Michael's son Anthony. At Vito's funeral, Tessio asks Michael to meet with Barzini, signaling his betrayal. The meeting is set for the same day as the baptism of Connie's baby. Michael deduces the plot and Tessio is led off to be murdered. While Michael stands at the baptismal font as the child's godfather, Corleone hitmen murder the dons of the four other families as well as Greene for not selling his hotel. Michael extracts Carlo's confession that he had conspired with Barzini on Sonny's assassination. He assures Carlo that he is being exiled, not murdered. However, Clemenza strangles Carlo in a car shortly afterwards. Connie confronts Michael about his involvement in Carlo's death while Kay is in the room. Kay asks Michael if he ordered Carlo's death, which Michael denies, leaving Kay relieved. As she leaves, capos enter the office and pay reverence to Michael as Don Corleone.\n",
            "Key Scene: James Caan's character Sonny Corleone is shot to death at a toll booth by a number of machine gun toting enemies.\n",
            "Genre: Crime, Drama\n",
            "Released: 1972\n",
            "Highlighted Section 0: In 1945, the don of New York City's Corleone family, Vito Corleone, listens to requests during his daughter Connie's wedding to Carlo Rizzi. Vito's youngest son Michael, a Marine and World War II hero who has so far stayed out of the family business, introduces his girlfriend Kay Adams to his family at the reception. Johnny Fontane, a popular singer and Vito's godson, seeks Vito's help in securing a movie role. Vito sends his consigliere, Tom Hagen, to persuade studio president Jack Woltz to offer Johnny the part. Woltz refuses Hagen's request at first, but soon complies after finding the severed head of his prized stud horse in his bed.As Christmas approaches, drug baron Virgil The Turk Sollozzo asks Vito to invest in his narcotics business to provide police protection. Vito declines, citing that involvement in narcotics would alienate his political connections. Suspicious of Sollozzo's partnership with the Tattaglia crime family, Vito sends his enforcer Luca Brasi to the Tattaglias on an espionage mission. Brasi is garroted to death during the initial meeting. Later, enforcers gun down Vito and coerce Hagen into a meeting. With Vito's first-born Sonny now in command, Sollozzo pressures Hagen to persuade Sonny to accept the narcotics deal. Vito survives the shooting and is visited in the hospital by Michael, who finds him unprotected after NYPD police officers on Sollozzo's payroll clear out Vito's guards. Michael stops the attempt on his father's life but is beaten by corrupt police captain Mark McCluskey. \n",
            "Highlighted Section 1: Michael stops the attempt on his father's life but is beaten by corrupt police captain Mark McCluskey. After the attempted hit at the hospital, Sonny retaliates with a hit on Bruno Tattaglia. Sollozzo and McCluskey request to meet with Michael and settle the dispute. The Corleones agree to the meeting and devise a plan to plant a handgun in the bathroom of the Bronx restaurant where the meeting will be held. Michael speaks with Sollozzo for several minutes then excuses himself, retrieves the gun, and shoots both men dead.Despite a clampdown by the authorities for the killing of a police captain, the Five Families erupt in open warfare. Michael takes refuge in Sicily, and Vito's second son Fredo is sheltered by Jewish mobster Moe Greene in Las Vegas. In Sicily, Michael meets and marries a local woman, Apollonia. Sonny publicly attacks and threatens Carlo for physically abusing Connie. When he abuses her again, Sonny speeds to their home but is ambushed and murdered by gangsters at a highway toll booth. Apollonia is killed shortly thereafter by a car bomb intended for Michael.Devastated by Sonny's death and tired of war, Vito sets up a meeting with the Five Families. He assures them that he will withdraw his opposition to their narcotics business and forgo avenging Sonny's murder. His safety guaranteed, Michael returns home to enter the family business and marry Kay. They have two children in the early 1950s. \n"
          ]
        }
      ],
      "source": [
        "response = client.search(\n",
        "    index=index_name,\n",
        "    query={\n",
        "        \"semantic\": {\n",
        "            \"field\": \"plot_semantic\",\n",
        "            \"query\": query_text\n",
        "        }\n",
        "    },\n",
        "    highlight={\n",
        "      \"fields\": {\n",
        "        \"plot_semantic\": {\"number_of_fragments\" : 2, \"order\" : \"score\"}\n",
        "      }\n",
        "    },\n",
        "    size=3\n",
        ")\n",
        "\n",
        "output = pretty_search_response(response, highlight=True)"
      ]
    },
    {
      "cell_type": "code",
      "execution_count": null,
      "metadata": {
        "id": "WreEtt4eYtFd"
      },
      "outputs": [],
      "source": [
        "def get_highlighted_context(query):\n",
        "  response = client.search(\n",
        "      index=index_name,\n",
        "      query={\n",
        "          \"semantic\": {\n",
        "              \"field\": \"plot_semantic\",\n",
        "              \"query\": query\n",
        "          }\n",
        "      },\n",
        "      highlight={\n",
        "        \"fields\": {\n",
        "          \"plot_semantic\": {\"number_of_fragments\" : 1, \"order\" : \"score\"}\n",
        "        }\n",
        "      },\n",
        "      size=1\n",
        "  )\n",
        "\n",
        "  output = pretty_search_response(response, highlight=True)\n",
        "  print(output)\n",
        "  marker = \"Highlighted Section 0:\"\n",
        "  before_marker, separator, after_marker = output.partition(marker)\n",
        "  print(after_marker)\n",
        "  highlight_fragment = after_marker.strip()\n",
        "  return highlight_fragment"
      ]
    },
    {
      "cell_type": "code",
      "execution_count": null,
      "metadata": {
        "id": "WEnnG1g0ZzY7"
      },
      "outputs": [],
      "source": [
        "%%capture\n",
        "queries = [\"A story about implanting an idea into someone's subconscious through their dreams\", \"An FBI trainee seeks help from an imprisoned, manipulative cannibal to catch another serial killer\" ,\"A computer hacker who learns that his reality is a simulation and is offered a choice between a red pill to see the truth or a blue pill to forget everything\", \"A film about a man with a fractured psyche who creates an underground society to rebel against his dissatisfying lifestyle\"]\n",
        "fragments = [get_highlighted_context(query) for query in queries]"
      ]
    },
    {
      "cell_type": "code",
      "execution_count": null,
      "metadata": {
        "colab": {
          "base_uri": "https://localhost:8080/"
        },
        "id": "9bq075nid3Yw",
        "outputId": "03062f42-adca-4465-86df-52bf8fac2307"
      },
      "outputs": [
        {
          "data": {
            "text/plain": [
              "[\"Dom Cobb and Arthur are extractors who perform corporate espionage using experimental dream-sharing technology to infiltrate their targets' subconscious and extract information. Their latest target, Saito, is impressed with Cobb's ability to layer multiple dreams within each other. He offers to hire Cobb for the ostensibly impossible job of implanting an idea into a person's subconscious; performing inception on Robert Fischer, the son of Saito's competitor Maurice Fischer, with the idea to dissolve his father's company. In return, Saito promises to clear Cobb's criminal status, allowing him to return home to his children. Cobb accepts the offer and assembles his team: a forger named Eames, a chemist named Yusuf, and a college student named Ariadne. Ariadne is tasked with designing the dream's architecture, something Cobb himself cannot do for fear of being sabotaged by his mind's projection of his late wife, Mal. Maurice Fischer dies, and the team sedates Robert Fischer into a three-layer shared dream on an airplane to America bought by Saito. Time on each layer runs slower than the layer above, with one member staying behind on each to perform a music-synchronized kick (using the French song Non, je ne regrette rien) to awaken dreamers on all three levels simultaneously.The team abducts Robert in a city on the first level, but his trained subconscious projections attack them.\",\n",
              " \"Clarice Starling, a young FBI trainee at the Quantico Academy, is recruited by Behavioral Science Unit chief Jack Crawford to interview Dr. Hannibal Lecter, a brilliant but cannibalistic psychiatrist imprisoned at the Baltimore State Hospital for the Criminally Insane. Under the guise of soliciting his participation in a psychological survey, Crawford secretly aims to leverage Lecter's insights to apprehend Buffalo Bill, a serial killer who murders young women and removes their skin.At the hospital, Dr. Frederick Chilton, the facility's manipulative director, makes unwelcome advances toward Starling before escorting her to Lecter's cell. Initially courteous, Lecter grows dismissive upon deducing Crawford's ulterior motive. As Starling departs, inmate Miggs flings semen at her, provoking Lecter's disgust. He summons her back and offers a clue in the form of an anagram that leads her to a storage unit containing a severed head in a jar—later revealed to belong to Benjamin Raspail, a former patient of Lecter's whose killer is believed to be Buffalo Bill. Soon afterward, Miggs is found dead in his cell, having swallowed his own tongue—an act implicitly orchestrated by Lecter as retribution for his assault on Starling. Lecter agrees to assist the investigation in exchange for a transfer away from Chilton. Meanwhile, another victim is discovered with a death's-head moth lodged in her throat—the same species later found inside the severed head.When Buffalo Bill abducts Catherine Martin, daughter of U.S.\",\n",
              " \"In 1999, in an unnamed city, Thomas Anderson, a computer programmer known as Neo in hacking circles, delves into the mystery of the Matrix. His search brings him to the attention of hacker Trinity, who discloses that the enigmatic Morpheus can answer Neo's questions. At his workplace, Neo is pursued by police and Agents led by Agent Smith. Morpheus guides Neo's escape by phone, able to somehow remotely observe their movements, but Neo ultimately surrenders rather than risk a hazardous getaway.The Agents interrogate Neo about Morpheus but he refuses to cooperate. In response, they seal Neo's mouth shut and implant a robotic device in his abdomen. Neo awakens at home, initially dismissing the encounter as a nightmare until Trinity and her allies arrive, extract the implanted tracker, and bring Neo to Morpheus, their leader. Morpheus offers Neo a choice: a red pill to uncover the truth about the Matrix or a blue pill to forget everything and return to his normal life. Opting for the red pill, Neo's reality distorts, and he awakens submerged in a mechanical pod with invasive cables running throughout his body. Neo witnesses countless inert humans similarly encased and tended to by machines before he is ejected from the facility and rescued by Morpheus aboard the hovercraft, the Nebuchadnezzar.Morpheus reveals that the year is approximately 2199. In the 21st century, humanity lost a war with their artificially intelligent creations, leaving the Earth a devastated ruin.\",\n",
              " \"The unnamed Narrator, who struggles with insomnia and dissatisfaction with his job and lifestyle, finds temporary solace in support groups. As his insomnia worsens, he discovers that expressions of emotional vulnerability help him sleep, leading him to join multiple groups for people facing emotionally distressing problems, despite his expressions being fraudulent. His efforts are thwarted when Marla Singer, another impostor, joins the same groups. The Narrator cannot present his fabricated struggles as genuine, or divert his attention from her presence as an impostor, causing his sleeplessness to return. He arranges for them to attend different sessions to regain his ability to sleep and, under certain circumstances, to exchange contact information, to which she reluctantly agrees.On a return flight from work, the Narrator meets a soap salesman, Tyler Durden. After an explosion destroys the Narrator's apartment, he moves into Tyler's decrepit house. They become friends and start an underground fight club in a bar basement. Tyler also saves Marla from an overdose, initiating a sexual relationship between them, while the Narrator remains cold to her. The Narrator quits his job, blackmails his boss for funds, and grows the fight club, attracting new members, including his cancer support group friend, Bob. Tyler morphs the club into Project Mayhem, committing vandalism to disrupt the social order. Feeling sidelined, the Narrator confronts Tyler, who admits to orchestrating the explosion in the Narrator's apartment and then goes missing.\"]"
            ]
          },
          "execution_count": 65,
          "metadata": {},
          "output_type": "execute_result"
        }
      ],
      "source": [
        "fragments"
      ]
    },
    {
      "cell_type": "markdown",
      "metadata": {
        "id": "B3_EF2fX4pL9"
      },
      "source": [
        "### Dense vector Search"
      ]
    },
    {
      "cell_type": "markdown",
      "metadata": {
        "id": "1DZT2jqEj1pi"
      },
      "source": [
        "This example will:\n",
        "\n",
        "Search using approximate kNN for the top **12** candidates.\n",
        "Rescore the top **9** candidates (oversample * k) per shard using the original, non quantized vectors.\n",
        "Return the top **3** (k) rescored candidates.\n",
        "Merge the rescored canddidates from all shards, and return the top **3** (k) results."
      ]
    },
    {
      "cell_type": "code",
      "execution_count": null,
      "metadata": {
        "colab": {
          "base_uri": "https://localhost:8080/"
        },
        "id": "MPcup_lIzce0",
        "outputId": "4ac9761f-13ce-4859-961d-4a79ce078c4e"
      },
      "outputs": [
        {
          "name": "stdout",
          "output_type": "stream",
          "text": [
            "\n",
            "ID: r89zg5cBAgK7a8pdppKt\n",
            "Score: 0.90041786\n",
            "Title: Fight Club\n",
            "Runtime: 139\n",
            "Plot: The unnamed Narrator, who struggles with insomnia and dissatisfaction with his job and lifestyle, finds temporary solace in support groups. As his insomnia worsens, he discovers that expressions of emotional vulnerability help him sleep, leading him to join multiple groups for people facing emotionally distressing problems, despite his expressions being fraudulent. His efforts are thwarted when Marla Singer, another impostor, joins the same groups. The Narrator cannot present his fabricated struggles as genuine, or divert his attention from her presence as an impostor, causing his sleeplessness to return. He arranges for them to attend different sessions to regain his ability to sleep and, under certain circumstances, to exchange contact information, to which she reluctantly agrees.On a return flight from work, the Narrator meets a soap salesman, Tyler Durden. After an explosion destroys the Narrator's apartment, he moves into Tyler's decrepit house. They become friends and start an underground fight club in a bar basement. Tyler also saves Marla from an overdose, initiating a sexual relationship between them, while the Narrator remains cold to her. The Narrator quits his job, blackmails his boss for funds, and grows the fight club, attracting new members, including his cancer support group friend, Bob. Tyler morphs the club into Project Mayhem, committing vandalism to disrupt the social order. Feeling sidelined, the Narrator confronts Tyler, who admits to orchestrating the explosion in the Narrator's apartment and then goes missing. Bob is killed by the police during a mission, prompting the Narrator to attempt to stop the project and look for Tyler. Discovering the project's nationwide reach and being called Tyler Durden by Marla and other people, he realizes he and Tyler are split personalities.Learning that Project Mayhem plans to erase debt records by blowing up the headquarters of credit-card companies, the Narrator unsuccessfully warns Marla and goes to the police, some of whom are also Project Mayhem members. He attempts to disarm the explosives, but Tyler attacks him. The Narrator shoots himself in the mouth, killing Tyler. Marla arrives and she and the Narrator hold hands as they watch the targeted buildings collapse.\n",
            "Key Scene: Brad Pitt explains the rules of Fight Club to Edward Norton. The first rule of Fight Club is: You do not talk about Fight Club. The second rule of Fight Club is: You do not talk about Fight Club.\n",
            "Genre: Drama\n",
            "Released: 1999\n",
            "\n",
            "ID: uM9zg5cBAgK7a8pdppKt\n",
            "Score: 0.89844733\n",
            "Title: The Usual Suspects\n",
            "Runtime: 106\n",
            "Plot: The Usual Suspects is a 1995 crime thriller film directed by Bryan Singer and written by Christopher McQuarrie. It stars Stephen Baldwin, Gabriel Byrne, Benicio del Toro, Kevin Pollak, Chazz Palminteri, Pete Postlethwaite and Kevin Spacey.The plot follows the interrogation of Roger Verbal Kint, a small-time con man, who is one of only two survivors of a massacre and fire on a ship docked at the Port of Los Angeles. Through flashback and narration, Kint tells an interrogator a convoluted story of events that led him and his criminal companions to the boat, and of a mysterious crime lord—known as Keyser Söze—who controlled them. The film was shot on a $6 million budget and began as a title taken from a column in Spy magazine called The Usual Suspects, after one of Claude Rains' most memorable lines in the classic film Casablanca, and Singer thought that it would make a good title for a film.The film was shown out of competition at the 1995 Cannes Film Festival and then initially released in a few theaters. It received favorable reviews and was eventually given a wider release. Praise went towards the mystery elements, screenplay, plot twist, and Spacey's performance. McQuarrie won the Academy Award for Best Original Screenplay and Spacey won the Academy Award for Best Supporting Actor for his performance. The Writers Guild of America ranked the film as having the 35th-greatest screenplay of all time.\n",
            "Key Scene: Kevin Spacey's character Verbal Kint is revealed to be the mastermind behind the crime, when his limp disappears as he walks away from the police station.\n",
            "Genre: Crime, Mystery, Thriller\n",
            "Released: 1995\n",
            "\n",
            "ID: rc9zg5cBAgK7a8pdppKt\n",
            "Score: 0.89659846\n",
            "Title: Pulp Fiction\n",
            "Runtime: 154\n",
            "Plot: Pulp Fiction is a 1994 American independent crime film written and directed by Quentin Tarantino from a story he conceived with Roger Avary. It tells four intertwining tales of crime and violence in Los Angeles. The film stars John Travolta, Samuel L. Jackson, Bruce Willis, Tim Roth, Ving Rhames, and Uma Thurman. The title refers to the pulp magazines and hardboiled crime novels popular during the mid-20th century, known for their graphic violence and punchy dialogue.Tarantino wrote Pulp Fiction in 1992 and 1993, incorporating scenes that Avary originally wrote for True Romance (1993). Its plot occurs out of chronological order. The film is also self-referential from its opening moments, beginning with a title card that gives two dictionary definitions of pulp. Considerable screen time is devoted to monologues and casual conversations with eclectic dialogue revealing each character's perspectives on several subjects, and the film features an ironic combination of humor and strong violence. TriStar Pictures reportedly turned down the script as too demented. Miramax Films co-chairman Harvey Weinstein was enthralled, however, and the film became the first that Miramax Films fully financed.Pulp Fiction won the Palme d'Or at the 1994 Cannes Film Festival and was a major critical and commercial success. It was nominated for seven awards at the 67th Academy Awards, including Best Picture, and won Best Original Screenplay; Travolta, Jackson, and Thurman were nominated for Best Actor, Best Supporting Actor, and Best Supporting Actress respectively. As a result of the film's success, Travolta's career was reinvigorated. The film's development, marketing, distribution, and profitability had a sweeping effect on independent cinema.Pulp Fiction is widely regarded as Tarantino's magnum opus, with particular praise for its screenwriting. The self-reflexivity, unconventional structure, and extensive homage and pastiche have led critics to describe it as a touchstone of postmodern film. It is often considered a cultural watershed, influencing films and other media that adopted elements of its style. The cast was also widely praised, with Travolta, Thurman, and Jackson earning high acclaim. In 2008, Entertainment Weekly named it the best film since 1983 and it has appeared on many critics' lists of the greatest films ever made. In 2013, Pulp Fiction was selected for preservation in the United States National Film Registry by the Library of Congress as culturally, historically, or aesthetically significant.\n",
            "Key Scene: John Travolta is forced to inject adrenaline directly into Uma Thurman's heart after she overdoses on heroin.\n",
            "Genre: Crime, Drama\n",
            "Released: 1994\n",
            "\n",
            "ID: rc9zg5cBAgK7a8pdppKt\n",
            "Score: 0.89659846\n",
            "Title: Pulp Fiction\n",
            "Runtime: 154\n",
            "Plot: Pulp Fiction is a 1994 American independent crime film written and directed by Quentin Tarantino from a story he conceived with Roger Avary. It tells four intertwining tales of crime and violence in Los Angeles. The film stars John Travolta, Samuel L. Jackson, Bruce Willis, Tim Roth, Ving Rhames, and Uma Thurman. The title refers to the pulp magazines and hardboiled crime novels popular during the mid-20th century, known for their graphic violence and punchy dialogue.Tarantino wrote Pulp Fiction in 1992 and 1993, incorporating scenes that Avary originally wrote for True Romance (1993). Its plot occurs out of chronological order. The film is also self-referential from its opening moments, beginning with a title card that gives two dictionary definitions of pulp. Considerable screen time is devoted to monologues and casual conversations with eclectic dialogue revealing each character's perspectives on several subjects, and the film features an ironic combination of humor and strong violence. TriStar Pictures reportedly turned down the script as too demented. Miramax Films co-chairman Harvey Weinstein was enthralled, however, and the film became the first that Miramax Films fully financed.Pulp Fiction won the Palme d'Or at the 1994 Cannes Film Festival and was a major critical and commercial success. It was nominated for seven awards at the 67th Academy Awards, including Best Picture, and won Best Original Screenplay; Travolta, Jackson, and Thurman were nominated for Best Actor, Best Supporting Actor, and Best Supporting Actress respectively. As a result of the film's success, Travolta's career was reinvigorated. The film's development, marketing, distribution, and profitability had a sweeping effect on independent cinema.Pulp Fiction is widely regarded as Tarantino's magnum opus, with particular praise for its screenwriting. The self-reflexivity, unconventional structure, and extensive homage and pastiche have led critics to describe it as a touchstone of postmodern film. It is often considered a cultural watershed, influencing films and other media that adopted elements of its style. The cast was also widely praised, with Travolta, Thurman, and Jackson earning high acclaim. In 2008, Entertainment Weekly named it the best film since 1983 and it has appeared on many critics' lists of the greatest films ever made. In 2013, Pulp Fiction was selected for preservation in the United States National Film Registry by the Library of Congress as culturally, historically, or aesthetically significant.\n",
            "Key Scene: John Travolta is forced to inject adrenaline directly into Uma Thurman's heart after she overdoses on heroin.\n",
            "Genre: Crime, Drama\n",
            "Released: 1994\n"
          ]
        }
      ],
      "source": [
        "response = client.search(\n",
        "    index=index_name,\n",
        "    knn={\n",
        "        \"field\": \"title_embedding\",\n",
        "        \"query_vector_builder\": {\n",
        "          \"text_embedding\": {\n",
        "            \"model_id\": model_id,\n",
        "            \"model_text\": query_text\n",
        "          }\n",
        "        },\n",
        "        \"rescore_vector\": {\n",
        "            \"oversample\": 3\n",
        "        },\n",
        "        \"k\": 3,\n",
        "        \"num_candidates\": 12\n",
        "    }\n",
        ")\n",
        "\n",
        "print(pretty_search_response(response))"
      ]
    },
    {
      "cell_type": "markdown",
      "metadata": {
        "id": "taui95C34iwL"
      },
      "source": [
        "## Full - text Search\n",
        "#### Match query\n",
        "Returns documents that `match` a provided text, number, date or boolean value. The provided text is analyzed before matching.\n",
        "\n",
        "The `match` query is the standard query for performing a full-text search, including options for fuzzy matching.\n",
        "\n",
        "[Read more](https://www.elastic.co/guide/en/elasticsearch/reference/current/query-dsl-match-query.html#match-query-ex-request)."
      ]
    },
    {
      "cell_type": "code",
      "execution_count": null,
      "metadata": {
        "colab": {
          "base_uri": "https://localhost:8080/"
        },
        "id": "VuJ0D8LL2QQe",
        "outputId": "b2c49767-5714-45e2-9564-60344d2833a4"
      },
      "outputs": [
        {
          "name": "stdout",
          "output_type": "stream",
          "text": [
            "\n",
            "ID: rs9zg5cBAgK7a8pdppKt\n",
            "Score: 5.1212735\n",
            "Title: The Dark Knight\n",
            "Runtime: 152\n",
            "Plot: The Dark Knight is a 2008 superhero film directed by Christopher Nolan, from a screenplay co-written with his brother Jonathan. Based on the DC Comics superhero Batman, it is the sequel to Batman Begins (2005), and the second installment in The Dark Knight trilogy. The plot follows the vigilante Batman, police lieutenant James Gordon, and district attorney Harvey Dent, who form an alliance to dismantle organized crime in Gotham City. Their efforts are derailed by the Joker, an anarchistic mastermind who seeks to test how far Batman will go to save the city from chaos. The ensemble cast includes Christian Bale, Michael Caine, Heath Ledger, Gary Oldman, Aaron Eckhart, Maggie Gyllenhaal, and Morgan Freeman.Warner Bros. Pictures prioritized a sequel following the successful reinvention of the Batman film series with Batman Begins. Christopher and Batman Begins co-writer David S. Goyer developed the story elements, making Dent the central protagonist caught up in the battle between Batman and the Joker. In writing the screenplay, the Nolans were influenced by 1980s Batman comics and crime drama films, and sought to continue Batman Begins' heightened sense of realism. From April to November 2007, filming took place with a $185 million budget in Chicago and Hong Kong, and on sets in England. The Dark Knight was the first major motion picture to be filmed with high-resolution IMAX cameras. Christopher avoided using computer-generated imagery unless necessary, insisting on practical stunts such as flipping an 18-wheel truck and blowing up a factory.The Dark Knight was marketed with an innovative interactive viral campaign that initially focused on countering criticism of Ledger's casting by those who believed he was a poor choice to portray the Joker. Ledger died from an accidental prescription drug overdose in January 2008, leading to widespread interest from the press and public regarding his performance. When it was released in July, The Dark Knight received acclaim for its mature tone and themes, visual style, and performances—particularly that of Ledger, who received many posthumous awards including Academy, BAFTA, and Golden Globe awards for Best Supporting Actor, making The Dark Knight the first comic-book film to receive major industry awards. It broke several box-office records and became the highest-grossing 2008 film, the fourth-highest-grossing film to that time, and the highest-grossing superhero film.Since its release, The Dark Knight has been assessed as one of the greatest superhero films ever, one of the best movies of the 2000s, and one of the best films ever made. It is considered the blueprint for many modern superhero films, particularly for its rejection of a typical comic-book movie style in favor of a crime film that features comic-book characters. Many filmmakers sought to repeat its success by emulating its gritty, realistic tone to varying degrees of success. The Dark Knight has been analyzed for its themes of terrorism and the limitations of morality and ethics. The United States Library of Congress selected it for preservation in the National Film Registry in 2020. A sequel, The Dark Knight Rises, concluded The Dark Knight trilogy in 2012.\n",
            "Key Scene: Batman angrily responds 'I’m Batman' when asked who he is by Falcone.\n",
            "Genre: Action, Crime, Drama, Thriller\n",
            "Released: 2008\n",
            "\n",
            "ID: ts9zg5cBAgK7a8pdppKt\n",
            "Score: 2.1071858\n",
            "Title: The Godfather\n",
            "Runtime: 175\n",
            "Plot: In 1945, the don of New York City's Corleone family, Vito Corleone, listens to requests during his daughter Connie's wedding to Carlo Rizzi. Vito's youngest son Michael, a Marine and World War II hero who has so far stayed out of the family business, introduces his girlfriend Kay Adams to his family at the reception. Johnny Fontane, a popular singer and Vito's godson, seeks Vito's help in securing a movie role. Vito sends his consigliere, Tom Hagen, to persuade studio president Jack Woltz to offer Johnny the part. Woltz refuses Hagen's request at first, but soon complies after finding the severed head of his prized stud horse in his bed.As Christmas approaches, drug baron Virgil The Turk Sollozzo asks Vito to invest in his narcotics business to provide police protection. Vito declines, citing that involvement in narcotics would alienate his political connections. Suspicious of Sollozzo's partnership with the Tattaglia crime family, Vito sends his enforcer Luca Brasi to the Tattaglias on an espionage mission. Brasi is garroted to death during the initial meeting. Later, enforcers gun down Vito and coerce Hagen into a meeting. With Vito's first-born Sonny now in command, Sollozzo pressures Hagen to persuade Sonny to accept the narcotics deal. Vito survives the shooting and is visited in the hospital by Michael, who finds him unprotected after NYPD police officers on Sollozzo's payroll clear out Vito's guards. Michael stops the attempt on his father's life but is beaten by corrupt police captain Mark McCluskey. After the attempted hit at the hospital, Sonny retaliates with a hit on Bruno Tattaglia. Sollozzo and McCluskey request to meet with Michael and settle the dispute. The Corleones agree to the meeting and devise a plan to plant a handgun in the bathroom of the Bronx restaurant where the meeting will be held. Michael speaks with Sollozzo for several minutes then excuses himself, retrieves the gun, and shoots both men dead.Despite a clampdown by the authorities for the killing of a police captain, the Five Families erupt in open warfare. Michael takes refuge in Sicily, and Vito's second son Fredo is sheltered by Jewish mobster Moe Greene in Las Vegas. In Sicily, Michael meets and marries a local woman, Apollonia. Sonny publicly attacks and threatens Carlo for physically abusing Connie. When he abuses her again, Sonny speeds to their home but is ambushed and murdered by gangsters at a highway toll booth. Apollonia is killed shortly thereafter by a car bomb intended for Michael.Devastated by Sonny's death and tired of war, Vito sets up a meeting with the Five Families. He assures them that he will withdraw his opposition to their narcotics business and forgo avenging Sonny's murder. His safety guaranteed, Michael returns home to enter the family business and marry Kay. They have two children in the early 1950s. With his father nearing the end of his life and Fredo not suited to lead, Michael assumes the position of head of the Corleone family. Vito tells Michael that he now knows that their true adversary had been Don Barzini all along. He warns him that Barzini would try to kill him at a meeting organized by a traitorous Corleone capo. With Vito's support, Michael relegates Hagen to managing operations in Las Vegas as he is not a wartime consigliere. Michael travels to Las Vegas to buy out Moe Greene's stake in the family's casinos and reprimands Fredo for defending Greene, who Barzini had turned against the family.In 1955, Vito dies of a heart attack while playing with Michael's son Anthony. At Vito's funeral, Tessio asks Michael to meet with Barzini, signaling his betrayal. The meeting is set for the same day as the baptism of Connie's baby. Michael deduces the plot and Tessio is led off to be murdered. While Michael stands at the baptismal font as the child's godfather, Corleone hitmen murder the dons of the four other families as well as Greene for not selling his hotel. Michael extracts Carlo's confession that he had conspired with Barzini on Sonny's assassination. He assures Carlo that he is being exiled, not murdered. However, Clemenza strangles Carlo in a car shortly afterwards. Connie confronts Michael about his involvement in Carlo's death while Kay is in the room. Kay asks Michael if he ordered Carlo's death, which Michael denies, leaving Kay relieved. As she leaves, capos enter the office and pay reverence to Michael as Don Corleone.\n",
            "Key Scene: James Caan's character Sonny Corleone is shot to death at a toll booth by a number of machine gun toting enemies.\n",
            "Genre: Crime, Drama\n",
            "Released: 1972\n",
            "\n",
            "ID: rc9zg5cBAgK7a8pdppKt\n",
            "Score: 1.1756258\n",
            "Title: Pulp Fiction\n",
            "Runtime: 154\n",
            "Plot: Pulp Fiction is a 1994 American independent crime film written and directed by Quentin Tarantino from a story he conceived with Roger Avary. It tells four intertwining tales of crime and violence in Los Angeles. The film stars John Travolta, Samuel L. Jackson, Bruce Willis, Tim Roth, Ving Rhames, and Uma Thurman. The title refers to the pulp magazines and hardboiled crime novels popular during the mid-20th century, known for their graphic violence and punchy dialogue.Tarantino wrote Pulp Fiction in 1992 and 1993, incorporating scenes that Avary originally wrote for True Romance (1993). Its plot occurs out of chronological order. The film is also self-referential from its opening moments, beginning with a title card that gives two dictionary definitions of pulp. Considerable screen time is devoted to monologues and casual conversations with eclectic dialogue revealing each character's perspectives on several subjects, and the film features an ironic combination of humor and strong violence. TriStar Pictures reportedly turned down the script as too demented. Miramax Films co-chairman Harvey Weinstein was enthralled, however, and the film became the first that Miramax Films fully financed.Pulp Fiction won the Palme d'Or at the 1994 Cannes Film Festival and was a major critical and commercial success. It was nominated for seven awards at the 67th Academy Awards, including Best Picture, and won Best Original Screenplay; Travolta, Jackson, and Thurman were nominated for Best Actor, Best Supporting Actor, and Best Supporting Actress respectively. As a result of the film's success, Travolta's career was reinvigorated. The film's development, marketing, distribution, and profitability had a sweeping effect on independent cinema.Pulp Fiction is widely regarded as Tarantino's magnum opus, with particular praise for its screenwriting. The self-reflexivity, unconventional structure, and extensive homage and pastiche have led critics to describe it as a touchstone of postmodern film. It is often considered a cultural watershed, influencing films and other media that adopted elements of its style. The cast was also widely praised, with Travolta, Thurman, and Jackson earning high acclaim. In 2008, Entertainment Weekly named it the best film since 1983 and it has appeared on many critics' lists of the greatest films ever made. In 2013, Pulp Fiction was selected for preservation in the United States National Film Registry by the Library of Congress as culturally, historically, or aesthetically significant.\n",
            "Key Scene: John Travolta is forced to inject adrenaline directly into Uma Thurman's heart after she overdoses on heroin.\n",
            "Genre: Crime, Drama\n",
            "Released: 1994\n",
            "\n",
            "ID: rc9zg5cBAgK7a8pdppKt\n",
            "Score: 1.1756258\n",
            "Title: Pulp Fiction\n",
            "Runtime: 154\n",
            "Plot: Pulp Fiction is a 1994 American independent crime film written and directed by Quentin Tarantino from a story he conceived with Roger Avary. It tells four intertwining tales of crime and violence in Los Angeles. The film stars John Travolta, Samuel L. Jackson, Bruce Willis, Tim Roth, Ving Rhames, and Uma Thurman. The title refers to the pulp magazines and hardboiled crime novels popular during the mid-20th century, known for their graphic violence and punchy dialogue.Tarantino wrote Pulp Fiction in 1992 and 1993, incorporating scenes that Avary originally wrote for True Romance (1993). Its plot occurs out of chronological order. The film is also self-referential from its opening moments, beginning with a title card that gives two dictionary definitions of pulp. Considerable screen time is devoted to monologues and casual conversations with eclectic dialogue revealing each character's perspectives on several subjects, and the film features an ironic combination of humor and strong violence. TriStar Pictures reportedly turned down the script as too demented. Miramax Films co-chairman Harvey Weinstein was enthralled, however, and the film became the first that Miramax Films fully financed.Pulp Fiction won the Palme d'Or at the 1994 Cannes Film Festival and was a major critical and commercial success. It was nominated for seven awards at the 67th Academy Awards, including Best Picture, and won Best Original Screenplay; Travolta, Jackson, and Thurman were nominated for Best Actor, Best Supporting Actor, and Best Supporting Actress respectively. As a result of the film's success, Travolta's career was reinvigorated. The film's development, marketing, distribution, and profitability had a sweeping effect on independent cinema.Pulp Fiction is widely regarded as Tarantino's magnum opus, with particular praise for its screenwriting. The self-reflexivity, unconventional structure, and extensive homage and pastiche have led critics to describe it as a touchstone of postmodern film. It is often considered a cultural watershed, influencing films and other media that adopted elements of its style. The cast was also widely praised, with Travolta, Thurman, and Jackson earning high acclaim. In 2008, Entertainment Weekly named it the best film since 1983 and it has appeared on many critics' lists of the greatest films ever made. In 2013, Pulp Fiction was selected for preservation in the United States National Film Registry by the Library of Congress as culturally, historically, or aesthetically significant.\n",
            "Key Scene: John Travolta is forced to inject adrenaline directly into Uma Thurman's heart after she overdoses on heroin.\n",
            "Genre: Crime, Drama\n",
            "Released: 1994\n"
          ]
        }
      ],
      "source": [
        "response = client.search(\n",
        "    index=index_name,\n",
        "    query = {\n",
        "        \"match\": {\n",
        "            \"plot\": {\n",
        "                \"query\": query_text\n",
        "            }\n",
        "        }\n",
        "    },\n",
        "    size=3\n",
        ")\n",
        "\n",
        "print(pretty_search_response(response))"
      ]
    },
    {
      "cell_type": "markdown",
      "metadata": {
        "id": "bLGWPy0U4x9E"
      },
      "source": [
        "#### Multi-match query\n",
        "\n",
        "The `multi_match` query builds on the match query to allow multi-field queries.\n",
        "\n",
        "[Read more](https://www.elastic.co/guide/en/elasticsearch/reference/current/query-dsl-multi-match-query.html)."
      ]
    },
    {
      "cell_type": "code",
      "execution_count": null,
      "metadata": {
        "colab": {
          "base_uri": "https://localhost:8080/"
        },
        "id": "S82FnI5Q40cp",
        "outputId": "58927c59-2056-49bb-e3ce-2e8c3c8c60cb"
      },
      "outputs": [
        {
          "name": "stdout",
          "output_type": "stream",
          "text": [
            "\n",
            "ID: rs9zg5cBAgK7a8pdppKt\n",
            "Score: 5.1212735\n",
            "Title: The Dark Knight\n",
            "Runtime: 152\n",
            "Plot: The Dark Knight is a 2008 superhero film directed by Christopher Nolan, from a screenplay co-written with his brother Jonathan. Based on the DC Comics superhero Batman, it is the sequel to Batman Begins (2005), and the second installment in The Dark Knight trilogy. The plot follows the vigilante Batman, police lieutenant James Gordon, and district attorney Harvey Dent, who form an alliance to dismantle organized crime in Gotham City. Their efforts are derailed by the Joker, an anarchistic mastermind who seeks to test how far Batman will go to save the city from chaos. The ensemble cast includes Christian Bale, Michael Caine, Heath Ledger, Gary Oldman, Aaron Eckhart, Maggie Gyllenhaal, and Morgan Freeman.Warner Bros. Pictures prioritized a sequel following the successful reinvention of the Batman film series with Batman Begins. Christopher and Batman Begins co-writer David S. Goyer developed the story elements, making Dent the central protagonist caught up in the battle between Batman and the Joker. In writing the screenplay, the Nolans were influenced by 1980s Batman comics and crime drama films, and sought to continue Batman Begins' heightened sense of realism. From April to November 2007, filming took place with a $185 million budget in Chicago and Hong Kong, and on sets in England. The Dark Knight was the first major motion picture to be filmed with high-resolution IMAX cameras. Christopher avoided using computer-generated imagery unless necessary, insisting on practical stunts such as flipping an 18-wheel truck and blowing up a factory.The Dark Knight was marketed with an innovative interactive viral campaign that initially focused on countering criticism of Ledger's casting by those who believed he was a poor choice to portray the Joker. Ledger died from an accidental prescription drug overdose in January 2008, leading to widespread interest from the press and public regarding his performance. When it was released in July, The Dark Knight received acclaim for its mature tone and themes, visual style, and performances—particularly that of Ledger, who received many posthumous awards including Academy, BAFTA, and Golden Globe awards for Best Supporting Actor, making The Dark Knight the first comic-book film to receive major industry awards. It broke several box-office records and became the highest-grossing 2008 film, the fourth-highest-grossing film to that time, and the highest-grossing superhero film.Since its release, The Dark Knight has been assessed as one of the greatest superhero films ever, one of the best movies of the 2000s, and one of the best films ever made. It is considered the blueprint for many modern superhero films, particularly for its rejection of a typical comic-book movie style in favor of a crime film that features comic-book characters. Many filmmakers sought to repeat its success by emulating its gritty, realistic tone to varying degrees of success. The Dark Knight has been analyzed for its themes of terrorism and the limitations of morality and ethics. The United States Library of Congress selected it for preservation in the National Film Registry in 2020. A sequel, The Dark Knight Rises, concluded The Dark Knight trilogy in 2012.\n",
            "Key Scene: Batman angrily responds 'I’m Batman' when asked who he is by Falcone.\n",
            "Genre: Action, Crime, Drama, Thriller\n",
            "Released: 2008\n",
            "\n",
            "ID: ts9zg5cBAgK7a8pdppKt\n",
            "Score: 2.1071858\n",
            "Title: The Godfather\n",
            "Runtime: 175\n",
            "Plot: In 1945, the don of New York City's Corleone family, Vito Corleone, listens to requests during his daughter Connie's wedding to Carlo Rizzi. Vito's youngest son Michael, a Marine and World War II hero who has so far stayed out of the family business, introduces his girlfriend Kay Adams to his family at the reception. Johnny Fontane, a popular singer and Vito's godson, seeks Vito's help in securing a movie role. Vito sends his consigliere, Tom Hagen, to persuade studio president Jack Woltz to offer Johnny the part. Woltz refuses Hagen's request at first, but soon complies after finding the severed head of his prized stud horse in his bed.As Christmas approaches, drug baron Virgil The Turk Sollozzo asks Vito to invest in his narcotics business to provide police protection. Vito declines, citing that involvement in narcotics would alienate his political connections. Suspicious of Sollozzo's partnership with the Tattaglia crime family, Vito sends his enforcer Luca Brasi to the Tattaglias on an espionage mission. Brasi is garroted to death during the initial meeting. Later, enforcers gun down Vito and coerce Hagen into a meeting. With Vito's first-born Sonny now in command, Sollozzo pressures Hagen to persuade Sonny to accept the narcotics deal. Vito survives the shooting and is visited in the hospital by Michael, who finds him unprotected after NYPD police officers on Sollozzo's payroll clear out Vito's guards. Michael stops the attempt on his father's life but is beaten by corrupt police captain Mark McCluskey. After the attempted hit at the hospital, Sonny retaliates with a hit on Bruno Tattaglia. Sollozzo and McCluskey request to meet with Michael and settle the dispute. The Corleones agree to the meeting and devise a plan to plant a handgun in the bathroom of the Bronx restaurant where the meeting will be held. Michael speaks with Sollozzo for several minutes then excuses himself, retrieves the gun, and shoots both men dead.Despite a clampdown by the authorities for the killing of a police captain, the Five Families erupt in open warfare. Michael takes refuge in Sicily, and Vito's second son Fredo is sheltered by Jewish mobster Moe Greene in Las Vegas. In Sicily, Michael meets and marries a local woman, Apollonia. Sonny publicly attacks and threatens Carlo for physically abusing Connie. When he abuses her again, Sonny speeds to their home but is ambushed and murdered by gangsters at a highway toll booth. Apollonia is killed shortly thereafter by a car bomb intended for Michael.Devastated by Sonny's death and tired of war, Vito sets up a meeting with the Five Families. He assures them that he will withdraw his opposition to their narcotics business and forgo avenging Sonny's murder. His safety guaranteed, Michael returns home to enter the family business and marry Kay. They have two children in the early 1950s. With his father nearing the end of his life and Fredo not suited to lead, Michael assumes the position of head of the Corleone family. Vito tells Michael that he now knows that their true adversary had been Don Barzini all along. He warns him that Barzini would try to kill him at a meeting organized by a traitorous Corleone capo. With Vito's support, Michael relegates Hagen to managing operations in Las Vegas as he is not a wartime consigliere. Michael travels to Las Vegas to buy out Moe Greene's stake in the family's casinos and reprimands Fredo for defending Greene, who Barzini had turned against the family.In 1955, Vito dies of a heart attack while playing with Michael's son Anthony. At Vito's funeral, Tessio asks Michael to meet with Barzini, signaling his betrayal. The meeting is set for the same day as the baptism of Connie's baby. Michael deduces the plot and Tessio is led off to be murdered. While Michael stands at the baptismal font as the child's godfather, Corleone hitmen murder the dons of the four other families as well as Greene for not selling his hotel. Michael extracts Carlo's confession that he had conspired with Barzini on Sonny's assassination. He assures Carlo that he is being exiled, not murdered. However, Clemenza strangles Carlo in a car shortly afterwards. Connie confronts Michael about his involvement in Carlo's death while Kay is in the room. Kay asks Michael if he ordered Carlo's death, which Michael denies, leaving Kay relieved. As she leaves, capos enter the office and pay reverence to Michael as Don Corleone.\n",
            "Key Scene: James Caan's character Sonny Corleone is shot to death at a toll booth by a number of machine gun toting enemies.\n",
            "Genre: Crime, Drama\n",
            "Released: 1972\n",
            "\n",
            "ID: rc9zg5cBAgK7a8pdppKt\n",
            "Score: 1.1756258\n",
            "Title: Pulp Fiction\n",
            "Runtime: 154\n",
            "Plot: Pulp Fiction is a 1994 American independent crime film written and directed by Quentin Tarantino from a story he conceived with Roger Avary. It tells four intertwining tales of crime and violence in Los Angeles. The film stars John Travolta, Samuel L. Jackson, Bruce Willis, Tim Roth, Ving Rhames, and Uma Thurman. The title refers to the pulp magazines and hardboiled crime novels popular during the mid-20th century, known for their graphic violence and punchy dialogue.Tarantino wrote Pulp Fiction in 1992 and 1993, incorporating scenes that Avary originally wrote for True Romance (1993). Its plot occurs out of chronological order. The film is also self-referential from its opening moments, beginning with a title card that gives two dictionary definitions of pulp. Considerable screen time is devoted to monologues and casual conversations with eclectic dialogue revealing each character's perspectives on several subjects, and the film features an ironic combination of humor and strong violence. TriStar Pictures reportedly turned down the script as too demented. Miramax Films co-chairman Harvey Weinstein was enthralled, however, and the film became the first that Miramax Films fully financed.Pulp Fiction won the Palme d'Or at the 1994 Cannes Film Festival and was a major critical and commercial success. It was nominated for seven awards at the 67th Academy Awards, including Best Picture, and won Best Original Screenplay; Travolta, Jackson, and Thurman were nominated for Best Actor, Best Supporting Actor, and Best Supporting Actress respectively. As a result of the film's success, Travolta's career was reinvigorated. The film's development, marketing, distribution, and profitability had a sweeping effect on independent cinema.Pulp Fiction is widely regarded as Tarantino's magnum opus, with particular praise for its screenwriting. The self-reflexivity, unconventional structure, and extensive homage and pastiche have led critics to describe it as a touchstone of postmodern film. It is often considered a cultural watershed, influencing films and other media that adopted elements of its style. The cast was also widely praised, with Travolta, Thurman, and Jackson earning high acclaim. In 2008, Entertainment Weekly named it the best film since 1983 and it has appeared on many critics' lists of the greatest films ever made. In 2013, Pulp Fiction was selected for preservation in the United States National Film Registry by the Library of Congress as culturally, historically, or aesthetically significant.\n",
            "Key Scene: John Travolta is forced to inject adrenaline directly into Uma Thurman's heart after she overdoses on heroin.\n",
            "Genre: Crime, Drama\n",
            "Released: 1994\n",
            "\n",
            "ID: rc9zg5cBAgK7a8pdppKt\n",
            "Score: 1.1756258\n",
            "Title: Pulp Fiction\n",
            "Runtime: 154\n",
            "Plot: Pulp Fiction is a 1994 American independent crime film written and directed by Quentin Tarantino from a story he conceived with Roger Avary. It tells four intertwining tales of crime and violence in Los Angeles. The film stars John Travolta, Samuel L. Jackson, Bruce Willis, Tim Roth, Ving Rhames, and Uma Thurman. The title refers to the pulp magazines and hardboiled crime novels popular during the mid-20th century, known for their graphic violence and punchy dialogue.Tarantino wrote Pulp Fiction in 1992 and 1993, incorporating scenes that Avary originally wrote for True Romance (1993). Its plot occurs out of chronological order. The film is also self-referential from its opening moments, beginning with a title card that gives two dictionary definitions of pulp. Considerable screen time is devoted to monologues and casual conversations with eclectic dialogue revealing each character's perspectives on several subjects, and the film features an ironic combination of humor and strong violence. TriStar Pictures reportedly turned down the script as too demented. Miramax Films co-chairman Harvey Weinstein was enthralled, however, and the film became the first that Miramax Films fully financed.Pulp Fiction won the Palme d'Or at the 1994 Cannes Film Festival and was a major critical and commercial success. It was nominated for seven awards at the 67th Academy Awards, including Best Picture, and won Best Original Screenplay; Travolta, Jackson, and Thurman were nominated for Best Actor, Best Supporting Actor, and Best Supporting Actress respectively. As a result of the film's success, Travolta's career was reinvigorated. The film's development, marketing, distribution, and profitability had a sweeping effect on independent cinema.Pulp Fiction is widely regarded as Tarantino's magnum opus, with particular praise for its screenwriting. The self-reflexivity, unconventional structure, and extensive homage and pastiche have led critics to describe it as a touchstone of postmodern film. It is often considered a cultural watershed, influencing films and other media that adopted elements of its style. The cast was also widely praised, with Travolta, Thurman, and Jackson earning high acclaim. In 2008, Entertainment Weekly named it the best film since 1983 and it has appeared on many critics' lists of the greatest films ever made. In 2013, Pulp Fiction was selected for preservation in the United States National Film Registry by the Library of Congress as culturally, historically, or aesthetically significant.\n",
            "Key Scene: John Travolta is forced to inject adrenaline directly into Uma Thurman's heart after she overdoses on heroin.\n",
            "Genre: Crime, Drama\n",
            "Released: 1994\n"
          ]
        }
      ],
      "source": [
        "response = client.search(\n",
        "   index=index_name,\n",
        "    query={\n",
        "        \"multi_match\": {\n",
        "            \"query\": query_text,\n",
        "            \"fields\": [\"plot\", \"title\"]\n",
        "        }\n",
        "    },\n",
        "    size=3\n",
        ")\n",
        "print(pretty_search_response(response))"
      ]
    },
    {
      "cell_type": "markdown",
      "metadata": {
        "id": "dOn1C5Ac5WTs"
      },
      "source": [
        "Individual fields can be boosted with the caret (^) notation. Note in the following query how the score of the results that have \"JavaScript\" in their title is multiplied."
      ]
    },
    {
      "cell_type": "code",
      "execution_count": null,
      "metadata": {
        "colab": {
          "base_uri": "https://localhost:8080/"
        },
        "id": "qJG7hOn35Yc_",
        "outputId": "aea06ac0-ce0b-468b-ea80-c678ddb188db"
      },
      "outputs": [
        {
          "name": "stdout",
          "output_type": "stream",
          "text": [
            "\n",
            "ID: rs9zg5cBAgK7a8pdppKt\n",
            "Score: 15.363821\n",
            "Title: The Dark Knight\n",
            "Runtime: 152\n",
            "Plot: The Dark Knight is a 2008 superhero film directed by Christopher Nolan, from a screenplay co-written with his brother Jonathan. Based on the DC Comics superhero Batman, it is the sequel to Batman Begins (2005), and the second installment in The Dark Knight trilogy. The plot follows the vigilante Batman, police lieutenant James Gordon, and district attorney Harvey Dent, who form an alliance to dismantle organized crime in Gotham City. Their efforts are derailed by the Joker, an anarchistic mastermind who seeks to test how far Batman will go to save the city from chaos. The ensemble cast includes Christian Bale, Michael Caine, Heath Ledger, Gary Oldman, Aaron Eckhart, Maggie Gyllenhaal, and Morgan Freeman.Warner Bros. Pictures prioritized a sequel following the successful reinvention of the Batman film series with Batman Begins. Christopher and Batman Begins co-writer David S. Goyer developed the story elements, making Dent the central protagonist caught up in the battle between Batman and the Joker. In writing the screenplay, the Nolans were influenced by 1980s Batman comics and crime drama films, and sought to continue Batman Begins' heightened sense of realism. From April to November 2007, filming took place with a $185 million budget in Chicago and Hong Kong, and on sets in England. The Dark Knight was the first major motion picture to be filmed with high-resolution IMAX cameras. Christopher avoided using computer-generated imagery unless necessary, insisting on practical stunts such as flipping an 18-wheel truck and blowing up a factory.The Dark Knight was marketed with an innovative interactive viral campaign that initially focused on countering criticism of Ledger's casting by those who believed he was a poor choice to portray the Joker. Ledger died from an accidental prescription drug overdose in January 2008, leading to widespread interest from the press and public regarding his performance. When it was released in July, The Dark Knight received acclaim for its mature tone and themes, visual style, and performances—particularly that of Ledger, who received many posthumous awards including Academy, BAFTA, and Golden Globe awards for Best Supporting Actor, making The Dark Knight the first comic-book film to receive major industry awards. It broke several box-office records and became the highest-grossing 2008 film, the fourth-highest-grossing film to that time, and the highest-grossing superhero film.Since its release, The Dark Knight has been assessed as one of the greatest superhero films ever, one of the best movies of the 2000s, and one of the best films ever made. It is considered the blueprint for many modern superhero films, particularly for its rejection of a typical comic-book movie style in favor of a crime film that features comic-book characters. Many filmmakers sought to repeat its success by emulating its gritty, realistic tone to varying degrees of success. The Dark Knight has been analyzed for its themes of terrorism and the limitations of morality and ethics. The United States Library of Congress selected it for preservation in the National Film Registry in 2020. A sequel, The Dark Knight Rises, concluded The Dark Knight trilogy in 2012.\n",
            "Key Scene: Batman angrily responds 'I’m Batman' when asked who he is by Falcone.\n",
            "Genre: Action, Crime, Drama, Thriller\n",
            "Released: 2008\n",
            "\n",
            "ID: ts9zg5cBAgK7a8pdppKt\n",
            "Score: 6.321558\n",
            "Title: The Godfather\n",
            "Runtime: 175\n",
            "Plot: In 1945, the don of New York City's Corleone family, Vito Corleone, listens to requests during his daughter Connie's wedding to Carlo Rizzi. Vito's youngest son Michael, a Marine and World War II hero who has so far stayed out of the family business, introduces his girlfriend Kay Adams to his family at the reception. Johnny Fontane, a popular singer and Vito's godson, seeks Vito's help in securing a movie role. Vito sends his consigliere, Tom Hagen, to persuade studio president Jack Woltz to offer Johnny the part. Woltz refuses Hagen's request at first, but soon complies after finding the severed head of his prized stud horse in his bed.As Christmas approaches, drug baron Virgil The Turk Sollozzo asks Vito to invest in his narcotics business to provide police protection. Vito declines, citing that involvement in narcotics would alienate his political connections. Suspicious of Sollozzo's partnership with the Tattaglia crime family, Vito sends his enforcer Luca Brasi to the Tattaglias on an espionage mission. Brasi is garroted to death during the initial meeting. Later, enforcers gun down Vito and coerce Hagen into a meeting. With Vito's first-born Sonny now in command, Sollozzo pressures Hagen to persuade Sonny to accept the narcotics deal. Vito survives the shooting and is visited in the hospital by Michael, who finds him unprotected after NYPD police officers on Sollozzo's payroll clear out Vito's guards. Michael stops the attempt on his father's life but is beaten by corrupt police captain Mark McCluskey. After the attempted hit at the hospital, Sonny retaliates with a hit on Bruno Tattaglia. Sollozzo and McCluskey request to meet with Michael and settle the dispute. The Corleones agree to the meeting and devise a plan to plant a handgun in the bathroom of the Bronx restaurant where the meeting will be held. Michael speaks with Sollozzo for several minutes then excuses himself, retrieves the gun, and shoots both men dead.Despite a clampdown by the authorities for the killing of a police captain, the Five Families erupt in open warfare. Michael takes refuge in Sicily, and Vito's second son Fredo is sheltered by Jewish mobster Moe Greene in Las Vegas. In Sicily, Michael meets and marries a local woman, Apollonia. Sonny publicly attacks and threatens Carlo for physically abusing Connie. When he abuses her again, Sonny speeds to their home but is ambushed and murdered by gangsters at a highway toll booth. Apollonia is killed shortly thereafter by a car bomb intended for Michael.Devastated by Sonny's death and tired of war, Vito sets up a meeting with the Five Families. He assures them that he will withdraw his opposition to their narcotics business and forgo avenging Sonny's murder. His safety guaranteed, Michael returns home to enter the family business and marry Kay. They have two children in the early 1950s. With his father nearing the end of his life and Fredo not suited to lead, Michael assumes the position of head of the Corleone family. Vito tells Michael that he now knows that their true adversary had been Don Barzini all along. He warns him that Barzini would try to kill him at a meeting organized by a traitorous Corleone capo. With Vito's support, Michael relegates Hagen to managing operations in Las Vegas as he is not a wartime consigliere. Michael travels to Las Vegas to buy out Moe Greene's stake in the family's casinos and reprimands Fredo for defending Greene, who Barzini had turned against the family.In 1955, Vito dies of a heart attack while playing with Michael's son Anthony. At Vito's funeral, Tessio asks Michael to meet with Barzini, signaling his betrayal. The meeting is set for the same day as the baptism of Connie's baby. Michael deduces the plot and Tessio is led off to be murdered. While Michael stands at the baptismal font as the child's godfather, Corleone hitmen murder the dons of the four other families as well as Greene for not selling his hotel. Michael extracts Carlo's confession that he had conspired with Barzini on Sonny's assassination. He assures Carlo that he is being exiled, not murdered. However, Clemenza strangles Carlo in a car shortly afterwards. Connie confronts Michael about his involvement in Carlo's death while Kay is in the room. Kay asks Michael if he ordered Carlo's death, which Michael denies, leaving Kay relieved. As she leaves, capos enter the office and pay reverence to Michael as Don Corleone.\n",
            "Key Scene: James Caan's character Sonny Corleone is shot to death at a toll booth by a number of machine gun toting enemies.\n",
            "Genre: Crime, Drama\n",
            "Released: 1972\n",
            "\n",
            "ID: rc9zg5cBAgK7a8pdppKt\n",
            "Score: 3.5268779\n",
            "Title: Pulp Fiction\n",
            "Runtime: 154\n",
            "Plot: Pulp Fiction is a 1994 American independent crime film written and directed by Quentin Tarantino from a story he conceived with Roger Avary. It tells four intertwining tales of crime and violence in Los Angeles. The film stars John Travolta, Samuel L. Jackson, Bruce Willis, Tim Roth, Ving Rhames, and Uma Thurman. The title refers to the pulp magazines and hardboiled crime novels popular during the mid-20th century, known for their graphic violence and punchy dialogue.Tarantino wrote Pulp Fiction in 1992 and 1993, incorporating scenes that Avary originally wrote for True Romance (1993). Its plot occurs out of chronological order. The film is also self-referential from its opening moments, beginning with a title card that gives two dictionary definitions of pulp. Considerable screen time is devoted to monologues and casual conversations with eclectic dialogue revealing each character's perspectives on several subjects, and the film features an ironic combination of humor and strong violence. TriStar Pictures reportedly turned down the script as too demented. Miramax Films co-chairman Harvey Weinstein was enthralled, however, and the film became the first that Miramax Films fully financed.Pulp Fiction won the Palme d'Or at the 1994 Cannes Film Festival and was a major critical and commercial success. It was nominated for seven awards at the 67th Academy Awards, including Best Picture, and won Best Original Screenplay; Travolta, Jackson, and Thurman were nominated for Best Actor, Best Supporting Actor, and Best Supporting Actress respectively. As a result of the film's success, Travolta's career was reinvigorated. The film's development, marketing, distribution, and profitability had a sweeping effect on independent cinema.Pulp Fiction is widely regarded as Tarantino's magnum opus, with particular praise for its screenwriting. The self-reflexivity, unconventional structure, and extensive homage and pastiche have led critics to describe it as a touchstone of postmodern film. It is often considered a cultural watershed, influencing films and other media that adopted elements of its style. The cast was also widely praised, with Travolta, Thurman, and Jackson earning high acclaim. In 2008, Entertainment Weekly named it the best film since 1983 and it has appeared on many critics' lists of the greatest films ever made. In 2013, Pulp Fiction was selected for preservation in the United States National Film Registry by the Library of Congress as culturally, historically, or aesthetically significant.\n",
            "Key Scene: John Travolta is forced to inject adrenaline directly into Uma Thurman's heart after she overdoses on heroin.\n",
            "Genre: Crime, Drama\n",
            "Released: 1994\n",
            "\n",
            "ID: rc9zg5cBAgK7a8pdppKt\n",
            "Score: 3.5268779\n",
            "Title: Pulp Fiction\n",
            "Runtime: 154\n",
            "Plot: Pulp Fiction is a 1994 American independent crime film written and directed by Quentin Tarantino from a story he conceived with Roger Avary. It tells four intertwining tales of crime and violence in Los Angeles. The film stars John Travolta, Samuel L. Jackson, Bruce Willis, Tim Roth, Ving Rhames, and Uma Thurman. The title refers to the pulp magazines and hardboiled crime novels popular during the mid-20th century, known for their graphic violence and punchy dialogue.Tarantino wrote Pulp Fiction in 1992 and 1993, incorporating scenes that Avary originally wrote for True Romance (1993). Its plot occurs out of chronological order. The film is also self-referential from its opening moments, beginning with a title card that gives two dictionary definitions of pulp. Considerable screen time is devoted to monologues and casual conversations with eclectic dialogue revealing each character's perspectives on several subjects, and the film features an ironic combination of humor and strong violence. TriStar Pictures reportedly turned down the script as too demented. Miramax Films co-chairman Harvey Weinstein was enthralled, however, and the film became the first that Miramax Films fully financed.Pulp Fiction won the Palme d'Or at the 1994 Cannes Film Festival and was a major critical and commercial success. It was nominated for seven awards at the 67th Academy Awards, including Best Picture, and won Best Original Screenplay; Travolta, Jackson, and Thurman were nominated for Best Actor, Best Supporting Actor, and Best Supporting Actress respectively. As a result of the film's success, Travolta's career was reinvigorated. The film's development, marketing, distribution, and profitability had a sweeping effect on independent cinema.Pulp Fiction is widely regarded as Tarantino's magnum opus, with particular praise for its screenwriting. The self-reflexivity, unconventional structure, and extensive homage and pastiche have led critics to describe it as a touchstone of postmodern film. It is often considered a cultural watershed, influencing films and other media that adopted elements of its style. The cast was also widely praised, with Travolta, Thurman, and Jackson earning high acclaim. In 2008, Entertainment Weekly named it the best film since 1983 and it has appeared on many critics' lists of the greatest films ever made. In 2013, Pulp Fiction was selected for preservation in the United States National Film Registry by the Library of Congress as culturally, historically, or aesthetically significant.\n",
            "Key Scene: John Travolta is forced to inject adrenaline directly into Uma Thurman's heart after she overdoses on heroin.\n",
            "Genre: Crime, Drama\n",
            "Released: 1994\n"
          ]
        }
      ],
      "source": [
        "response = client.search(\n",
        "   index=index_name,\n",
        "    query={\n",
        "        \"multi_match\": {\n",
        "            \"query\": query_text,\n",
        "            \"fields\": [\"plot^3\", \"title\"]\n",
        "        }\n",
        "    },\n",
        "    size=3\n",
        ")\n",
        "print(pretty_search_response(response))"
      ]
    },
    {
      "cell_type": "markdown",
      "metadata": {
        "id": "jjI9vfFW56Z0"
      },
      "source": [
        "### Using Filters with Queries\n",
        "Filters are often added to search queries with the intention of limiting the search to a subset of the documents. A filter can cleanly eliminate documents from a search, without altering the relevance scores of the results.\n",
        "\n",
        "The next example returns movies that were released after 1990."
      ]
    },
    {
      "cell_type": "code",
      "execution_count": null,
      "metadata": {
        "colab": {
          "base_uri": "https://localhost:8080/"
        },
        "id": "oyyPKYJ-6Leu",
        "outputId": "41b0885b-f5d1-4d94-a8d1-52a52d764509"
      },
      "outputs": [
        {
          "name": "stdout",
          "output_type": "stream",
          "text": [
            "\n",
            "ID: rs9zg5cBAgK7a8pdppKt\n",
            "Score: 5.1212735\n",
            "Title: The Dark Knight\n",
            "Runtime: 152\n",
            "Plot: The Dark Knight is a 2008 superhero film directed by Christopher Nolan, from a screenplay co-written with his brother Jonathan. Based on the DC Comics superhero Batman, it is the sequel to Batman Begins (2005), and the second installment in The Dark Knight trilogy. The plot follows the vigilante Batman, police lieutenant James Gordon, and district attorney Harvey Dent, who form an alliance to dismantle organized crime in Gotham City. Their efforts are derailed by the Joker, an anarchistic mastermind who seeks to test how far Batman will go to save the city from chaos. The ensemble cast includes Christian Bale, Michael Caine, Heath Ledger, Gary Oldman, Aaron Eckhart, Maggie Gyllenhaal, and Morgan Freeman.Warner Bros. Pictures prioritized a sequel following the successful reinvention of the Batman film series with Batman Begins. Christopher and Batman Begins co-writer David S. Goyer developed the story elements, making Dent the central protagonist caught up in the battle between Batman and the Joker. In writing the screenplay, the Nolans were influenced by 1980s Batman comics and crime drama films, and sought to continue Batman Begins' heightened sense of realism. From April to November 2007, filming took place with a $185 million budget in Chicago and Hong Kong, and on sets in England. The Dark Knight was the first major motion picture to be filmed with high-resolution IMAX cameras. Christopher avoided using computer-generated imagery unless necessary, insisting on practical stunts such as flipping an 18-wheel truck and blowing up a factory.The Dark Knight was marketed with an innovative interactive viral campaign that initially focused on countering criticism of Ledger's casting by those who believed he was a poor choice to portray the Joker. Ledger died from an accidental prescription drug overdose in January 2008, leading to widespread interest from the press and public regarding his performance. When it was released in July, The Dark Knight received acclaim for its mature tone and themes, visual style, and performances—particularly that of Ledger, who received many posthumous awards including Academy, BAFTA, and Golden Globe awards for Best Supporting Actor, making The Dark Knight the first comic-book film to receive major industry awards. It broke several box-office records and became the highest-grossing 2008 film, the fourth-highest-grossing film to that time, and the highest-grossing superhero film.Since its release, The Dark Knight has been assessed as one of the greatest superhero films ever, one of the best movies of the 2000s, and one of the best films ever made. It is considered the blueprint for many modern superhero films, particularly for its rejection of a typical comic-book movie style in favor of a crime film that features comic-book characters. Many filmmakers sought to repeat its success by emulating its gritty, realistic tone to varying degrees of success. The Dark Knight has been analyzed for its themes of terrorism and the limitations of morality and ethics. The United States Library of Congress selected it for preservation in the National Film Registry in 2020. A sequel, The Dark Knight Rises, concluded The Dark Knight trilogy in 2012.\n",
            "Key Scene: Batman angrily responds 'I’m Batman' when asked who he is by Falcone.\n",
            "Genre: Action, Crime, Drama, Thriller\n",
            "Released: 2008\n",
            "\n",
            "ID: rc9zg5cBAgK7a8pdppKt\n",
            "Score: 1.1756258\n",
            "Title: Pulp Fiction\n",
            "Runtime: 154\n",
            "Plot: Pulp Fiction is a 1994 American independent crime film written and directed by Quentin Tarantino from a story he conceived with Roger Avary. It tells four intertwining tales of crime and violence in Los Angeles. The film stars John Travolta, Samuel L. Jackson, Bruce Willis, Tim Roth, Ving Rhames, and Uma Thurman. The title refers to the pulp magazines and hardboiled crime novels popular during the mid-20th century, known for their graphic violence and punchy dialogue.Tarantino wrote Pulp Fiction in 1992 and 1993, incorporating scenes that Avary originally wrote for True Romance (1993). Its plot occurs out of chronological order. The film is also self-referential from its opening moments, beginning with a title card that gives two dictionary definitions of pulp. Considerable screen time is devoted to monologues and casual conversations with eclectic dialogue revealing each character's perspectives on several subjects, and the film features an ironic combination of humor and strong violence. TriStar Pictures reportedly turned down the script as too demented. Miramax Films co-chairman Harvey Weinstein was enthralled, however, and the film became the first that Miramax Films fully financed.Pulp Fiction won the Palme d'Or at the 1994 Cannes Film Festival and was a major critical and commercial success. It was nominated for seven awards at the 67th Academy Awards, including Best Picture, and won Best Original Screenplay; Travolta, Jackson, and Thurman were nominated for Best Actor, Best Supporting Actor, and Best Supporting Actress respectively. As a result of the film's success, Travolta's career was reinvigorated. The film's development, marketing, distribution, and profitability had a sweeping effect on independent cinema.Pulp Fiction is widely regarded as Tarantino's magnum opus, with particular praise for its screenwriting. The self-reflexivity, unconventional structure, and extensive homage and pastiche have led critics to describe it as a touchstone of postmodern film. It is often considered a cultural watershed, influencing films and other media that adopted elements of its style. The cast was also widely praised, with Travolta, Thurman, and Jackson earning high acclaim. In 2008, Entertainment Weekly named it the best film since 1983 and it has appeared on many critics' lists of the greatest films ever made. In 2013, Pulp Fiction was selected for preservation in the United States National Film Registry by the Library of Congress as culturally, historically, or aesthetically significant.\n",
            "Key Scene: John Travolta is forced to inject adrenaline directly into Uma Thurman's heart after she overdoses on heroin.\n",
            "Genre: Crime, Drama\n",
            "Released: 1994\n",
            "\n",
            "ID: uM9zg5cBAgK7a8pdppKt\n",
            "Score: 1.1444616\n",
            "Title: The Usual Suspects\n",
            "Runtime: 106\n",
            "Plot: The Usual Suspects is a 1995 crime thriller film directed by Bryan Singer and written by Christopher McQuarrie. It stars Stephen Baldwin, Gabriel Byrne, Benicio del Toro, Kevin Pollak, Chazz Palminteri, Pete Postlethwaite and Kevin Spacey.The plot follows the interrogation of Roger Verbal Kint, a small-time con man, who is one of only two survivors of a massacre and fire on a ship docked at the Port of Los Angeles. Through flashback and narration, Kint tells an interrogator a convoluted story of events that led him and his criminal companions to the boat, and of a mysterious crime lord—known as Keyser Söze—who controlled them. The film was shot on a $6 million budget and began as a title taken from a column in Spy magazine called The Usual Suspects, after one of Claude Rains' most memorable lines in the classic film Casablanca, and Singer thought that it would make a good title for a film.The film was shown out of competition at the 1995 Cannes Film Festival and then initially released in a few theaters. It received favorable reviews and was eventually given a wider release. Praise went towards the mystery elements, screenplay, plot twist, and Spacey's performance. McQuarrie won the Academy Award for Best Original Screenplay and Spacey won the Academy Award for Best Supporting Actor for his performance. The Writers Guild of America ranked the film as having the 35th-greatest screenplay of all time.\n",
            "Key Scene: Kevin Spacey's character Verbal Kint is revealed to be the mastermind behind the crime, when his limp disappears as he walks away from the police station.\n",
            "Genre: Crime, Mystery, Thriller\n",
            "Released: 1995\n",
            "\n",
            "ID: uM9zg5cBAgK7a8pdppKt\n",
            "Score: 1.1444616\n",
            "Title: The Usual Suspects\n",
            "Runtime: 106\n",
            "Plot: The Usual Suspects is a 1995 crime thriller film directed by Bryan Singer and written by Christopher McQuarrie. It stars Stephen Baldwin, Gabriel Byrne, Benicio del Toro, Kevin Pollak, Chazz Palminteri, Pete Postlethwaite and Kevin Spacey.The plot follows the interrogation of Roger Verbal Kint, a small-time con man, who is one of only two survivors of a massacre and fire on a ship docked at the Port of Los Angeles. Through flashback and narration, Kint tells an interrogator a convoluted story of events that led him and his criminal companions to the boat, and of a mysterious crime lord—known as Keyser Söze—who controlled them. The film was shot on a $6 million budget and began as a title taken from a column in Spy magazine called The Usual Suspects, after one of Claude Rains' most memorable lines in the classic film Casablanca, and Singer thought that it would make a good title for a film.The film was shown out of competition at the 1995 Cannes Film Festival and then initially released in a few theaters. It received favorable reviews and was eventually given a wider release. Praise went towards the mystery elements, screenplay, plot twist, and Spacey's performance. McQuarrie won the Academy Award for Best Original Screenplay and Spacey won the Academy Award for Best Supporting Actor for his performance. The Writers Guild of America ranked the film as having the 35th-greatest screenplay of all time.\n",
            "Key Scene: Kevin Spacey's character Verbal Kint is revealed to be the mastermind behind the crime, when his limp disappears as he walks away from the police station.\n",
            "Genre: Crime, Mystery, Thriller\n",
            "Released: 1995\n"
          ]
        }
      ],
      "source": [
        "response = client.search(\n",
        "   index=index_name,\n",
        "   query={\n",
        "        \"bool\": {\n",
        "            \"must\": [{\"match\": {\"plot\": {\"query\": query_text}}}],\n",
        "            \"must_not\": [{\"range\": {\"released\": {\"lte\": 1991}}}],\n",
        "        }\n",
        "    },\n",
        "    size=3\n",
        ")\n",
        "print(pretty_search_response(response))"
      ]
    },
    {
      "cell_type": "markdown",
      "metadata": {
        "id": "SsBkjEcA66Up"
      },
      "source": [
        "# Querying Documents with Hybrid Search\n",
        "\n",
        "Now we need to perform a query using two different search strategies:\n",
        "- Semantic search using the **plot_semantic** field\n",
        "- Keyword search using the **plot** field\n",
        "\n",
        "We then use [Reciprocal Rank Fusion (RRF)](https://www.elastic.co/guide/en/elasticsearch/reference/current/rrf.html) to balance the scores to provide a final list of documents, ranked in order of relevance. RRF is a ranking algorithm for combining results from different information retrieval strategies.\n",
        "\n",
        "Note: With the retriever API, _score contains the document’s relevance score, and the rank is simply the position in the results (first result is rank 1, etc.)."
      ]
    },
    {
      "cell_type": "code",
      "execution_count": null,
      "metadata": {
        "colab": {
          "base_uri": "https://localhost:8080/"
        },
        "id": "04zkQD-G9h51",
        "outputId": "57fdca8a-6432-4b5e-bf48-b77fa2a30604"
      },
      "outputs": [
        {
          "name": "stdout",
          "output_type": "stream",
          "text": [
            "\n",
            "ID: ts9zg5cBAgK7a8pdppKt\n",
            "Score: 0.032002047\n",
            "Title: The Godfather\n",
            "Runtime: 175\n",
            "Plot: In 1945, the don of New York City's Corleone family, Vito Corleone, listens to requests during his daughter Connie's wedding to Carlo Rizzi. Vito's youngest son Michael, a Marine and World War II hero who has so far stayed out of the family business, introduces his girlfriend Kay Adams to his family at the reception. Johnny Fontane, a popular singer and Vito's godson, seeks Vito's help in securing a movie role. Vito sends his consigliere, Tom Hagen, to persuade studio president Jack Woltz to offer Johnny the part. Woltz refuses Hagen's request at first, but soon complies after finding the severed head of his prized stud horse in his bed.As Christmas approaches, drug baron Virgil The Turk Sollozzo asks Vito to invest in his narcotics business to provide police protection. Vito declines, citing that involvement in narcotics would alienate his political connections. Suspicious of Sollozzo's partnership with the Tattaglia crime family, Vito sends his enforcer Luca Brasi to the Tattaglias on an espionage mission. Brasi is garroted to death during the initial meeting. Later, enforcers gun down Vito and coerce Hagen into a meeting. With Vito's first-born Sonny now in command, Sollozzo pressures Hagen to persuade Sonny to accept the narcotics deal. Vito survives the shooting and is visited in the hospital by Michael, who finds him unprotected after NYPD police officers on Sollozzo's payroll clear out Vito's guards. Michael stops the attempt on his father's life but is beaten by corrupt police captain Mark McCluskey. After the attempted hit at the hospital, Sonny retaliates with a hit on Bruno Tattaglia. Sollozzo and McCluskey request to meet with Michael and settle the dispute. The Corleones agree to the meeting and devise a plan to plant a handgun in the bathroom of the Bronx restaurant where the meeting will be held. Michael speaks with Sollozzo for several minutes then excuses himself, retrieves the gun, and shoots both men dead.Despite a clampdown by the authorities for the killing of a police captain, the Five Families erupt in open warfare. Michael takes refuge in Sicily, and Vito's second son Fredo is sheltered by Jewish mobster Moe Greene in Las Vegas. In Sicily, Michael meets and marries a local woman, Apollonia. Sonny publicly attacks and threatens Carlo for physically abusing Connie. When he abuses her again, Sonny speeds to their home but is ambushed and murdered by gangsters at a highway toll booth. Apollonia is killed shortly thereafter by a car bomb intended for Michael.Devastated by Sonny's death and tired of war, Vito sets up a meeting with the Five Families. He assures them that he will withdraw his opposition to their narcotics business and forgo avenging Sonny's murder. His safety guaranteed, Michael returns home to enter the family business and marry Kay. They have two children in the early 1950s. With his father nearing the end of his life and Fredo not suited to lead, Michael assumes the position of head of the Corleone family. Vito tells Michael that he now knows that their true adversary had been Don Barzini all along. He warns him that Barzini would try to kill him at a meeting organized by a traitorous Corleone capo. With Vito's support, Michael relegates Hagen to managing operations in Las Vegas as he is not a wartime consigliere. Michael travels to Las Vegas to buy out Moe Greene's stake in the family's casinos and reprimands Fredo for defending Greene, who Barzini had turned against the family.In 1955, Vito dies of a heart attack while playing with Michael's son Anthony. At Vito's funeral, Tessio asks Michael to meet with Barzini, signaling his betrayal. The meeting is set for the same day as the baptism of Connie's baby. Michael deduces the plot and Tessio is led off to be murdered. While Michael stands at the baptismal font as the child's godfather, Corleone hitmen murder the dons of the four other families as well as Greene for not selling his hotel. Michael extracts Carlo's confession that he had conspired with Barzini on Sonny's assassination. He assures Carlo that he is being exiled, not murdered. However, Clemenza strangles Carlo in a car shortly afterwards. Connie confronts Michael about his involvement in Carlo's death while Kay is in the room. Kay asks Michael if he ordered Carlo's death, which Michael denies, leaving Kay relieved. As she leaves, capos enter the office and pay reverence to Michael as Don Corleone.\n",
            "Key Scene: James Caan's character Sonny Corleone is shot to death at a toll booth by a number of machine gun toting enemies.\n",
            "Genre: Crime, Drama\n",
            "Released: 1972\n",
            "\n",
            "ID: s89zg5cBAgK7a8pdppKt\n",
            "Score: 0.031544957\n",
            "Title: Goodfellas\n",
            "Runtime: 146\n",
            "Plot: In 1955, teenager Henry Hill becomes enamored by the criminal life and Mafia presence in East New York, a working-class Italian-American neighborhood in Brooklyn, New York City. He begins working for local caporegime Paulie Cicero and his associates Jimmy Conway, an Irish-American truck hijacker and gangster, and Tommy DeVito, a fellow juvenile delinquent. Henry begins as a fence for Jimmy, gradually working his way up to more serious crimes.Throughout the 1960s, the three men excel at carjacking, stealing cargo trucks from JFK Airport, and eventually commit the Air France Robbery. They spend most of their nights at the Copacabana nightclub, carousing with women. Henry starts dating Karen Friedman, a Jewish woman who is initially confused by Henry's criminal activities. She is soon seduced by Henry's glamorous lifestyle, and marries him, despite her parents' disapproval.In 1970, Billy Batts, a made man in the Gambino crime family who was recently released from prison, insults Tommy at a nightclub that is owned by Henry. In response, Tommy and Jimmy beat, stab and fatally shoot Billy. Realizing that the unsanctioned murder of a made man will invite retribution, Jimmy, Henry and Tommy bury the body in Upstate New York. Six months later, Jimmy learns that the burial site is slated for development, prompting them to exhume and relocate the decaying corpse.In 1974, Karen harasses Henry's mistress Janice, and threatens Henry at gunpoint. Henry moves in with Janice, but Paulie insists that he return to Karen after collecting a debt from a gambler in Tampa with Jimmy. Jimmy and Henry are arrested after being turned in by the gambler's sister, an FBI typist, and they receive ten-year prison sentences. To support his family on the outside, Henry has Karen smuggle in drugs from Pittsburgh, which he sells to fellow inmates.Four years later, Henry is paroled and expands his cocaine business with Jimmy and Tommy, against Paulie's orders. Jimmy organizes a crew to raid the Lufthansa vault at JFK Airport, stealing six million dollars in cash and jewelry. After some members purchase expensive items against Jimmy's orders and the getaway truck is found by police, he has most of the crew killed. Only Henry and Tommy are spared, as Henry is making money through his Pittsburgh connection, and Tommy is about to become a made man. However, Tommy is killed when he arrives at the bogus initiation ceremony, in retribution for murdering Batts.By 1980, Henry has become a nervous wreck due to heavy cocaine use. He sets up another drug deal with his Pittsburgh associates but is arrested by narcotics agents and incarcerated. After bailing him out, Karen explains that she flushed $60,000 worth of cocaine down the toilet to prevent FBI agents from finding it during their raid, leaving the Hills penniless.Feeling betrayed by Henry's drug dealing, and realizing that he is a liability, Paulie gives him $3,200 and ends their association. Henry meets Jimmy at a diner and is asked to travel to a hit assignment, but the request makes him suspicious. Realizing that Jimmy plans to have him killed, Henry decides to finally become an informant and enroll with his family in the witness protection program. Henry gives sufficient testimony and evidence in court to have Paulie and Jimmy convicted, and moves to a neighborhood in an undisclosed location, in accordance with the witness protection program. Henry describes his unhappiness by leaving his exciting and turbulent gangster life, feeling condemned to live a boring, average life as a schnook.\n",
            "Key Scene: Joe Pesci's character Tommy DeVito shoots young Spider in the foot for not getting him a drink.\n",
            "Genre: Biography, Crime, Drama\n",
            "Released: 1990\n",
            "\n",
            "ID: rc9zg5cBAgK7a8pdppKt\n",
            "Score: 0.031257633\n",
            "Title: Pulp Fiction\n",
            "Runtime: 154\n",
            "Plot: Pulp Fiction is a 1994 American independent crime film written and directed by Quentin Tarantino from a story he conceived with Roger Avary. It tells four intertwining tales of crime and violence in Los Angeles. The film stars John Travolta, Samuel L. Jackson, Bruce Willis, Tim Roth, Ving Rhames, and Uma Thurman. The title refers to the pulp magazines and hardboiled crime novels popular during the mid-20th century, known for their graphic violence and punchy dialogue.Tarantino wrote Pulp Fiction in 1992 and 1993, incorporating scenes that Avary originally wrote for True Romance (1993). Its plot occurs out of chronological order. The film is also self-referential from its opening moments, beginning with a title card that gives two dictionary definitions of pulp. Considerable screen time is devoted to monologues and casual conversations with eclectic dialogue revealing each character's perspectives on several subjects, and the film features an ironic combination of humor and strong violence. TriStar Pictures reportedly turned down the script as too demented. Miramax Films co-chairman Harvey Weinstein was enthralled, however, and the film became the first that Miramax Films fully financed.Pulp Fiction won the Palme d'Or at the 1994 Cannes Film Festival and was a major critical and commercial success. It was nominated for seven awards at the 67th Academy Awards, including Best Picture, and won Best Original Screenplay; Travolta, Jackson, and Thurman were nominated for Best Actor, Best Supporting Actor, and Best Supporting Actress respectively. As a result of the film's success, Travolta's career was reinvigorated. The film's development, marketing, distribution, and profitability had a sweeping effect on independent cinema.Pulp Fiction is widely regarded as Tarantino's magnum opus, with particular praise for its screenwriting. The self-reflexivity, unconventional structure, and extensive homage and pastiche have led critics to describe it as a touchstone of postmodern film. It is often considered a cultural watershed, influencing films and other media that adopted elements of its style. The cast was also widely praised, with Travolta, Thurman, and Jackson earning high acclaim. In 2008, Entertainment Weekly named it the best film since 1983 and it has appeared on many critics' lists of the greatest films ever made. In 2013, Pulp Fiction was selected for preservation in the United States National Film Registry by the Library of Congress as culturally, historically, or aesthetically significant.\n",
            "Key Scene: John Travolta is forced to inject adrenaline directly into Uma Thurman's heart after she overdoses on heroin.\n",
            "Genre: Crime, Drama\n",
            "Released: 1994\n",
            "\n",
            "ID: uM9zg5cBAgK7a8pdppKt\n",
            "Score: 0.03125\n",
            "Title: The Usual Suspects\n",
            "Runtime: 106\n",
            "Plot: The Usual Suspects is a 1995 crime thriller film directed by Bryan Singer and written by Christopher McQuarrie. It stars Stephen Baldwin, Gabriel Byrne, Benicio del Toro, Kevin Pollak, Chazz Palminteri, Pete Postlethwaite and Kevin Spacey.The plot follows the interrogation of Roger Verbal Kint, a small-time con man, who is one of only two survivors of a massacre and fire on a ship docked at the Port of Los Angeles. Through flashback and narration, Kint tells an interrogator a convoluted story of events that led him and his criminal companions to the boat, and of a mysterious crime lord—known as Keyser Söze—who controlled them. The film was shot on a $6 million budget and began as a title taken from a column in Spy magazine called The Usual Suspects, after one of Claude Rains' most memorable lines in the classic film Casablanca, and Singer thought that it would make a good title for a film.The film was shown out of competition at the 1995 Cannes Film Festival and then initially released in a few theaters. It received favorable reviews and was eventually given a wider release. Praise went towards the mystery elements, screenplay, plot twist, and Spacey's performance. McQuarrie won the Academy Award for Best Original Screenplay and Spacey won the Academy Award for Best Supporting Actor for his performance. The Writers Guild of America ranked the film as having the 35th-greatest screenplay of all time.\n",
            "Key Scene: Kevin Spacey's character Verbal Kint is revealed to be the mastermind behind the crime, when his limp disappears as he walks away from the police station.\n",
            "Genre: Crime, Mystery, Thriller\n",
            "Released: 1995\n",
            "\n",
            "ID: rs9zg5cBAgK7a8pdppKt\n",
            "Score: 0.031099323\n",
            "Title: The Dark Knight\n",
            "Runtime: 152\n",
            "Plot: The Dark Knight is a 2008 superhero film directed by Christopher Nolan, from a screenplay co-written with his brother Jonathan. Based on the DC Comics superhero Batman, it is the sequel to Batman Begins (2005), and the second installment in The Dark Knight trilogy. The plot follows the vigilante Batman, police lieutenant James Gordon, and district attorney Harvey Dent, who form an alliance to dismantle organized crime in Gotham City. Their efforts are derailed by the Joker, an anarchistic mastermind who seeks to test how far Batman will go to save the city from chaos. The ensemble cast includes Christian Bale, Michael Caine, Heath Ledger, Gary Oldman, Aaron Eckhart, Maggie Gyllenhaal, and Morgan Freeman.Warner Bros. Pictures prioritized a sequel following the successful reinvention of the Batman film series with Batman Begins. Christopher and Batman Begins co-writer David S. Goyer developed the story elements, making Dent the central protagonist caught up in the battle between Batman and the Joker. In writing the screenplay, the Nolans were influenced by 1980s Batman comics and crime drama films, and sought to continue Batman Begins' heightened sense of realism. From April to November 2007, filming took place with a $185 million budget in Chicago and Hong Kong, and on sets in England. The Dark Knight was the first major motion picture to be filmed with high-resolution IMAX cameras. Christopher avoided using computer-generated imagery unless necessary, insisting on practical stunts such as flipping an 18-wheel truck and blowing up a factory.The Dark Knight was marketed with an innovative interactive viral campaign that initially focused on countering criticism of Ledger's casting by those who believed he was a poor choice to portray the Joker. Ledger died from an accidental prescription drug overdose in January 2008, leading to widespread interest from the press and public regarding his performance. When it was released in July, The Dark Knight received acclaim for its mature tone and themes, visual style, and performances—particularly that of Ledger, who received many posthumous awards including Academy, BAFTA, and Golden Globe awards for Best Supporting Actor, making The Dark Knight the first comic-book film to receive major industry awards. It broke several box-office records and became the highest-grossing 2008 film, the fourth-highest-grossing film to that time, and the highest-grossing superhero film.Since its release, The Dark Knight has been assessed as one of the greatest superhero films ever, one of the best movies of the 2000s, and one of the best films ever made. It is considered the blueprint for many modern superhero films, particularly for its rejection of a typical comic-book movie style in favor of a crime film that features comic-book characters. Many filmmakers sought to repeat its success by emulating its gritty, realistic tone to varying degrees of success. The Dark Knight has been analyzed for its themes of terrorism and the limitations of morality and ethics. The United States Library of Congress selected it for preservation in the National Film Registry in 2020. A sequel, The Dark Knight Rises, concluded The Dark Knight trilogy in 2012.\n",
            "Key Scene: Batman angrily responds 'I’m Batman' when asked who he is by Falcone.\n",
            "Genre: Action, Crime, Drama, Thriller\n",
            "Released: 2008\n",
            "\n",
            "ID: rs9zg5cBAgK7a8pdppKt\n",
            "Score: 0.031099323\n",
            "Title: The Dark Knight\n",
            "Runtime: 152\n",
            "Plot: The Dark Knight is a 2008 superhero film directed by Christopher Nolan, from a screenplay co-written with his brother Jonathan. Based on the DC Comics superhero Batman, it is the sequel to Batman Begins (2005), and the second installment in The Dark Knight trilogy. The plot follows the vigilante Batman, police lieutenant James Gordon, and district attorney Harvey Dent, who form an alliance to dismantle organized crime in Gotham City. Their efforts are derailed by the Joker, an anarchistic mastermind who seeks to test how far Batman will go to save the city from chaos. The ensemble cast includes Christian Bale, Michael Caine, Heath Ledger, Gary Oldman, Aaron Eckhart, Maggie Gyllenhaal, and Morgan Freeman.Warner Bros. Pictures prioritized a sequel following the successful reinvention of the Batman film series with Batman Begins. Christopher and Batman Begins co-writer David S. Goyer developed the story elements, making Dent the central protagonist caught up in the battle between Batman and the Joker. In writing the screenplay, the Nolans were influenced by 1980s Batman comics and crime drama films, and sought to continue Batman Begins' heightened sense of realism. From April to November 2007, filming took place with a $185 million budget in Chicago and Hong Kong, and on sets in England. The Dark Knight was the first major motion picture to be filmed with high-resolution IMAX cameras. Christopher avoided using computer-generated imagery unless necessary, insisting on practical stunts such as flipping an 18-wheel truck and blowing up a factory.The Dark Knight was marketed with an innovative interactive viral campaign that initially focused on countering criticism of Ledger's casting by those who believed he was a poor choice to portray the Joker. Ledger died from an accidental prescription drug overdose in January 2008, leading to widespread interest from the press and public regarding his performance. When it was released in July, The Dark Knight received acclaim for its mature tone and themes, visual style, and performances—particularly that of Ledger, who received many posthumous awards including Academy, BAFTA, and Golden Globe awards for Best Supporting Actor, making The Dark Knight the first comic-book film to receive major industry awards. It broke several box-office records and became the highest-grossing 2008 film, the fourth-highest-grossing film to that time, and the highest-grossing superhero film.Since its release, The Dark Knight has been assessed as one of the greatest superhero films ever, one of the best movies of the 2000s, and one of the best films ever made. It is considered the blueprint for many modern superhero films, particularly for its rejection of a typical comic-book movie style in favor of a crime film that features comic-book characters. Many filmmakers sought to repeat its success by emulating its gritty, realistic tone to varying degrees of success. The Dark Knight has been analyzed for its themes of terrorism and the limitations of morality and ethics. The United States Library of Congress selected it for preservation in the National Film Registry in 2020. A sequel, The Dark Knight Rises, concluded The Dark Knight trilogy in 2012.\n",
            "Key Scene: Batman angrily responds 'I’m Batman' when asked who he is by Falcone.\n",
            "Genre: Action, Crime, Drama, Thriller\n",
            "Released: 2008\n"
          ]
        },
        {
          "name": "stderr",
          "output_type": "stream",
          "text": [
            "<ipython-input-71-3767275890>:1: DeprecationWarning: Passing transport options in the API method is deprecated. Use 'Elasticsearch.options()' instead.\n",
            "  response = client.search(\n"
          ]
        }
      ],
      "source": [
        "response = client.search(\n",
        "    index=index_name,\n",
        "    size=5,\n",
        "    retriever={\n",
        "        \"rrf\": {\n",
        "            \"retrievers\": [\n",
        "                {\n",
        "                    \"standard\": {\n",
        "                      \"query\": {\n",
        "                        \"match\": {\n",
        "                            \"plot\": {\"query\": query_text},\n",
        "                        }\n",
        "                    }\n",
        "                  }\n",
        "                },\n",
        "                {\n",
        "                    \"standard\": {\n",
        "                      \"query\": {\n",
        "                        \"match\": {\n",
        "                            \"plot_semantic\": {\"query\": query_text},\n",
        "                        }\n",
        "                    }\n",
        "                  }\n",
        "                }\n",
        "            ]\n",
        "        }\n",
        "    },\n",
        "    request_timeout=90\n",
        ")\n",
        "print(pretty_search_response(response))"
      ]
    },
    {
      "cell_type": "code",
      "execution_count": null,
      "metadata": {
        "colab": {
          "base_uri": "https://localhost:8080/"
        },
        "id": "o-ImIdRS62sg",
        "outputId": "2148271c-5875-4430-aad9-9636d1a47c6e"
      },
      "outputs": [
        {
          "name": "stdout",
          "output_type": "stream",
          "text": [
            "\n",
            "ID: rc9zg5cBAgK7a8pdppKt\n",
            "Score: 0.031513646\n",
            "Title: Pulp Fiction\n",
            "Runtime: 154\n",
            "Plot: Pulp Fiction is a 1994 American independent crime film written and directed by Quentin Tarantino from a story he conceived with Roger Avary. It tells four intertwining tales of crime and violence in Los Angeles. The film stars John Travolta, Samuel L. Jackson, Bruce Willis, Tim Roth, Ving Rhames, and Uma Thurman. The title refers to the pulp magazines and hardboiled crime novels popular during the mid-20th century, known for their graphic violence and punchy dialogue.Tarantino wrote Pulp Fiction in 1992 and 1993, incorporating scenes that Avary originally wrote for True Romance (1993). Its plot occurs out of chronological order. The film is also self-referential from its opening moments, beginning with a title card that gives two dictionary definitions of pulp. Considerable screen time is devoted to monologues and casual conversations with eclectic dialogue revealing each character's perspectives on several subjects, and the film features an ironic combination of humor and strong violence. TriStar Pictures reportedly turned down the script as too demented. Miramax Films co-chairman Harvey Weinstein was enthralled, however, and the film became the first that Miramax Films fully financed.Pulp Fiction won the Palme d'Or at the 1994 Cannes Film Festival and was a major critical and commercial success. It was nominated for seven awards at the 67th Academy Awards, including Best Picture, and won Best Original Screenplay; Travolta, Jackson, and Thurman were nominated for Best Actor, Best Supporting Actor, and Best Supporting Actress respectively. As a result of the film's success, Travolta's career was reinvigorated. The film's development, marketing, distribution, and profitability had a sweeping effect on independent cinema.Pulp Fiction is widely regarded as Tarantino's magnum opus, with particular praise for its screenwriting. The self-reflexivity, unconventional structure, and extensive homage and pastiche have led critics to describe it as a touchstone of postmodern film. It is often considered a cultural watershed, influencing films and other media that adopted elements of its style. The cast was also widely praised, with Travolta, Thurman, and Jackson earning high acclaim. In 2008, Entertainment Weekly named it the best film since 1983 and it has appeared on many critics' lists of the greatest films ever made. In 2013, Pulp Fiction was selected for preservation in the United States National Film Registry by the Library of Congress as culturally, historically, or aesthetically significant.\n",
            "Key Scene: John Travolta is forced to inject adrenaline directly into Uma Thurman's heart after she overdoses on heroin.\n",
            "Genre: Crime, Drama\n",
            "Released: 1994\n",
            "\n",
            "ID: uM9zg5cBAgK7a8pdppKt\n",
            "Score: 0.031498015\n",
            "Title: The Usual Suspects\n",
            "Runtime: 106\n",
            "Plot: The Usual Suspects is a 1995 crime thriller film directed by Bryan Singer and written by Christopher McQuarrie. It stars Stephen Baldwin, Gabriel Byrne, Benicio del Toro, Kevin Pollak, Chazz Palminteri, Pete Postlethwaite and Kevin Spacey.The plot follows the interrogation of Roger Verbal Kint, a small-time con man, who is one of only two survivors of a massacre and fire on a ship docked at the Port of Los Angeles. Through flashback and narration, Kint tells an interrogator a convoluted story of events that led him and his criminal companions to the boat, and of a mysterious crime lord—known as Keyser Söze—who controlled them. The film was shot on a $6 million budget and began as a title taken from a column in Spy magazine called The Usual Suspects, after one of Claude Rains' most memorable lines in the classic film Casablanca, and Singer thought that it would make a good title for a film.The film was shown out of competition at the 1995 Cannes Film Festival and then initially released in a few theaters. It received favorable reviews and was eventually given a wider release. Praise went towards the mystery elements, screenplay, plot twist, and Spacey's performance. McQuarrie won the Academy Award for Best Original Screenplay and Spacey won the Academy Award for Best Supporting Actor for his performance. The Writers Guild of America ranked the film as having the 35th-greatest screenplay of all time.\n",
            "Key Scene: Kevin Spacey's character Verbal Kint is revealed to be the mastermind behind the crime, when his limp disappears as he walks away from the police station.\n",
            "Genre: Crime, Mystery, Thriller\n",
            "Released: 1995\n",
            "\n",
            "ID: rs9zg5cBAgK7a8pdppKt\n",
            "Score: 0.031099323\n",
            "Title: The Dark Knight\n",
            "Runtime: 152\n",
            "Plot: The Dark Knight is a 2008 superhero film directed by Christopher Nolan, from a screenplay co-written with his brother Jonathan. Based on the DC Comics superhero Batman, it is the sequel to Batman Begins (2005), and the second installment in The Dark Knight trilogy. The plot follows the vigilante Batman, police lieutenant James Gordon, and district attorney Harvey Dent, who form an alliance to dismantle organized crime in Gotham City. Their efforts are derailed by the Joker, an anarchistic mastermind who seeks to test how far Batman will go to save the city from chaos. The ensemble cast includes Christian Bale, Michael Caine, Heath Ledger, Gary Oldman, Aaron Eckhart, Maggie Gyllenhaal, and Morgan Freeman.Warner Bros. Pictures prioritized a sequel following the successful reinvention of the Batman film series with Batman Begins. Christopher and Batman Begins co-writer David S. Goyer developed the story elements, making Dent the central protagonist caught up in the battle between Batman and the Joker. In writing the screenplay, the Nolans were influenced by 1980s Batman comics and crime drama films, and sought to continue Batman Begins' heightened sense of realism. From April to November 2007, filming took place with a $185 million budget in Chicago and Hong Kong, and on sets in England. The Dark Knight was the first major motion picture to be filmed with high-resolution IMAX cameras. Christopher avoided using computer-generated imagery unless necessary, insisting on practical stunts such as flipping an 18-wheel truck and blowing up a factory.The Dark Knight was marketed with an innovative interactive viral campaign that initially focused on countering criticism of Ledger's casting by those who believed he was a poor choice to portray the Joker. Ledger died from an accidental prescription drug overdose in January 2008, leading to widespread interest from the press and public regarding his performance. When it was released in July, The Dark Knight received acclaim for its mature tone and themes, visual style, and performances—particularly that of Ledger, who received many posthumous awards including Academy, BAFTA, and Golden Globe awards for Best Supporting Actor, making The Dark Knight the first comic-book film to receive major industry awards. It broke several box-office records and became the highest-grossing 2008 film, the fourth-highest-grossing film to that time, and the highest-grossing superhero film.Since its release, The Dark Knight has been assessed as one of the greatest superhero films ever, one of the best movies of the 2000s, and one of the best films ever made. It is considered the blueprint for many modern superhero films, particularly for its rejection of a typical comic-book movie style in favor of a crime film that features comic-book characters. Many filmmakers sought to repeat its success by emulating its gritty, realistic tone to varying degrees of success. The Dark Knight has been analyzed for its themes of terrorism and the limitations of morality and ethics. The United States Library of Congress selected it for preservation in the National Film Registry in 2020. A sequel, The Dark Knight Rises, concluded The Dark Knight trilogy in 2012.\n",
            "Key Scene: Batman angrily responds 'I’m Batman' when asked who he is by Falcone.\n",
            "Genre: Action, Crime, Drama, Thriller\n",
            "Released: 2008\n",
            "\n",
            "ID: tM9zg5cBAgK7a8pdppKt\n",
            "Score: 0.030776516\n",
            "Title: Se7en\n",
            "Runtime: 127\n",
            "Plot: In an unnamed city overcome with violent crime and corruption, disillusioned police Detective Lieutenant William Somerset is one week from retirement. He is partnered with David Mills, a young, short-tempered, idealistic detective who recently relocated to the city with his wife, Tracy. On Monday, Somerset and Mills investigate an obese man who was forced to eat until his stomach burst, killing him. The detectives find the word gluttony written on a wall. Somerset, considering the case too extreme for his last investigation, asks to be reassigned, but his request is denied. The following day, another victim, who had been forced to cut one pound (0.45 kg) of flesh from his body, is found; the crime scene is marked greed. Clues at the scene lead Somerset and Mills to the sloth victim, a drug-dealing pederast whom they find emaciated and restrained to a bed. Photographs reveal the victim was restrained for precisely one year. Somerset surmises the murders are based on the Christian concept of the seven deadly sins.Tracy invites Somerset to share supper with her and Mills, helping the detectives overcome their mutual hostility. On Friday, Tracy meets privately with Somerset because she has no other acquaintances in the city. She reveals her unhappiness at moving there, especially after learning she is pregnant, and believes the city is an unfit place to raise a child. Somerset sympathizes with Tracy, having persuaded his former girlfriend to abort their child for similar reasons and regretting it ever since. He advises Tracy to inform Mills only if she intends to keep the child.A remark by Mills inspires Somerset to research libraries for anyone checking out books based on the seven deadly sins, leading the pair to the apartment of a man known only as John Doe. Unexpectedly, Doe returns home and is pursued by Mills. Doe incapacitates him by striking him with a tire iron and holds him at gunpoint, but chooses to leave him alive and flees. The police investigate the apartment, finding a large amount of money, hundreds of notebooks, and photographs of some of his victims; the cache includes images of Somerset and Mills by a person they believed was an intrusive journalist at the sloth crime scene. Doe calls the apartment and speaks of his admiration for Mills.On Saturday, Somerset and Mills investigate the fourth victim, lust, a prostitute who had been raped with a custom-made, bladed strap-on by a man held at gunpoint. The following day, the pride victim is found: a model whom Doe facially disfigured. Unable to live without her beauty, she committed suicide. As Somerset and Mills return to the police station, Doe arrives covered in blood and surrenders himself. He threatens to plead insanity at his trial, potentially escaping punishment, unless Mills and Somerset escort him to an undisclosed location where they will find the envy and wrath victims. During the drive, Doe says he believes God has chosen him to send a message about the ubiquity of, and apathy toward, sin. Doe has no remorse for his victims, believing the murders will force society to pay attention to him.Doe leads the detectives to a remote location far outside city limits, where a delivery van approaches. Somerset intercepts the vehicle, whose driver was instructed to deliver a package to Mills at this specific time and location. He is horrified at the package's contents and tells Mills to put down his gun. Doe reveals he himself represents envy because he envied Mills's life with Tracy and implies the package contains her severed head. He urges Mills to become wrath, telling him Tracy begged for her life and that of her unborn child, and takes pleasure in realizing Mills was unaware of her pregnancy. Despite Somerset's pleas, Mills, distraught and enraged, shoots Doe dead, completing Doe's plan. Police remove the catatonic Mills, and Somerset tells his captain he will be around. Somerset says in voiceover: Ernest Hemingway once wrote: 'The world is a fine place, and worth fighting for.' I agree with the second part.\n",
            "Key Scene: Brad Pitt's character David Mills shoots John Doe after he reveals that he murdered Mills' wife.\n",
            "Genre: Crime, Drama, Mystery, Thriller\n",
            "Released: 1995\n",
            "\n",
            "ID: s89zg5cBAgK7a8pdppKt\n",
            "Score: 0.016393442\n",
            "Title: Goodfellas\n",
            "Runtime: 146\n",
            "Plot: In 1955, teenager Henry Hill becomes enamored by the criminal life and Mafia presence in East New York, a working-class Italian-American neighborhood in Brooklyn, New York City. He begins working for local caporegime Paulie Cicero and his associates Jimmy Conway, an Irish-American truck hijacker and gangster, and Tommy DeVito, a fellow juvenile delinquent. Henry begins as a fence for Jimmy, gradually working his way up to more serious crimes.Throughout the 1960s, the three men excel at carjacking, stealing cargo trucks from JFK Airport, and eventually commit the Air France Robbery. They spend most of their nights at the Copacabana nightclub, carousing with women. Henry starts dating Karen Friedman, a Jewish woman who is initially confused by Henry's criminal activities. She is soon seduced by Henry's glamorous lifestyle, and marries him, despite her parents' disapproval.In 1970, Billy Batts, a made man in the Gambino crime family who was recently released from prison, insults Tommy at a nightclub that is owned by Henry. In response, Tommy and Jimmy beat, stab and fatally shoot Billy. Realizing that the unsanctioned murder of a made man will invite retribution, Jimmy, Henry and Tommy bury the body in Upstate New York. Six months later, Jimmy learns that the burial site is slated for development, prompting them to exhume and relocate the decaying corpse.In 1974, Karen harasses Henry's mistress Janice, and threatens Henry at gunpoint. Henry moves in with Janice, but Paulie insists that he return to Karen after collecting a debt from a gambler in Tampa with Jimmy. Jimmy and Henry are arrested after being turned in by the gambler's sister, an FBI typist, and they receive ten-year prison sentences. To support his family on the outside, Henry has Karen smuggle in drugs from Pittsburgh, which he sells to fellow inmates.Four years later, Henry is paroled and expands his cocaine business with Jimmy and Tommy, against Paulie's orders. Jimmy organizes a crew to raid the Lufthansa vault at JFK Airport, stealing six million dollars in cash and jewelry. After some members purchase expensive items against Jimmy's orders and the getaway truck is found by police, he has most of the crew killed. Only Henry and Tommy are spared, as Henry is making money through his Pittsburgh connection, and Tommy is about to become a made man. However, Tommy is killed when he arrives at the bogus initiation ceremony, in retribution for murdering Batts.By 1980, Henry has become a nervous wreck due to heavy cocaine use. He sets up another drug deal with his Pittsburgh associates but is arrested by narcotics agents and incarcerated. After bailing him out, Karen explains that she flushed $60,000 worth of cocaine down the toilet to prevent FBI agents from finding it during their raid, leaving the Hills penniless.Feeling betrayed by Henry's drug dealing, and realizing that he is a liability, Paulie gives him $3,200 and ends their association. Henry meets Jimmy at a diner and is asked to travel to a hit assignment, but the request makes him suspicious. Realizing that Jimmy plans to have him killed, Henry decides to finally become an informant and enroll with his family in the witness protection program. Henry gives sufficient testimony and evidence in court to have Paulie and Jimmy convicted, and moves to a neighborhood in an undisclosed location, in accordance with the witness protection program. Henry describes his unhappiness by leaving his exciting and turbulent gangster life, feeling condemned to live a boring, average life as a schnook.\n",
            "Key Scene: Joe Pesci's character Tommy DeVito shoots young Spider in the foot for not getting him a drink.\n",
            "Genre: Biography, Crime, Drama\n",
            "Released: 1990\n",
            "\n",
            "ID: s89zg5cBAgK7a8pdppKt\n",
            "Score: 0.016393442\n",
            "Title: Goodfellas\n",
            "Runtime: 146\n",
            "Plot: In 1955, teenager Henry Hill becomes enamored by the criminal life and Mafia presence in East New York, a working-class Italian-American neighborhood in Brooklyn, New York City. He begins working for local caporegime Paulie Cicero and his associates Jimmy Conway, an Irish-American truck hijacker and gangster, and Tommy DeVito, a fellow juvenile delinquent. Henry begins as a fence for Jimmy, gradually working his way up to more serious crimes.Throughout the 1960s, the three men excel at carjacking, stealing cargo trucks from JFK Airport, and eventually commit the Air France Robbery. They spend most of their nights at the Copacabana nightclub, carousing with women. Henry starts dating Karen Friedman, a Jewish woman who is initially confused by Henry's criminal activities. She is soon seduced by Henry's glamorous lifestyle, and marries him, despite her parents' disapproval.In 1970, Billy Batts, a made man in the Gambino crime family who was recently released from prison, insults Tommy at a nightclub that is owned by Henry. In response, Tommy and Jimmy beat, stab and fatally shoot Billy. Realizing that the unsanctioned murder of a made man will invite retribution, Jimmy, Henry and Tommy bury the body in Upstate New York. Six months later, Jimmy learns that the burial site is slated for development, prompting them to exhume and relocate the decaying corpse.In 1974, Karen harasses Henry's mistress Janice, and threatens Henry at gunpoint. Henry moves in with Janice, but Paulie insists that he return to Karen after collecting a debt from a gambler in Tampa with Jimmy. Jimmy and Henry are arrested after being turned in by the gambler's sister, an FBI typist, and they receive ten-year prison sentences. To support his family on the outside, Henry has Karen smuggle in drugs from Pittsburgh, which he sells to fellow inmates.Four years later, Henry is paroled and expands his cocaine business with Jimmy and Tommy, against Paulie's orders. Jimmy organizes a crew to raid the Lufthansa vault at JFK Airport, stealing six million dollars in cash and jewelry. After some members purchase expensive items against Jimmy's orders and the getaway truck is found by police, he has most of the crew killed. Only Henry and Tommy are spared, as Henry is making money through his Pittsburgh connection, and Tommy is about to become a made man. However, Tommy is killed when he arrives at the bogus initiation ceremony, in retribution for murdering Batts.By 1980, Henry has become a nervous wreck due to heavy cocaine use. He sets up another drug deal with his Pittsburgh associates but is arrested by narcotics agents and incarcerated. After bailing him out, Karen explains that she flushed $60,000 worth of cocaine down the toilet to prevent FBI agents from finding it during their raid, leaving the Hills penniless.Feeling betrayed by Henry's drug dealing, and realizing that he is a liability, Paulie gives him $3,200 and ends their association. Henry meets Jimmy at a diner and is asked to travel to a hit assignment, but the request makes him suspicious. Realizing that Jimmy plans to have him killed, Henry decides to finally become an informant and enroll with his family in the witness protection program. Henry gives sufficient testimony and evidence in court to have Paulie and Jimmy convicted, and moves to a neighborhood in an undisclosed location, in accordance with the witness protection program. Henry describes his unhappiness by leaving his exciting and turbulent gangster life, feeling condemned to live a boring, average life as a schnook.\n",
            "Key Scene: Joe Pesci's character Tommy DeVito shoots young Spider in the foot for not getting him a drink.\n",
            "Genre: Biography, Crime, Drama\n",
            "Released: 1990\n"
          ]
        },
        {
          "name": "stderr",
          "output_type": "stream",
          "text": [
            "<ipython-input-72-2116943073>:1: DeprecationWarning: Passing transport options in the API method is deprecated. Use 'Elasticsearch.options()' instead.\n",
            "  response = client.search(\n"
          ]
        }
      ],
      "source": [
        "response = client.search(\n",
        "    index=index_name,\n",
        "    size=5,\n",
        "    retriever={\n",
        "        \"rrf\": {\n",
        "            \"retrievers\": [\n",
        "                {\n",
        "                    \"standard\": {\n",
        "                      \"query\": {\n",
        "                        \"bool\": {\n",
        "                            \"must\": [{\"match\": {\"plot\": {\"query\": query_text}}}],\n",
        "                            \"must_not\": [{\"range\": {\"released\": {\"lte\": 1991}}}],\n",
        "                        }\n",
        "                    }\n",
        "                  }\n",
        "                },\n",
        "                {\n",
        "                    \"standard\": {\n",
        "                      \"query\": {\n",
        "                        \"match\": {\n",
        "                            \"plot_semantic\": {\"query\": query_text},\n",
        "                        }\n",
        "                    }\n",
        "                  }\n",
        "                }\n",
        "            ]\n",
        "        }\n",
        "    },\n",
        "    request_timeout=90\n",
        ")\n",
        "print(pretty_search_response(response))"
      ]
    },
    {
      "cell_type": "markdown",
      "metadata": {
        "id": "4XT15c8JXttr"
      },
      "source": [
        "# Pahse III: Generation and Observability"
      ]
    },
    {
      "cell_type": "code",
      "execution_count": null,
      "metadata": {
        "id": "9BbuhelO_OvV"
      },
      "outputs": [],
      "source": [
        "# @title Observability - Setup\n",
        "# Import Libraries\n",
        "import os\n",
        "import torch\n",
        "import time\n",
        "import base64\n",
        "from threading import Thread\n",
        "from transformers import AutoTokenizer, AutoModelForCausalLM, TextIteratorStreamer\n",
        "\n",
        "# OpenTelemetry Imports for tracing\n",
        "from opentelemetry import trace\n",
        "from opentelemetry.sdk.trace import TracerProvider\n",
        "from opentelemetry.sdk.trace.export import BatchSpanProcessor\n",
        "from opentelemetry.exporter.otlp.proto.http.trace_exporter import OTLPSpanExporter\n",
        "from opentelemetry.sdk.resources import Resource"
      ]
    },
    {
      "cell_type": "code",
      "execution_count": null,
      "metadata": {
        "id": "e5T74hD2XQ8f"
      },
      "outputs": [],
      "source": [
        "# @title Step 3: Core Functions (Setup, Model Loading, Generation)\n",
        "\n",
        "def setup_opentelemetry_from_env():\n",
        "    \"\"\"\n",
        "    Configures and initializes OpenTelemetry by reading configuration from\n",
        "    standard environment variables.\n",
        "\n",
        "    Returns:\n",
        "        opentelemetry.trace.Tracer: An OpenTelemetry Tracer instance.\n",
        "    \"\"\"\n",
        "    print(\"Setting up OpenTelemetry exporter from environment variables...\")\n",
        "    # The OTLPSpanExporter will automatically read credentials and endpoint from the environment\n",
        "    otlp_exporter = OTLPSpanExporter()\n",
        "\n",
        "    # The Resource is also created automatically from the OTEL_RESOURCE_ATTRIBUTES env var\n",
        "    # We pass an empty Resource.create() to initialize it from the environment\n",
        "    trace.set_tracer_provider(TracerProvider(resource=Resource.create()))\n",
        "    tracer_provider = trace.get_tracer_provider()\n",
        "\n",
        "    # Use a BatchSpanProcessor to send spans in batches\n",
        "    span_processor = BatchSpanProcessor(otlp_exporter)\n",
        "    tracer_provider.add_span_processor(span_processor)\n",
        "\n",
        "    print(\"OpenTelemetry setup complete.\")\n",
        "    # Return a tracer instance for use in the application\n",
        "    return trace.get_tracer(__name__)\n",
        "\n",
        "def load_huggingface_model(model_id):\n",
        "    \"\"\"\n",
        "    Loads a Hugging Face model and its tokenizer without quantization.\n",
        "\n",
        "    Args:\n",
        "        model_id (str): The identifier of the model on the Hugging Face Hub.\n",
        "\n",
        "    Returns:\n",
        "        tuple: A tuple containing the loaded model and tokenizer.\n",
        "    \"\"\"\n",
        "    print(f\"Loading tokenizer for model: {model_id}\")\n",
        "    tokenizer = AutoTokenizer.from_pretrained(model_id)\n",
        "\n",
        "    print(f\"Loading model: {model_id} (This may take a few minutes)...\")\n",
        "    model = AutoModelForCausalLM.from_pretrained(\n",
        "        model_id,\n",
        "        torch_dtype=torch.bfloat16,\n",
        "        device_map=\"auto\"\n",
        "    )\n",
        "    print(\"Model loaded successfully.\")\n",
        "    return model, tokenizer\n",
        "\n",
        "def generate_and_trace(tracer, model, tokenizer, prompt_text):\n",
        "    \"\"\"\n",
        "    Generates text from a prompt, traces the operation, and captures detailed\n",
        "    performance metrics (Latency, TTFT, TPOT).\n",
        "\n",
        "    Args:\n",
        "        tracer (opentelemetry.trace.Tracer): The OTel tracer instance.\n",
        "        model: The loaded Hugging Face model.\n",
        "        tokenizer: The loaded tokenizer.\n",
        "        prompt_text (str): The input text to provide to the model.\n",
        "\n",
        "    Returns:\n",
        "        str: The generated text response from the model.\n",
        "    \"\"\"\n",
        "    with tracer.start_as_current_span(\"llm-generation\") as span:\n",
        "        print(f\"\\n--- Starting generation for prompt: '{prompt_text}' ---\")\n",
        "        span.set_attribute(\"llm.prompt\", prompt_text)\n",
        "        span.set_attribute(\"llm.model_id\", model.config.name_or_path)\n",
        "\n",
        "        # 1. Prepare inputs and streamer\n",
        "        messages = [\n",
        "            {\"role\": \"system\", \"content\": \"You are a helpful assistant.\"},\n",
        "            {\"role\": \"user\", \"content\": prompt_text}\n",
        "        ]\n",
        "        text = tokenizer.apply_chat_template(\n",
        "            messages,\n",
        "            tokenize=False,\n",
        "            add_generation_prompt=True\n",
        "        )\n",
        "        inputs = tokenizer([text], return_tensors=\"pt\").to(model.device)\n",
        "        streamer = TextIteratorStreamer(tokenizer, skip_prompt=True)\n",
        "\n",
        "        # 2. Run generation in a separate thread to enable streaming\n",
        "        generation_kwargs = dict(inputs, streamer=streamer, max_new_tokens=256)\n",
        "        thread = Thread(target=model.generate, kwargs=generation_kwargs)\n",
        "        thread.start()\n",
        "\n",
        "        # 3. Measure metrics while iterating over the streamed output tokens\n",
        "        start_time = time.time()\n",
        "        first_token_time = None\n",
        "        output_tokens = 0\n",
        "        response_text = \"\"\n",
        "\n",
        "        print(\"Response: \", end=\"\", flush=True)\n",
        "        for new_text in streamer:\n",
        "            if first_token_time is None:\n",
        "                first_token_time = time.time()\n",
        "                ttft = first_token_time - start_time\n",
        "                span.add_event(\"First Token Received\", attributes={\"time_to_first_token_ms\": ttft * 1000})\n",
        "                span.set_attribute(\"llm.metrics.ttft_ms\", round(ttft * 1000, 2))\n",
        "\n",
        "            print(new_text, end=\"\", flush=True)\n",
        "            response_text += new_text\n",
        "            # A more accurate token count would re-tokenize the output. This is a close approximation.\n",
        "            output_tokens += 1\n",
        "\n",
        "        thread.join()\n",
        "        end_time = time.time()\n",
        "        print(\"\\n--- Generation Complete ---\")\n",
        "\n",
        "        # 4. Calculate final metrics and set them as span attributes\n",
        "        total_latency = end_time - start_time\n",
        "        span.set_attribute(\"llm.metrics.latency_ms\", round(total_latency * 1000, 2))\n",
        "        span.set_attribute(\"llm.response\", response_text)\n",
        "        span.set_attribute(\"llm.metrics.output_tokens\", output_tokens)\n",
        "\n",
        "        if output_tokens > 1 and first_token_time is not None:\n",
        "            tpot = (end_time - first_token_time) / (output_tokens - 1)\n",
        "            span.set_attribute(\"llm.metrics.tpot_ms\", round(tpot * 1000, 2))\n",
        "            print(f\"\\n[Metrics] TPOT: {tpot*1000:.2f} ms per token\")\n",
        "\n",
        "        print(f\"[Metrics] TTFT: {ttft*1000:.2f} ms\" if first_token_time else \"[Metrics] TTFT: N/A\")\n",
        "        print(f\"[Metrics] Total Latency: {total_latency*1000:.2f} ms\")\n",
        "        print(f\"[Metrics] Output Tokens: {output_tokens}\")\n",
        "\n",
        "        return response_text"
      ]
    },
    {
      "cell_type": "code",
      "execution_count": null,
      "metadata": {
        "id": "9TSMYLBCXTA8"
      },
      "outputs": [],
      "source": [
        "def main(prompt):\n",
        "    \"\"\"\n",
        "    Main function to orchestrate the setup, model loading, and generation.\n",
        "    \"\"\"\n",
        "    # --- Configuration via Environment Variables ---\n",
        "    # IMPORTANT: Replace with your Elasticsearch endpoint and credentials\n",
        "    os.environ[\"OTEL_EXPORTER_OTLP_ENDPOINT\"] = \"\"\n",
        "    os.environ[\"OTEL_EXPORTER_OTLP_HEADERS\"] = \"\"\n",
        "    os.environ[\"OTEL_RESOURCE_ATTRIBUTES\"] = \"service.name=tmls-2025-workshop-app,service.version=1.0,deployment.environment=test\"\n",
        "\n",
        "    # --- Static Configuration ---\n",
        "    MODEL_ID = \"Qwen/Qwen2.5-1.5B-Instruct\"\n",
        "\n",
        "    # --- Execution ---\n",
        "    tracer = setup_opentelemetry_from_env()\n",
        "    model, tokenizer = load_huggingface_model(MODEL_ID)\n",
        "    response = generate_and_trace(tracer, model, tokenizer, prompt)\n",
        "\n",
        "    print(\"\\n---\")\n",
        "    print(\"Trace data has been sent to your Elasticsearch cluster.\")"
      ]
    },
    {
      "cell_type": "code",
      "execution_count": null,
      "metadata": {
        "colab": {
          "base_uri": "https://localhost:8080/"
        },
        "id": "uBgisiiShCoR",
        "outputId": "1006a3e5-76a1-43ea-d099-f0becb34e581"
      },
      "outputs": [
        {
          "name": "stderr",
          "output_type": "stream",
          "text": [
            "WARNING:opentelemetry.trace:Overriding of current TracerProvider is not allowed\n"
          ]
        },
        {
          "name": "stdout",
          "output_type": "stream",
          "text": [
            "Setting up OpenTelemetry exporter from environment variables...\n",
            "OpenTelemetry setup complete.\n",
            "Loading tokenizer for model: Qwen/Qwen2.5-1.5B-Instruct\n",
            "Loading model: Qwen/Qwen2.5-1.5B-Instruct (This may take a few minutes)...\n",
            "Model loaded successfully.\n",
            "\n",
            "--- Starting generation for prompt: 'Write a short story that begins with the sentence: \"The antique map was blank, except for a single, ominous-looking symbol in the center.\"' ---\n",
            "Response: The antique map was blank, except for a single, ominous-looking symbol in the center. It was an old atlas, made of thick leather and covered in faded wood grain. The symbols on it were meant to guide travelers through unknown territories, but this one seemed different.\n",
            "\n",
            "As I picked up the map, my fingers traced over its worn surface, trying to make sense of what lay hidden within those lines and dots. But no matter how hard I looked, there wasn't anything else there - just that one strange symbol.\n",
            "\n",
            "I couldn't shake the feeling that something terrible would happen if I tried to use the map again. So instead, I left it where I found it, tucked away among the other relics in my attic. And though I never thought to look at it again, I knew deep down that the mysterious symbol still haunted me, waiting to be discovered.<|im_end|>\n",
            "--- Generation Complete ---\n",
            "\n",
            "[Metrics] TPOT: 44.18 ms per token\n",
            "[Metrics] TTFT: 242.81 ms\n",
            "[Metrics] Total Latency: 7929.34 ms\n",
            "[Metrics] Output Tokens: 175\n",
            "\n",
            "---\n",
            "Trace data has been sent to your Elasticsearch cluster.\n",
            "Setting up OpenTelemetry exporter from environment variables...\n"
          ]
        },
        {
          "name": "stderr",
          "output_type": "stream",
          "text": [
            "WARNING:opentelemetry.trace:Overriding of current TracerProvider is not allowed\n"
          ]
        },
        {
          "name": "stdout",
          "output_type": "stream",
          "text": [
            "OpenTelemetry setup complete.\n",
            "Loading tokenizer for model: Qwen/Qwen2.5-1.5B-Instruct\n",
            "Loading model: Qwen/Qwen2.5-1.5B-Instruct (This may take a few minutes)...\n",
            "Model loaded successfully.\n",
            "\n",
            "--- Starting generation for prompt: 'Generate five catchy slogans for a new brand of sparkling water infused with botanicals.' ---\n",
            "Response: 1. \"Sparkling Life, Naturally Botanical\"\n",
            "2. \"Drink the Earth's Refreshing Spritzes\"\n",
            "3. \"Botanical Sparkle: Purely Packed with Nature\"\n",
            "4. \"Fresh from the Source: A Burst of Botanical Bliss\"\n",
            "5. \"Nature's Flavors in Every Sip\"<|im_end|>\n",
            "--- Generation Complete ---\n",
            "\n",
            "[Metrics] TPOT: 41.56 ms per token\n",
            "[Metrics] TTFT: 232.83 ms\n",
            "[Metrics] Total Latency: 3017.31 ms\n",
            "[Metrics] Output Tokens: 68\n",
            "\n",
            "---\n",
            "Trace data has been sent to your Elasticsearch cluster.\n",
            "Setting up OpenTelemetry exporter from environment variables...\n"
          ]
        },
        {
          "name": "stderr",
          "output_type": "stream",
          "text": [
            "WARNING:opentelemetry.trace:Overriding of current TracerProvider is not allowed\n"
          ]
        },
        {
          "name": "stdout",
          "output_type": "stream",
          "text": [
            "OpenTelemetry setup complete.\n",
            "Loading tokenizer for model: Qwen/Qwen2.5-1.5B-Instruct\n",
            "Loading model: Qwen/Qwen2.5-1.5B-Instruct (This may take a few minutes)...\n",
            "Model loaded successfully.\n",
            "\n",
            "--- Starting generation for prompt: 'Write a short, witty dialogue for a scene where a time traveler tries to explain a smartphone to a medieval blacksmith.' ---\n",
            "Response: Time traveler: \"So, you've got this thing that can take pictures and videos? And it has all these apps that let you do anything from playing games to watching movies?\"\n",
            "\n",
            "Medieval blacksmith: \"Yes, I have such an amazing tool! It's called a hammer.\"\n",
            "\n",
            "Time traveler: \"A what?!\"\n",
            "\n",
            "Medieval blacksmith: \"A hammer! You know, the one we use to shape metal into tools and weapons.\"\n",
            "\n",
            "Time traveler: \"Oh, right! So how does it work?\"\n",
            "\n",
            "Medieval blacksmith: \"Well, when you hit the head of the hammer on the anvil, it creates heat which melts the metal until it becomes soft enough to be shaped by hand.\"\n",
            "\n",
            "Time traveler: \"Wow, that sounds pretty impressive. But why would anyone need something like that in the 21st century?\"\n",
            "\n",
            "Medieval blacksmith: \"In the Middle Ages, people didn't always have access to electricity or even paper money. They used their hands and simple tools like hammers to create things they needed.\"<|im_end|>\n",
            "--- Generation Complete ---\n",
            "\n",
            "[Metrics] TPOT: 45.84 ms per token\n",
            "[Metrics] TTFT: 131.93 ms\n",
            "[Metrics] Total Latency: 9759.17 ms\n",
            "[Metrics] Output Tokens: 211\n",
            "\n",
            "---\n",
            "Trace data has been sent to your Elasticsearch cluster.\n",
            "Setting up OpenTelemetry exporter from environment variables...\n"
          ]
        },
        {
          "name": "stderr",
          "output_type": "stream",
          "text": [
            "WARNING:opentelemetry.trace:Overriding of current TracerProvider is not allowed\n"
          ]
        },
        {
          "name": "stdout",
          "output_type": "stream",
          "text": [
            "OpenTelemetry setup complete.\n",
            "Loading tokenizer for model: Qwen/Qwen2.5-1.5B-Instruct\n",
            "Loading model: Qwen/Qwen2.5-1.5B-Instruct (This may take a few minutes)...\n",
            "Model loaded successfully.\n",
            "\n",
            "--- Starting generation for prompt: 'Compose a poem about the feeling of the first crisp autumn day in a bustling city.' ---\n",
            "Response: In the heart of the city, where the crowds hum,\n",
            "A crisp autumn day breaks through the gloom.\n",
            "The trees stand tall and proud, their leaves now fallen,\n",
            "But still they whisper secrets to the sun.\n",
            "\n",
            "The air is cool as it brushes past my face,\n",
            "As if nature herself has turned her hair.\n",
            "And everywhere I look, there's a sense of peace,\n",
            "As if all the worries have taken flight.\n",
            "\n",
            "I step outside into the brisk, clear sky,\n",
            "Where the world seems to pause for just a while.\n",
            "The sound of footsteps echoes down the street,\n",
            "As people hurry by with smiles on their faces.\n",
            "\n",
            "The city lights flicker like distant stars,\n",
            "Reflecting off the wet pavement stones.\n",
            "But even though the world seems so bright,\n",
            "There's something comforting about this quiet time.\n",
            "\n",
            "For in the midst of chaos and noise,\n",
            "There's always a moment when you can be free.\n",
            "So take a deep breath, let your spirit soar,\n",
            "And embrace the beauty that surrounds us all.<|im_end|>\n",
            "--- Generation Complete ---\n",
            "\n",
            "[Metrics] TPOT: 45.60 ms per token\n",
            "[Metrics] TTFT: 132.58 ms\n",
            "[Metrics] Total Latency: 9252.67 ms\n",
            "[Metrics] Output Tokens: 201\n",
            "\n",
            "---\n",
            "Trace data has been sent to your Elasticsearch cluster.\n"
          ]
        },
        {
          "name": "stderr",
          "output_type": "stream",
          "text": [
            "WARNING:opentelemetry.trace:Overriding of current TracerProvider is not allowed\n"
          ]
        },
        {
          "name": "stdout",
          "output_type": "stream",
          "text": [
            "Setting up OpenTelemetry exporter from environment variables...\n",
            "OpenTelemetry setup complete.\n",
            "Loading tokenizer for model: Qwen/Qwen2.5-1.5B-Instruct\n",
            "Loading model: Qwen/Qwen2.5-1.5B-Instruct (This may take a few minutes)...\n",
            "Model loaded successfully.\n",
            "\n",
            "--- Starting generation for prompt: 'Create a brief plot summary for the film Inception, which involves a thief who steals information by entering people's dreams. ' ---\n",
            "Response: Inception is an action-thriller that follows a skilled thief named Cobb (Leonardo DiCaprio) who specializes in stealing information from other people's minds through a technique called \"inception.\" He uses this ability to steal secrets and gain access to valuable information.\n",
            "\n",
            "However, things take a dark turn when Cobb becomes entangled in a criminal conspiracy led by his former partner and mentor, Arthur (Joseph Gordon-Levitt). The group plans to use Cobb's skills to infiltrate the mind of a powerful businessman, Leonardo (Tom Hardy), in order to steal one of his most prized possessions - a priceless painting known as \"The Blinding Light.\"\n",
            "\n",
            "As Cobb tries to stop them, he discovers that the more successful his inceptions become, the more they affect his own psyche, causing him to lose touch with reality. This leads to a dangerous game of cat-and-mouse between Cobb and the conspirators, as they race against time to retrieve the painting before it falls into the wrong hands.\n",
            "\n",
            "Throughout the film, Cobb must navigate complex psychological landscapes and fight off relentless enemies while trying to maintain control over his abilities. As he delves deeper into the depths of human thought and perception, Cobb begins to question whether the ends justify the means of his pursuit of power and information.\n",
            "--- Generation Complete ---\n",
            "\n",
            "[Metrics] TPOT: 45.12 ms per token\n",
            "[Metrics] TTFT: 127.75 ms\n",
            "[Metrics] Total Latency: 11678.68 ms\n",
            "[Metrics] Output Tokens: 257\n",
            "\n",
            "---\n",
            "Trace data has been sent to your Elasticsearch cluster.\n"
          ]
        },
        {
          "data": {
            "text/plain": [
              "[None, None, None, None, None]"
            ]
          },
          "execution_count": 13,
          "metadata": {},
          "output_type": "execute_result"
        }
      ],
      "source": [
        "llm_prompts = [\n",
        "    \"Write a short story that begins with the sentence: \\\"The antique map was blank, except for a single, ominous-looking symbol in the center.\\\"\",\n",
        "    \"Generate five catchy slogans for a new brand of sparkling water infused with botanicals.\",\n",
        "    \"Write a short, witty dialogue for a scene where a time traveler tries to explain a smartphone to a medieval blacksmith.\",\n",
        "    \"Compose a poem about the feeling of the first crisp autumn day in a bustling city.\",\n",
        "    \"Create a brief plot summary for the film Inception, which involves a thief who steals information by entering people's dreams. \",\n",
        "    \"Summarize the key differences between nuclear fission and nuclear fusion in a simple, easy-to-understand paragraph.\",\n",
        "    \"Create a table that compares the pros and cons of working from home versus working in a traditional office environment.\",\n",
        "    \"Explain the concept of Artificial Intelligence to a 10-year-old.\",\n",
        "    \"Describe the historical significance of the Silk Road and its impact on trade and culture.\",\n",
        "    \"List the main duties of a character in the film The Godfather who acts as a `consigliere`, or advisor, for a crime family. \",\n",
        "    \"Draft a professional but friendly email to a new team member, welcoming them to the company and outlining their first-day schedule.\",\n",
        "    \"I have chicken breast, broccoli, rice, and soy sauce. Create a simple and healthy recipe I can make for dinner tonight.\",\n",
        "    \"Outline a 3-day travel itinerary for a first-time visitor to Toronto, including a mix of popular attractions and local experiences.\",\n",
        "    \"I need to ask my boss for a raise. Write a short script for me to use as a starting point for the conversation, focusing on my accomplishments from the past year.\",\n",
        "    \"Create a workout plan for someone who wants to start exercising, focusing on 30-minute bodyweight routines they can do at home three times a week.\",\n",
        "    \"Write a Python function that takes a string as input and returns `True` if it's a palindrome and `False` if it's not.\",\n",
        "    \"Explain what this line of SQL code does: `SELECT ProductName, Price FROM Products WHERE CategoryID = 1 ORDER BY Price DESC;`\",\n",
        "    \"A farmer has to cross a river with a fox, a chicken, and a sack of grain. The boat can only hold the farmer and one other item. If left alone, the fox will eat the chicken, and the chicken will eat the grain. How does the farmer get everything across the river safely?\",\n",
        "    \"Debug this simple Javascript code snippet that is supposed to change the text of a button when clicked: `let button = document.getElementById(\\\"myButton\\\"); button.onClick = function() { document.getElementById(\\\"myButton\\\").text = \\\"Clicked!\\\"; }`\",\n",
        "    \"You are a senior software developer. A junior developer is struggling to choose between using a SQL or NoSQL database for a new social media application. Explain the key considerations they should take into account to make the right decision.\"\n",
        "]\n",
        "\n",
        "[main(prompt) for prompt in llm_prompts[:5]]"
      ]
    },
    {
      "cell_type": "markdown",
      "metadata": {
        "id": "yaES88ClgP7c"
      },
      "source": []
    }
  ],
  "metadata": {
    "accelerator": "GPU",
    "colab": {
      "gpuType": "T4",
      "provenance": [],
      "include_colab_link": true
    },
    "kernelspec": {
      "display_name": "Python 3",
      "name": "python3"
    },
    "language_info": {
      "name": "python"
    }
  },
  "nbformat": 4,
  "nbformat_minor": 0
}